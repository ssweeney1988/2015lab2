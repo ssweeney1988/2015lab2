{
 "cells": [
  {
   "cell_type": "code",
   "execution_count": null,
   "metadata": {
    "collapsed": true
   },
   "outputs": [],
   "source": [
    "https://docs.google.com/spreadsheets/d/1uN_4ds9T59BicDncCTXqLxSCDtiOxgktCZ8w1vmEPaU/pub?output=csv"
   ]
  },
  {
   "cell_type": "code",
   "execution_count": 53,
   "metadata": {
    "collapsed": true
   },
   "outputs": [],
   "source": [
    "## all imports\n",
    "from IPython.display import HTML\n",
    "import chardet\n",
    "import io\n",
    "import numpy as np\n",
    "import os\n",
    "import urllib.request\n",
    "from urllib.request import urlopen\n",
    "from bs4 import BeautifulSoup\n",
    "from time import sleep\n",
    "import requests\n",
    "import operator\n",
    "import socket\n",
    "import _pickle\n",
    "import re # regular expressions\n",
    "\n",
    "from pandas import Series\n",
    "import pandas as pd\n",
    "from pandas import DataFrame\n",
    "\n",
    "import matplotlib\n",
    "import matplotlib.pyplot as plt\n",
    "%matplotlib inline\n",
    "\n",
    "import seaborn as sns\n",
    "sns.set_context(\"talk\")\n",
    "sns.set_style(\"white\")\n",
    "\n",
    "#from secret import *"
   ]
  },
  {
   "cell_type": "markdown",
   "metadata": {},
   "source": [
    "### IMPORT CSV FILE"
   ]
  },
  {
   "cell_type": "code",
   "execution_count": 54,
   "metadata": {
    "collapsed": true
   },
   "outputs": [],
   "source": [
    "import requests\n",
    "r = requests.get('https://docs.google.com/spreadsheets/d/1uN_4ds9T59BicDncCTXqLxSCDtiOxgktCZ8w1vmEPaU/pub?output=csv')\n",
    "data = r.content"
   ]
  },
  {
   "cell_type": "markdown",
   "metadata": {},
   "source": [
    "### READ CSV FILE"
   ]
  },
  {
   "cell_type": "code",
   "execution_count": 55,
   "metadata": {
    "collapsed": false
   },
   "outputs": [],
   "source": [
    "df = pd.read_csv(io.BytesIO(data), infer_datetime_format=True,\n",
    "                           parse_dates=['Date'],\n",
    "                           dayfirst=True )"
   ]
  },
  {
   "cell_type": "code",
   "execution_count": 56,
   "metadata": {
    "collapsed": false
   },
   "outputs": [
    {
     "data": {
      "text/html": [
       "<div>\n",
       "<table border=\"1\" class=\"dataframe\">\n",
       "  <thead>\n",
       "    <tr style=\"text-align: right;\">\n",
       "      <th></th>\n",
       "      <th>City</th>\n",
       "      <th>Date</th>\n",
       "      <th>Kick Off (local)</th>\n",
       "      <th>Home Team</th>\n",
       "      <th>Away Team</th>\n",
       "      <th>Venue</th>\n",
       "      <th>Home Score</th>\n",
       "      <th>Away Score</th>\n",
       "      <th>Home Goals</th>\n",
       "      <th>Home Behinds</th>\n",
       "      <th>Away Goals</th>\n",
       "      <th>Away Behinds</th>\n",
       "      <th>Home Odds</th>\n",
       "      <th>Away Odds</th>\n",
       "      <th>Rain</th>\n",
       "      <th>URL</th>\n",
       "    </tr>\n",
       "  </thead>\n",
       "  <tbody>\n",
       "    <tr>\n",
       "      <th>0</th>\n",
       "      <td>Melbourne</td>\n",
       "      <td>2017-04-16</td>\n",
       "      <td>15:20</td>\n",
       "      <td>Hawthorn</td>\n",
       "      <td>Geelong</td>\n",
       "      <td>MCG</td>\n",
       "      <td>48</td>\n",
       "      <td>134</td>\n",
       "      <td>6</td>\n",
       "      <td>12</td>\n",
       "      <td>20</td>\n",
       "      <td>14</td>\n",
       "      <td>2.87</td>\n",
       "      <td>1.42</td>\n",
       "      <td>NaN</td>\n",
       "      <td>http://www.bom.gov.au/jsp/ncc/cdio/weatherData...</td>\n",
       "    </tr>\n",
       "    <tr>\n",
       "      <th>1</th>\n",
       "      <td>Brisbane</td>\n",
       "      <td>2017-04-16</td>\n",
       "      <td>16:40</td>\n",
       "      <td>Brisbane</td>\n",
       "      <td>Richmond</td>\n",
       "      <td>Gabba</td>\n",
       "      <td>67</td>\n",
       "      <td>119</td>\n",
       "      <td>10</td>\n",
       "      <td>7</td>\n",
       "      <td>17</td>\n",
       "      <td>17</td>\n",
       "      <td>3.17</td>\n",
       "      <td>1.35</td>\n",
       "      <td>0.0</td>\n",
       "      <td>http://www.bom.gov.au/jsp/ncc/cdio/weatherData...</td>\n",
       "    </tr>\n",
       "    <tr>\n",
       "      <th>2</th>\n",
       "      <td>Melbourne</td>\n",
       "      <td>2017-04-16</td>\n",
       "      <td>15:20</td>\n",
       "      <td>Collingwood</td>\n",
       "      <td>St Kilda</td>\n",
       "      <td>Etihad Stadium</td>\n",
       "      <td>55</td>\n",
       "      <td>69</td>\n",
       "      <td>7</td>\n",
       "      <td>13</td>\n",
       "      <td>9</td>\n",
       "      <td>15</td>\n",
       "      <td>1.62</td>\n",
       "      <td>2.29</td>\n",
       "      <td>NaN</td>\n",
       "      <td>http://www.bom.gov.au/jsp/ncc/cdio/weatherData...</td>\n",
       "    </tr>\n",
       "    <tr>\n",
       "      <th>3</th>\n",
       "      <td>Adelaide</td>\n",
       "      <td>2017-04-15</td>\n",
       "      <td>19:10</td>\n",
       "      <td>Adelaide</td>\n",
       "      <td>Essendon</td>\n",
       "      <td>Adelaide Oval</td>\n",
       "      <td>153</td>\n",
       "      <td>88</td>\n",
       "      <td>24</td>\n",
       "      <td>9</td>\n",
       "      <td>13</td>\n",
       "      <td>10</td>\n",
       "      <td>1.16</td>\n",
       "      <td>5.29</td>\n",
       "      <td>0.0</td>\n",
       "      <td>http://www.bom.gov.au/jsp/ncc/cdio/weatherData...</td>\n",
       "    </tr>\n",
       "    <tr>\n",
       "      <th>4</th>\n",
       "      <td>Melbourne</td>\n",
       "      <td>2017-04-15</td>\n",
       "      <td>19:25</td>\n",
       "      <td>Carlton</td>\n",
       "      <td>Gold Coast</td>\n",
       "      <td>Etihad Stadium</td>\n",
       "      <td>82</td>\n",
       "      <td>108</td>\n",
       "      <td>12</td>\n",
       "      <td>10</td>\n",
       "      <td>17</td>\n",
       "      <td>6</td>\n",
       "      <td>2.05</td>\n",
       "      <td>1.77</td>\n",
       "      <td>NaN</td>\n",
       "      <td>http://www.bom.gov.au/jsp/ncc/cdio/weatherData...</td>\n",
       "    </tr>\n",
       "  </tbody>\n",
       "</table>\n",
       "</div>"
      ],
      "text/plain": [
       "        City       Date Kick Off (local)    Home Team   Away Team  \\\n",
       "0  Melbourne 2017-04-16            15:20     Hawthorn     Geelong   \n",
       "1   Brisbane 2017-04-16            16:40     Brisbane    Richmond   \n",
       "2  Melbourne 2017-04-16            15:20  Collingwood    St Kilda   \n",
       "3   Adelaide 2017-04-15            19:10     Adelaide    Essendon   \n",
       "4  Melbourne 2017-04-15            19:25      Carlton  Gold Coast   \n",
       "\n",
       "            Venue  Home Score  Away Score  Home Goals  Home Behinds  \\\n",
       "0             MCG          48         134           6            12   \n",
       "1           Gabba          67         119          10             7   \n",
       "2  Etihad Stadium          55          69           7            13   \n",
       "3   Adelaide Oval         153          88          24             9   \n",
       "4  Etihad Stadium          82         108          12            10   \n",
       "\n",
       "   Away Goals  Away Behinds  Home Odds  Away Odds  Rain  \\\n",
       "0          20            14       2.87       1.42   NaN   \n",
       "1          17            17       3.17       1.35   0.0   \n",
       "2           9            15       1.62       2.29   NaN   \n",
       "3          13            10       1.16       5.29   0.0   \n",
       "4          17             6       2.05       1.77   NaN   \n",
       "\n",
       "                                                 URL  \n",
       "0  http://www.bom.gov.au/jsp/ncc/cdio/weatherData...  \n",
       "1  http://www.bom.gov.au/jsp/ncc/cdio/weatherData...  \n",
       "2  http://www.bom.gov.au/jsp/ncc/cdio/weatherData...  \n",
       "3  http://www.bom.gov.au/jsp/ncc/cdio/weatherData...  \n",
       "4  http://www.bom.gov.au/jsp/ncc/cdio/weatherData...  "
      ]
     },
     "execution_count": 56,
     "metadata": {},
     "output_type": "execute_result"
    }
   ],
   "source": [
    "df.head()"
   ]
  },
  {
   "cell_type": "markdown",
   "metadata": {},
   "source": [
    "### ONLY USE DATA WHERE RAIN HAS A VALUE"
   ]
  },
  {
   "cell_type": "code",
   "execution_count": 57,
   "metadata": {
    "collapsed": false
   },
   "outputs": [],
   "source": [
    "df = df[df.Rain >= 0.0]"
   ]
  },
  {
   "cell_type": "markdown",
   "metadata": {},
   "source": [
    "### CONVERT ALL RAIN COLUMN TO FLOAT"
   ]
  },
  {
   "cell_type": "code",
   "execution_count": 59,
   "metadata": {
    "collapsed": false,
    "scrolled": true
   },
   "outputs": [
    {
     "data": {
      "text/plain": [
       "1        0.0\n",
       "3        0.0\n",
       "9        0.0\n",
       "18       0.0\n",
       "22       0.2\n",
       "23       0.0\n",
       "25       2.8\n",
       "26       2.8\n",
       "28       0.0\n",
       "29       0.0\n",
       "30      34.0\n",
       "31       0.0\n",
       "32       0.0\n",
       "33       2.0\n",
       "34       0.0\n",
       "35       0.0\n",
       "36       0.0\n",
       "37       0.0\n",
       "38       0.6\n",
       "39       0.0\n",
       "40      15.2\n",
       "41       0.0\n",
       "42       2.8\n",
       "43       0.6\n",
       "44       8.8\n",
       "45       7.0\n",
       "46       0.0\n",
       "47       0.0\n",
       "48       1.0\n",
       "49       0.2\n",
       "        ... \n",
       "1512     0.0\n",
       "1513     0.0\n",
       "1515     0.0\n",
       "1516     0.0\n",
       "1517     0.8\n",
       "1519     0.0\n",
       "1520    13.0\n",
       "1521     0.0\n",
       "1522     2.6\n",
       "1523     0.0\n",
       "1524     0.0\n",
       "1525     1.4\n",
       "1526     0.0\n",
       "1527     0.0\n",
       "1528     1.0\n",
       "1529     0.0\n",
       "1530     1.4\n",
       "1531     1.0\n",
       "1532     6.4\n",
       "1533     0.0\n",
       "1534     0.0\n",
       "1535     0.2\n",
       "1536    14.8\n",
       "1537     5.8\n",
       "1538     0.4\n",
       "1539     0.0\n",
       "1540     0.0\n",
       "1541     8.8\n",
       "1542     2.6\n",
       "1543     0.2\n",
       "Name: Rain, dtype: float64"
      ]
     },
     "execution_count": 59,
     "metadata": {},
     "output_type": "execute_result"
    }
   ],
   "source": [
    "df['Rain'].apply(float)"
   ]
  },
  {
   "cell_type": "code",
   "execution_count": 76,
   "metadata": {
    "collapsed": false
   },
   "outputs": [
    {
     "name": "stdout",
     "output_type": "stream",
     "text": [
      "230\n"
     ]
    }
   ],
   "source": [
    "test = df[df.Rain >= 3.0]\n",
    "print(test.Rain.count())"
   ]
  },
  {
   "cell_type": "markdown",
   "metadata": {},
   "source": [
    "## users who are female and programmers\n",
    "selected_users = users[(users.sex == 'F') & \n",
    "                       (users.occupation == 'programmer')]\n",
    "\n",
    "## show statistic summary\n",
    "print selected_users.describe()\n",
    "\n",
    "## alternatives:\n",
    "print selected_users.age.mean()\n",
    "print selected_users['age'].mean("
   ]
  },
  {
   "cell_type": "code",
   "execution_count": null,
   "metadata": {
    "collapsed": true
   },
   "outputs": [],
   "source": []
  }
 ],
 "metadata": {
  "kernelspec": {
   "display_name": "Python 3",
   "language": "python",
   "name": "python3"
  },
  "language_info": {
   "codemirror_mode": {
    "name": "ipython",
    "version": 3
   },
   "file_extension": ".py",
   "mimetype": "text/x-python",
   "name": "python",
   "nbconvert_exporter": "python",
   "pygments_lexer": "ipython3",
   "version": "3.6.0"
  }
 },
 "nbformat": 4,
 "nbformat_minor": 2
}
