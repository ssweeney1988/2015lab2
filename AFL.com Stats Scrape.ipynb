{
 "cells": [
  {
   "cell_type": "code",
   "execution_count": 7,
   "metadata": {
    "collapsed": false
   },
   "outputs": [],
   "source": [
    "## all imports\n",
    "from IPython.display import HTML\n",
    "import chardet\n",
    "import io\n",
    "import numpy as np\n",
    "import os\n",
    "import urllib.request\n",
    "from urllib.request import urlopen\n",
    "from bs4 import BeautifulSoup\n",
    "from time import sleep\n",
    "import requests\n",
    "import operator\n",
    "import socket\n",
    "import _pickle\n",
    "import re # regular expressions\n",
    "\n",
    "from pandas import Series\n",
    "import pandas as pd\n",
    "from pandas import DataFrame\n",
    "\n",
    "import matplotlib\n",
    "import matplotlib.pyplot as plt\n",
    "%matplotlib inline\n",
    "\n",
    "import seaborn as sns\n",
    "sns.set_context(\"talk\")\n",
    "sns.set_style(\"white\")\n",
    "\n",
    "from selenium import webdriver\n",
    "from selenium.webdriver.common.keys import Keys\n",
    "from selenium.webdriver.support.ui import WebDriverWait\n",
    "from selenium.webdriver.support import expected_conditions as EC\n",
    "\n",
    "#from secret import *"
   ]
  },
  {
   "cell_type": "markdown",
   "metadata": {},
   "source": [
    "if os.path.isfile(\"Afl_updated - Sheet1.csv\"):\n",
    "    filepath = \"Afl_updated - Sheet1.csv\"\n",
    "    print (\"loading from file\")\n",
    "else:\n",
    "    filepath = \"https://docs.google.com/spreadsheets/d/1uN_4ds9T59BicDncCTXqLxSCDtiOxgktCZ8w1vmEPaU/pub?output=csv\"\n",
    "    print (\"loading from the internet\")"
   ]
  },
  {
   "cell_type": "markdown",
   "metadata": {},
   "source": [
    "df = pd.read_csv(filepath, infer_datetime_format=True,\n",
    "                           parse_dates=['Date'],\n",
    "                           dayfirst=True )\n",
    "print (\"done\")"
   ]
  },
  {
   "cell_type": "markdown",
   "metadata": {},
   "source": [
    "df.head(2)"
   ]
  },
  {
   "cell_type": "code",
   "execution_count": 80,
   "metadata": {
    "collapsed": false
   },
   "outputs": [],
   "source": [
    "req = requests.get('http://www.afl.com.au/stats')\n",
    "soup = BeautifulSoup(req.text, 'html.parser')\n",
    "stats_table = soup.find(\"div\", { \"class\" : \"stats-options\" })\n",
    "\n",
    "# This is the Year, Round, Match Console\n",
    "Selector = stats_table.find(\"div\", { \"class\" : \"filters\" })\n",
    "\n",
    "\n"
   ]
  },
  {
   "cell_type": "code",
   "execution_count": 87,
   "metadata": {
    "collapsed": false
   },
   "outputs": [],
   "source": [
    "def get_season(link):\n",
    "    Year_Selector = filters.find(\"select\", { \"id\" : \"selTeamSeason\" })\n",
    "    Years = Year_Selector.find_all('option')\n",
    "    print (Years)\n",
    "    #for year in Years:\n",
    "        #print (year.string)"
   ]
  },
  {
   "cell_type": "code",
   "execution_count": 89,
   "metadata": {
    "collapsed": false,
    "scrolled": true
   },
   "outputs": [
    {
     "name": "stdout",
     "output_type": "stream",
     "text": [
      "[<option selected=\"true\" value=\"CD_S2017014\">2017</option>, <option value=\"CD_S2016014\">2016</option>, <option value=\"CD_S2015014\">2015</option>, <option value=\"CD_S2014014\">2014</option>, <option value=\"CD_S2013014\">2013</option>, <option value=\"CD_S2012014\">2012</option>, <option value=\"CD_S2011014\">2011</option>, <option value=\"CD_S2010014\">2010</option>, <option value=\"CD_S2009014\">2009</option>, <option value=\"CD_S2008014\">2008</option>, <option value=\"CD_S2007014\">2007</option>, <option value=\"CD_S2006014\">2006</option>, <option value=\"CD_S2005014\">2005</option>, <option value=\"CD_S2004014\">2004</option>, <option value=\"CD_S2003014\">2003</option>, <option value=\"CD_S2002014\">2002</option>, <option value=\"CD_S2001014\">2001</option>]\n"
     ]
    }
   ],
   "source": [
    "get_season(Selector)"
   ]
  },
  {
   "cell_type": "code",
   "execution_count": 49,
   "metadata": {
    "collapsed": false
   },
   "outputs": [
    {
     "name": "stdout",
     "output_type": "stream",
     "text": [
      "<select class=\"selector sel-xsml\" id=\"selTeamSeason\" name=\"year\" title=\"Season\">\n",
      "<option selected=\"true\" value=\"CD_S2017014\">2017</option>\n",
      "<option value=\"CD_S2016014\">2016</option>\n",
      "<option value=\"CD_S2015014\">2015</option>\n",
      "<option value=\"CD_S2014014\">2014</option>\n",
      "<option value=\"CD_S2013014\">2013</option>\n",
      "<option value=\"CD_S2012014\">2012</option>\n",
      "<option value=\"CD_S2011014\">2011</option>\n",
      "<option value=\"CD_S2010014\">2010</option>\n",
      "<option value=\"CD_S2009014\">2009</option>\n",
      "<option value=\"CD_S2008014\">2008</option>\n",
      "<option value=\"CD_S2007014\">2007</option>\n",
      "<option value=\"CD_S2006014\">2006</option>\n",
      "<option value=\"CD_S2005014\">2005</option>\n",
      "<option value=\"CD_S2004014\">2004</option>\n",
      "<option value=\"CD_S2003014\">2003</option>\n",
      "<option value=\"CD_S2002014\">2002</option>\n",
      "<option value=\"CD_S2001014\">2001</option>\n",
      "</select>\n"
     ]
    }
   ],
   "source": [
    "def get_round(link):\n",
    "    Round_Selector = filters.find(\"select\", { \"id\" : \"selTeamRound\" })\n",
    "    Round = Round_Selector.find_all('option')\n",
    "    #print (Years)\n",
    "    #for year in Years:\n",
    "        #print (year.string)"
   ]
  },
  {
   "cell_type": "code",
   "execution_count": null,
   "metadata": {
    "collapsed": true
   },
   "outputs": [],
   "source": []
  },
  {
   "cell_type": "code",
   "execution_count": null,
   "metadata": {
    "collapsed": true
   },
   "outputs": [],
   "source": []
  }
 ],
 "metadata": {
  "kernelspec": {
   "display_name": "Python 3",
   "language": "python",
   "name": "python3"
  },
  "language_info": {
   "codemirror_mode": {
    "name": "ipython",
    "version": 3
   },
   "file_extension": ".py",
   "mimetype": "text/x-python",
   "name": "python",
   "nbconvert_exporter": "python",
   "pygments_lexer": "ipython3",
   "version": "3.6.0"
  }
 },
 "nbformat": 4,
 "nbformat_minor": 2
}
