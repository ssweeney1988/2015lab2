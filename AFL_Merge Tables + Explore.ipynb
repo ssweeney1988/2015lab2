{
 "cells": [
  {
   "cell_type": "code",
   "execution_count": 1,
   "metadata": {
    "collapsed": true
   },
   "outputs": [],
   "source": [
    "## all imports\n",
    "from IPython.display import HTML\n",
    "import chardet\n",
    "import io\n",
    "import numpy as np\n",
    "np.seterr(divide='ignore', invalid='ignore')\n",
    "import os\n",
    "import urllib.request\n",
    "from urllib.request import urlopen\n",
    "from bs4 import BeautifulSoup\n",
    "from time import sleep\n",
    "import requests\n",
    "import operator\n",
    "import socket\n",
    "import _pickle\n",
    "import math\n",
    "import re # regular expressions\n",
    "\n",
    "from pandas import Series\n",
    "import pandas as pd\n",
    "from pandas import DataFrame\n",
    "\n",
    "import matplotlib\n",
    "import matplotlib.pyplot as plt\n",
    "%matplotlib inline\n",
    "plt.rcParams['figure.figsize'] = (20, 10)\n",
    "import json\n",
    "\n",
    "import seaborn as sns\n",
    "sns.set_context(\"talk\")\n",
    "sns.set_style(\"white\")\n",
    "\n",
    "from selenium import webdriver\n",
    "from selenium.webdriver.support.ui import Select\n",
    "from selenium.webdriver.common.keys import Keys\n",
    "from selenium.webdriver.support.ui import WebDriverWait\n",
    "from selenium.webdriver.support import expected_conditions as EC\n",
    "\n",
    "\n",
    "\n",
    "#from secret import *"
   ]
  },
  {
   "cell_type": "markdown",
   "metadata": {},
   "source": [
    "### LOAD DATA FROM SYSTEM OR WEB"
   ]
  },
  {
   "cell_type": "code",
   "execution_count": 2,
   "metadata": {
    "collapsed": false
   },
   "outputs": [
    {
     "name": "stdout",
     "output_type": "stream",
     "text": [
      "afl.com.au loading from file\n"
     ]
    }
   ],
   "source": [
    "if os.path.isfile(\"afl.com.au_full_data_set.csv\"):\n",
    "    filepath_afl = \"afl.com.au_full_data_set.csv\"\n",
    "    print (\"afl.com.au loading from file\")\n",
    "    \n",
    "else:\n",
    "    filepath = \"https://docs.google.com/spreadsheets/d/1pfiz1CjeaS36L5CZIGqcXByj9qGpxKztXcsQ8o-1rOQ/pub?output=csv\"\n",
    "    print (\"afl.com.au loading from the internet\")\n",
    "\n"
   ]
  },
  {
   "cell_type": "code",
   "execution_count": 20,
   "metadata": {
    "collapsed": false
   },
   "outputs": [
    {
     "name": "stdout",
     "output_type": "stream",
     "text": [
      "afl_wiki loading from file\n"
     ]
    }
   ],
   "source": [
    "if os.path.isfile(\"afl_wiki_data_set.csv\"):\n",
    "    filepath_wiki = \"afl_wiki_data_set.csv\"\n",
    "    print (\"afl_wiki loading from file\")\n",
    "    \n",
    "else:\n",
    "    filepath = \"https://docs.google.com/spreadsheets/d/1pfiz1CjeaS36L5CZIGqcXByj9qGpxKztXcsQ8o-1rOQ/pub?output=csv\"\n",
    "    print (\"afl_wiki loading from the internet\")\n",
    "\n",
    "\n"
   ]
  },
  {
   "cell_type": "markdown",
   "metadata": {},
   "source": [
    "### READ CSV FILE"
   ]
  },
  {
   "cell_type": "code",
   "execution_count": 21,
   "metadata": {
    "collapsed": false
   },
   "outputs": [
    {
     "name": "stdout",
     "output_type": "stream",
     "text": [
      "done\n"
     ]
    }
   ],
   "source": [
    "df_afl= pd.read_csv(filepath_afl)\n",
    "print (\"done\")"
   ]
  },
  {
   "cell_type": "code",
   "execution_count": 22,
   "metadata": {
    "collapsed": false
   },
   "outputs": [
    {
     "name": "stdout",
     "output_type": "stream",
     "text": [
      "done\n"
     ]
    }
   ],
   "source": [
    "df_wiki= pd.read_csv(filepath_wiki)\n",
    "print (\"done\")"
   ]
  },
  {
   "cell_type": "code",
   "execution_count": 166,
   "metadata": {
    "collapsed": false
   },
   "outputs": [
    {
     "data": {
      "text/plain": [
       "(6252, 66)"
      ]
     },
     "execution_count": 166,
     "metadata": {},
     "output_type": "execute_result"
    }
   ],
   "source": [
    "df_afl.shape"
   ]
  },
  {
   "cell_type": "code",
   "execution_count": null,
   "metadata": {
    "collapsed": true
   },
   "outputs": [],
   "source": [
    "### look through each row of the afl.com.au dataset"
   ]
  },
  {
   "cell_type": "code",
   "execution_count": 163,
   "metadata": {
    "collapsed": false
   },
   "outputs": [],
   "source": [
    "def wiki_total_score(x):\n",
    "    score = x.Away_Total + x.Home_Total\n",
    "    return (score)"
   ]
  },
  {
   "cell_type": "code",
   "execution_count": 164,
   "metadata": {
    "collapsed": false
   },
   "outputs": [],
   "source": [
    "df_wiki['Match_Total_Score']= df_wiki.apply(wiki_total_score, axis =1)"
   ]
  },
  {
   "cell_type": "code",
   "execution_count": 167,
   "metadata": {
    "collapsed": false
   },
   "outputs": [
    {
     "data": {
      "text/plain": [
       "Unnamed: 0                                                           3\n",
       "Away_Behinds                                                        8 \n",
       "Away_Goals                                                          11\n",
       "Away_Team                                                       Sydney\n",
       "Away_Total                                                          74\n",
       "Crowd                                                            32910\n",
       "Date                                                                 9\n",
       "Day                                               No Day Data Provided\n",
       "Home_Behinds                                                       15 \n",
       "Home_Goals                                                          19\n",
       "Home_Team                                                     Hawthorn\n",
       "Home_Total                                                         129\n",
       "Match_Link                                             no match report\n",
       "Month                                                        September\n",
       "Round                                               Elimination Finals\n",
       "Structured_Data                                    2001-09-09 14:30:00\n",
       "Time                                                           2:30 pm\n",
       "Venue                                                   Etihad Stadium\n",
       "Year                                                              2001\n",
       "City                                                         Melbourne\n",
       "station_ID                                 1487228352&p_stn_num=086232\n",
       "URL                  http://www.bom.gov.au/jsp/ncc/cdio/weatherData...\n",
       "Rain                                                               5.8\n",
       "Match_Total_Score                                                  203\n",
       "Name: 3, dtype: object"
      ]
     },
     "execution_count": 167,
     "metadata": {},
     "output_type": "execute_result"
    }
   ],
   "source": [
    "df_wiki.loc[3]"
   ]
  },
  {
   "cell_type": "code",
   "execution_count": 101,
   "metadata": {
    "collapsed": false
   },
   "outputs": [
    {
     "data": {
      "text/html": [
       "<div>\n",
       "<table border=\"1\" class=\"dataframe\">\n",
       "  <thead>\n",
       "    <tr style=\"text-align: right;\">\n",
       "      <th></th>\n",
       "      <th>Unnamed: 0</th>\n",
       "      <th>Away_Behinds</th>\n",
       "      <th>Away_Goals</th>\n",
       "      <th>Away_Team</th>\n",
       "      <th>Away_Total</th>\n",
       "      <th>Crowd</th>\n",
       "      <th>Date</th>\n",
       "      <th>Day</th>\n",
       "      <th>Home_Behinds</th>\n",
       "      <th>Home_Goals</th>\n",
       "      <th>...</th>\n",
       "      <th>Month</th>\n",
       "      <th>Round</th>\n",
       "      <th>Structured_Data</th>\n",
       "      <th>Time</th>\n",
       "      <th>Venue</th>\n",
       "      <th>Year</th>\n",
       "      <th>City</th>\n",
       "      <th>station_ID</th>\n",
       "      <th>URL</th>\n",
       "      <th>Rain</th>\n",
       "    </tr>\n",
       "  </thead>\n",
       "  <tbody>\n",
       "    <tr>\n",
       "      <th>0</th>\n",
       "      <td>0</td>\n",
       "      <td>13</td>\n",
       "      <td>5</td>\n",
       "      <td>Richmond</td>\n",
       "      <td>43</td>\n",
       "      <td>78253</td>\n",
       "      <td>7</td>\n",
       "      <td>No Day Data Provided</td>\n",
       "      <td>11</td>\n",
       "      <td>17</td>\n",
       "      <td>...</td>\n",
       "      <td>September</td>\n",
       "      <td>Qualifying Finals</td>\n",
       "      <td>2001-09-07 19:45:00</td>\n",
       "      <td>7:45 pm</td>\n",
       "      <td>MCG</td>\n",
       "      <td>2001</td>\n",
       "      <td>Melbourne</td>\n",
       "      <td>1487228352&amp;p_stn_num=086232</td>\n",
       "      <td>http://www.bom.gov.au/jsp/ncc/cdio/weatherData...</td>\n",
       "      <td>0</td>\n",
       "    </tr>\n",
       "    <tr>\n",
       "      <th>1</th>\n",
       "      <td>1</td>\n",
       "      <td>8</td>\n",
       "      <td>8</td>\n",
       "      <td>Port Adelaide</td>\n",
       "      <td>56</td>\n",
       "      <td>32380</td>\n",
       "      <td>8</td>\n",
       "      <td>No Day Data Provided</td>\n",
       "      <td>16</td>\n",
       "      <td>12</td>\n",
       "      <td>...</td>\n",
       "      <td>September</td>\n",
       "      <td>Qualifying Finals</td>\n",
       "      <td>2001-09-08 19:40:00</td>\n",
       "      <td>7:40 pm</td>\n",
       "      <td>Gabba</td>\n",
       "      <td>2001</td>\n",
       "      <td>Brisbane</td>\n",
       "      <td>334811501&amp;p_stn_num=040913</td>\n",
       "      <td>http://www.bom.gov.au/jsp/ncc/cdio/weatherData...</td>\n",
       "      <td>0.2</td>\n",
       "    </tr>\n",
       "    <tr>\n",
       "      <th>2</th>\n",
       "      <td>2</td>\n",
       "      <td>14</td>\n",
       "      <td>6</td>\n",
       "      <td>Adelaide</td>\n",
       "      <td>50</td>\n",
       "      <td>53982</td>\n",
       "      <td>8</td>\n",
       "      <td>No Day Data Provided</td>\n",
       "      <td>16</td>\n",
       "      <td>17</td>\n",
       "      <td>...</td>\n",
       "      <td>September</td>\n",
       "      <td>Elimination Finals</td>\n",
       "      <td>2001-09-08 14:30:00</td>\n",
       "      <td>2:30 pm</td>\n",
       "      <td>MCG</td>\n",
       "      <td>2001</td>\n",
       "      <td>Melbourne</td>\n",
       "      <td>1487228352&amp;p_stn_num=086232</td>\n",
       "      <td>http://www.bom.gov.au/jsp/ncc/cdio/weatherData...</td>\n",
       "      <td>0.4</td>\n",
       "    </tr>\n",
       "    <tr>\n",
       "      <th>3</th>\n",
       "      <td>3</td>\n",
       "      <td>8</td>\n",
       "      <td>11</td>\n",
       "      <td>Sydney</td>\n",
       "      <td>74</td>\n",
       "      <td>32910</td>\n",
       "      <td>9</td>\n",
       "      <td>No Day Data Provided</td>\n",
       "      <td>15</td>\n",
       "      <td>19</td>\n",
       "      <td>...</td>\n",
       "      <td>September</td>\n",
       "      <td>Elimination Finals</td>\n",
       "      <td>2001-09-09 14:30:00</td>\n",
       "      <td>2:30 pm</td>\n",
       "      <td>Etihad Stadium</td>\n",
       "      <td>2001</td>\n",
       "      <td>Melbourne</td>\n",
       "      <td>1487228352&amp;p_stn_num=086232</td>\n",
       "      <td>http://www.bom.gov.au/jsp/ncc/cdio/weatherData...</td>\n",
       "      <td>5.8</td>\n",
       "    </tr>\n",
       "    <tr>\n",
       "      <th>4</th>\n",
       "      <td>4</td>\n",
       "      <td>14</td>\n",
       "      <td>7</td>\n",
       "      <td>Carlton</td>\n",
       "      <td>56</td>\n",
       "      <td>83323</td>\n",
       "      <td>15</td>\n",
       "      <td>No Day Data Provided</td>\n",
       "      <td>7</td>\n",
       "      <td>10</td>\n",
       "      <td>...</td>\n",
       "      <td>September</td>\n",
       "      <td>Semi Finals</td>\n",
       "      <td>2001-09-15 14:30:00</td>\n",
       "      <td>2:30 pm</td>\n",
       "      <td>MCG</td>\n",
       "      <td>2001</td>\n",
       "      <td>Melbourne</td>\n",
       "      <td>1487228352&amp;p_stn_num=086232</td>\n",
       "      <td>http://www.bom.gov.au/jsp/ncc/cdio/weatherData...</td>\n",
       "      <td>0.2</td>\n",
       "    </tr>\n",
       "  </tbody>\n",
       "</table>\n",
       "<p>5 rows × 23 columns</p>\n",
       "</div>"
      ],
      "text/plain": [
       "   Unnamed: 0 Away_Behinds  Away_Goals      Away_Team  Away_Total  Crowd  \\\n",
       "0           0          13            5       Richmond          43  78253   \n",
       "1           1           8            8  Port Adelaide          56  32380   \n",
       "2           2          14            6       Adelaide          50  53982   \n",
       "3           3           8           11         Sydney          74  32910   \n",
       "4           4          14            7        Carlton          56  83323   \n",
       "\n",
       "   Date                   Day Home_Behinds  Home_Goals ...       Month  \\\n",
       "0     7  No Day Data Provided          11           17 ...   September   \n",
       "1     8  No Day Data Provided          16           12 ...   September   \n",
       "2     8  No Day Data Provided          16           17 ...   September   \n",
       "3     9  No Day Data Provided          15           19 ...   September   \n",
       "4    15  No Day Data Provided           7           10 ...   September   \n",
       "\n",
       "                Round      Structured_Data     Time           Venue  Year  \\\n",
       "0   Qualifying Finals  2001-09-07 19:45:00  7:45 pm             MCG  2001   \n",
       "1   Qualifying Finals  2001-09-08 19:40:00  7:40 pm           Gabba  2001   \n",
       "2  Elimination Finals  2001-09-08 14:30:00  2:30 pm             MCG  2001   \n",
       "3  Elimination Finals  2001-09-09 14:30:00  2:30 pm  Etihad Stadium  2001   \n",
       "4         Semi Finals  2001-09-15 14:30:00  2:30 pm             MCG  2001   \n",
       "\n",
       "        City                   station_ID  \\\n",
       "0  Melbourne  1487228352&p_stn_num=086232   \n",
       "1   Brisbane   334811501&p_stn_num=040913   \n",
       "2  Melbourne  1487228352&p_stn_num=086232   \n",
       "3  Melbourne  1487228352&p_stn_num=086232   \n",
       "4  Melbourne  1487228352&p_stn_num=086232   \n",
       "\n",
       "                                                 URL Rain  \n",
       "0  http://www.bom.gov.au/jsp/ncc/cdio/weatherData...    0  \n",
       "1  http://www.bom.gov.au/jsp/ncc/cdio/weatherData...  0.2  \n",
       "2  http://www.bom.gov.au/jsp/ncc/cdio/weatherData...  0.4  \n",
       "3  http://www.bom.gov.au/jsp/ncc/cdio/weatherData...  5.8  \n",
       "4  http://www.bom.gov.au/jsp/ncc/cdio/weatherData...  0.2  \n",
       "\n",
       "[5 rows x 23 columns]"
      ]
     },
     "execution_count": 101,
     "metadata": {},
     "output_type": "execute_result"
    }
   ],
   "source": [
    "df_wiki.head()"
   ]
  },
  {
   "cell_type": "code",
   "execution_count": 123,
   "metadata": {
    "collapsed": false
   },
   "outputs": [
    {
     "data": {
      "text/html": [
       "<div>\n",
       "<table border=\"1\" class=\"dataframe\">\n",
       "  <thead>\n",
       "    <tr style=\"text-align: right;\">\n",
       "      <th></th>\n",
       "      <th>Unnamed: 0</th>\n",
       "      <th>Unnamed: 0.1</th>\n",
       "      <th>BEHINDS</th>\n",
       "      <th>BOUNCES</th>\n",
       "      <th>CENTRECLEARANCES</th>\n",
       "      <th>CLANGERS</th>\n",
       "      <th>CONTESTEDMARKS</th>\n",
       "      <th>CONTESTEDPOSSESSIONS</th>\n",
       "      <th>DISPOSALEFFICIENCY</th>\n",
       "      <th>DISPOSALS</th>\n",
       "      <th>...</th>\n",
       "      <th>TACKLES_PERC</th>\n",
       "      <th>CONTESTEDPOSSESSIONS_PERC</th>\n",
       "      <th>CONTESTEDMARKS _PERC</th>\n",
       "      <th>UNCONTESTEDPOSSESSIONS_PERC</th>\n",
       "      <th>TURNOVERS_PERC</th>\n",
       "      <th>TOTALPOSSESSIONS_PERC</th>\n",
       "      <th>INSIDE50S_PERC</th>\n",
       "      <th>DISPOSALEFFICIENCY_PERC</th>\n",
       "      <th>CENTRECLEARANCES_PERC</th>\n",
       "      <th>TEST_CROWD</th>\n",
       "    </tr>\n",
       "  </thead>\n",
       "  <tbody>\n",
       "    <tr>\n",
       "      <th>0</th>\n",
       "      <td>0</td>\n",
       "      <td>0</td>\n",
       "      <td>5</td>\n",
       "      <td>8</td>\n",
       "      <td>19</td>\n",
       "      <td>49</td>\n",
       "      <td>14</td>\n",
       "      <td>138</td>\n",
       "      <td>73.6</td>\n",
       "      <td>348</td>\n",
       "      <td>...</td>\n",
       "      <td>43.51</td>\n",
       "      <td>48.08</td>\n",
       "      <td>56.0</td>\n",
       "      <td>49.75</td>\n",
       "      <td>54.36</td>\n",
       "      <td>49.06</td>\n",
       "      <td>44.04</td>\n",
       "      <td>48.23</td>\n",
       "      <td>54.29</td>\n",
       "      <td>None</td>\n",
       "    </tr>\n",
       "    <tr>\n",
       "      <th>1</th>\n",
       "      <td>1</td>\n",
       "      <td>1</td>\n",
       "      <td>12</td>\n",
       "      <td>3</td>\n",
       "      <td>16</td>\n",
       "      <td>55</td>\n",
       "      <td>11</td>\n",
       "      <td>149</td>\n",
       "      <td>79.0</td>\n",
       "      <td>352</td>\n",
       "      <td>...</td>\n",
       "      <td>56.49</td>\n",
       "      <td>51.92</td>\n",
       "      <td>44.0</td>\n",
       "      <td>50.25</td>\n",
       "      <td>45.64</td>\n",
       "      <td>50.94</td>\n",
       "      <td>55.96</td>\n",
       "      <td>51.77</td>\n",
       "      <td>45.71</td>\n",
       "      <td>None</td>\n",
       "    </tr>\n",
       "    <tr>\n",
       "      <th>2</th>\n",
       "      <td>2</td>\n",
       "      <td>2</td>\n",
       "      <td>14</td>\n",
       "      <td>2</td>\n",
       "      <td>16</td>\n",
       "      <td>45</td>\n",
       "      <td>12</td>\n",
       "      <td>161</td>\n",
       "      <td>74.5</td>\n",
       "      <td>431</td>\n",
       "      <td>...</td>\n",
       "      <td>43.51</td>\n",
       "      <td>54.39</td>\n",
       "      <td>50.0</td>\n",
       "      <td>51.59</td>\n",
       "      <td>52.63</td>\n",
       "      <td>52.59</td>\n",
       "      <td>58.49</td>\n",
       "      <td>49.17</td>\n",
       "      <td>61.54</td>\n",
       "      <td>None</td>\n",
       "    </tr>\n",
       "    <tr>\n",
       "      <th>3</th>\n",
       "      <td>3</td>\n",
       "      <td>3</td>\n",
       "      <td>10</td>\n",
       "      <td>3</td>\n",
       "      <td>10</td>\n",
       "      <td>44</td>\n",
       "      <td>12</td>\n",
       "      <td>135</td>\n",
       "      <td>77.0</td>\n",
       "      <td>392</td>\n",
       "      <td>...</td>\n",
       "      <td>56.49</td>\n",
       "      <td>45.61</td>\n",
       "      <td>50.0</td>\n",
       "      <td>48.41</td>\n",
       "      <td>47.37</td>\n",
       "      <td>47.41</td>\n",
       "      <td>41.51</td>\n",
       "      <td>50.83</td>\n",
       "      <td>38.46</td>\n",
       "      <td>None</td>\n",
       "    </tr>\n",
       "    <tr>\n",
       "      <th>4</th>\n",
       "      <td>4</td>\n",
       "      <td>4</td>\n",
       "      <td>12</td>\n",
       "      <td>6</td>\n",
       "      <td>14</td>\n",
       "      <td>51</td>\n",
       "      <td>9</td>\n",
       "      <td>139</td>\n",
       "      <td>69.7</td>\n",
       "      <td>337</td>\n",
       "      <td>...</td>\n",
       "      <td>46.49</td>\n",
       "      <td>48.60</td>\n",
       "      <td>50.0</td>\n",
       "      <td>39.41</td>\n",
       "      <td>48.06</td>\n",
       "      <td>42.73</td>\n",
       "      <td>43.88</td>\n",
       "      <td>47.35</td>\n",
       "      <td>42.42</td>\n",
       "      <td>None</td>\n",
       "    </tr>\n",
       "  </tbody>\n",
       "</table>\n",
       "<p>5 rows × 65 columns</p>\n",
       "</div>"
      ],
      "text/plain": [
       "   Unnamed: 0  Unnamed: 0.1  BEHINDS  BOUNCES  CENTRECLEARANCES  CLANGERS  \\\n",
       "0           0             0        5        8                19        49   \n",
       "1           1             1       12        3                16        55   \n",
       "2           2             2       14        2                16        45   \n",
       "3           3             3       10        3                10        44   \n",
       "4           4             4       12        6                14        51   \n",
       "\n",
       "   CONTESTEDMARKS  CONTESTEDPOSSESSIONS  DISPOSALEFFICIENCY  DISPOSALS  \\\n",
       "0              14                   138                73.6        348   \n",
       "1              11                   149                79.0        352   \n",
       "2              12                   161                74.5        431   \n",
       "3              12                   135                77.0        392   \n",
       "4               9                   139                69.7        337   \n",
       "\n",
       "     ...      TACKLES_PERC  CONTESTEDPOSSESSIONS_PERC  CONTESTEDMARKS _PERC  \\\n",
       "0    ...             43.51                      48.08                  56.0   \n",
       "1    ...             56.49                      51.92                  44.0   \n",
       "2    ...             43.51                      54.39                  50.0   \n",
       "3    ...             56.49                      45.61                  50.0   \n",
       "4    ...             46.49                      48.60                  50.0   \n",
       "\n",
       "   UNCONTESTEDPOSSESSIONS_PERC  TURNOVERS_PERC  TOTALPOSSESSIONS_PERC  \\\n",
       "0                        49.75           54.36                  49.06   \n",
       "1                        50.25           45.64                  50.94   \n",
       "2                        51.59           52.63                  52.59   \n",
       "3                        48.41           47.37                  47.41   \n",
       "4                        39.41           48.06                  42.73   \n",
       "\n",
       "   INSIDE50S_PERC  DISPOSALEFFICIENCY_PERC  CENTRECLEARANCES_PERC TEST_CROWD  \n",
       "0           44.04                    48.23                  54.29       None  \n",
       "1           55.96                    51.77                  45.71       None  \n",
       "2           58.49                    49.17                  61.54       None  \n",
       "3           41.51                    50.83                  38.46       None  \n",
       "4           43.88                    47.35                  42.42       None  \n",
       "\n",
       "[5 rows x 65 columns]"
      ]
     },
     "execution_count": 123,
     "metadata": {},
     "output_type": "execute_result"
    }
   ],
   "source": [
    "df_testing = df_afl.head(5)\n",
    "df_testing"
   ]
  },
  {
   "cell_type": "code",
   "execution_count": 135,
   "metadata": {
    "collapsed": true
   },
   "outputs": [],
   "source": [
    "def wiki_data_row (row):\n",
    "    ## use total score\n",
    "    \n",
    "    \n",
    "    AFL_Home_Team = row.TEAMNAME\n",
    "    #print (AFL_Home_Team)\n",
    "    AFL_Away_Team = row.OPPONENT\n",
    "    #print (AFL_Away_Team)\n",
    "    AFL_Year = row.YEAR\n",
    "    #print (AFL_Year)\n",
    "    #print (\"yes\")\n",
    "    #Home_AFL_Goals = row.TOTAL_SCORE\n",
    "    #print (Home_AFL_Goals)\n",
    "    index_test = df_wiki.loc[(df_wiki.Away_Team == AFL_Away_Team) & (df_wiki.Home_Team == AFL_Home_Team) & (df_wiki.Year == AFL_Year)]\n",
    "    #index_done = (index_test.index)\n",
    "    print (index_test)\n",
    "    #matching_wiki_row = df_wiki.loc[index]\n",
    "    #print(matching_wiki_row)\n",
    "    #print (matching_wiki_row.Crowd)\n"
   ]
  },
  {
   "cell_type": "code",
   "execution_count": 136,
   "metadata": {
    "collapsed": false
   },
   "outputs": [
    {
     "name": "stdout",
     "output_type": "stream",
     "text": [
      "      Unnamed: 0 Away_Behinds  Away_Goals Away_Team  Away_Total  Crowd  Date  \\\n",
      "3081        3081          12           20  Richmond         132  73137    23   \n",
      "\n",
      "           Day Home_Behinds  Home_Goals ...   Month                    Round  \\\n",
      "3081  Thursday           5           14 ...   March  Round 1 (Opening Round)   \n",
      "\n",
      "          Structured_Data     Time Venue  Year       City  \\\n",
      "3081  2017-03-23 19:20:00  7:20 pm   MCG  2017  Melbourne   \n",
      "\n",
      "                       station_ID  \\\n",
      "3081  1487228352&p_stn_num=086232   \n",
      "\n",
      "                                                    URL Rain  \n",
      "3081  http://www.bom.gov.au/jsp/ncc/cdio/weatherData...    0  \n",
      "\n",
      "[1 rows x 23 columns]\n",
      "Empty DataFrame\n",
      "Columns: [Unnamed: 0, Away_Behinds, Away_Goals, Away_Team, Away_Total, Crowd, Date, Day, Home_Behinds, Home_Goals, Home_Team, Home_Total, Match_Link, Month, Round, Structured_Data, Time, Venue, Year, City, station_ID, URL, Rain]\n",
      "Index: []\n",
      "\n",
      "[0 rows x 23 columns]\n",
      "      Unnamed: 0 Away_Behinds  Away_Goals         Away_Team  Away_Total  \\\n",
      "3082        3082          10           15  Western Bulldogs         100   \n",
      "\n",
      "      Crowd  Date     Day Home_Behinds  Home_Goals ...   Month  \\\n",
      "3082  66254    24  Friday          14           12 ...   March   \n",
      "\n",
      "                        Round      Structured_Data     Time Venue  Year  \\\n",
      "3082  Round 1 (Opening Round)  2017-03-24 19:50:00  7:50 pm   MCG  2017   \n",
      "\n",
      "           City                   station_ID  \\\n",
      "3082  Melbourne  1487228352&p_stn_num=086232   \n",
      "\n",
      "                                                    URL Rain  \n",
      "3082  http://www.bom.gov.au/jsp/ncc/cdio/weatherData...    0  \n",
      "\n",
      "[1 rows x 23 columns]\n",
      "Empty DataFrame\n",
      "Columns: [Unnamed: 0, Away_Behinds, Away_Goals, Away_Team, Away_Total, Crowd, Date, Day, Home_Behinds, Home_Goals, Home_Team, Home_Total, Match_Link, Month, Round, Structured_Data, Time, Venue, Year, City, station_ID, URL, Rain]\n",
      "Index: []\n",
      "\n",
      "[0 rows x 23 columns]\n",
      "      Unnamed: 0 Away_Behinds  Away_Goals  Away_Team  Away_Total  Crowd  Date  \\\n",
      "3084        3084          12           18  Melbourne         120  36249    25   \n",
      "\n",
      "           Day Home_Behinds  Home_Goals ...   Month                    Round  \\\n",
      "3084  Saturday          12           13 ...   March  Round 1 (Opening Round)   \n",
      "\n",
      "          Structured_Data     Time           Venue  Year       City  \\\n",
      "3084  2017-03-25 16:35:00  4:35 pm  Etihad Stadium  2017  Melbourne   \n",
      "\n",
      "                       station_ID  \\\n",
      "3084  1487228352&p_stn_num=086232   \n",
      "\n",
      "                                                    URL Rain  \n",
      "3084  http://www.bom.gov.au/jsp/ncc/cdio/weatherData...    0  \n",
      "\n",
      "[1 rows x 23 columns]\n"
     ]
    },
    {
     "name": "stderr",
     "output_type": "stream",
     "text": [
      "/anaconda/lib/python3.6/site-packages/ipykernel/__main__.py:1: SettingWithCopyWarning: \n",
      "A value is trying to be set on a copy of a slice from a DataFrame.\n",
      "Try using .loc[row_indexer,col_indexer] = value instead\n",
      "\n",
      "See the caveats in the documentation: http://pandas.pydata.org/pandas-docs/stable/indexing.html#indexing-view-versus-copy\n",
      "  if __name__ == '__main__':\n"
     ]
    }
   ],
   "source": [
    "df_testing[\"TEST_CROWD\"] = df_testing.apply(wiki_data_row, axis=1)"
   ]
  },
  {
   "cell_type": "code",
   "execution_count": 121,
   "metadata": {
    "collapsed": false
   },
   "outputs": [],
   "source": [
    "def wiki_data_row (row):\n",
    "    AFL_Home_Team = row.TEAMNAME\n",
    "    #print (AFL_Home_Team)\n",
    "    AFL_Away_Team = row.OPPONENT\n",
    "    #print (AFL_Away_Team)\n",
    "    AFL_Year = row.YEAR\n",
    "    #print (AFL_Year)\n",
    "    if row.HOME == True:\n",
    "        #print (\"yes\")\n",
    "        Home_AFL_Goals = row.TOTAL_SCORE\n",
    "        #print (Home_AFL_Goals)\n",
    "        index_test = df_wiki.loc[(df_wiki.Away_Team == AFL_Away_Team) & (df_wiki.Home_Team == AFL_Home_Team) & (df_wiki.Year == AFL_Year) & (df_wiki.Home_Goals == Home_AFL_Goals) ]\n",
    "        index_done = (index_test.index)\n",
    "        print (index_test.index)\n",
    "        matching_wiki_row = df_wiki.loc[index]\n",
    "        #print(matching_wiki_row)\n",
    "        #print (matching_wiki_row.Crowd)\n",
    "    else: \n",
    "        #print (\"no\")\n",
    "        Away_AFL_Goals = row.TOTAL_SCORE\n",
    "        #print ( Away_AFL_Goals)\n",
    "        index_test = df_wiki.loc[(df_wiki.Away_Team == AFL_Away_Team) & (df_wiki.Home_Team == AFL_Home_Team) & (df_wiki.Year == AFL_Year) & (df_wiki.Away_Goals ==  Away_AFL_Goals)]\n",
    "        index_done = (index_test.index)\n",
    "        matching_wiki_row = df_wiki.loc[index]\n",
    "        print (matching_wiki_row.Crowd)\n",
    "        "
   ]
  },
  {
   "cell_type": "code",
   "execution_count": 122,
   "metadata": {
    "collapsed": false
   },
   "outputs": [
    {
     "name": "stdout",
     "output_type": "stream",
     "text": [
      "Int64Index([], dtype='int64')\n",
      "3    32910\n",
      "Name: Crowd, dtype: object\n",
      "Int64Index([], dtype='int64')\n",
      "3    32910\n",
      "Name: Crowd, dtype: object\n",
      "Int64Index([], dtype='int64')\n"
     ]
    },
    {
     "name": "stderr",
     "output_type": "stream",
     "text": [
      "/anaconda/lib/python3.6/site-packages/ipykernel/__main__.py:1: SettingWithCopyWarning: \n",
      "A value is trying to be set on a copy of a slice from a DataFrame.\n",
      "Try using .loc[row_indexer,col_indexer] = value instead\n",
      "\n",
      "See the caveats in the documentation: http://pandas.pydata.org/pandas-docs/stable/indexing.html#indexing-view-versus-copy\n",
      "  if __name__ == '__main__':\n"
     ]
    }
   ],
   "source": [
    "df_testing[\"TEST_CROWD\"] = df_testing.apply(wiki_data_row, axis=1)"
   ]
  },
  {
   "cell_type": "code",
   "execution_count": 117,
   "metadata": {
    "collapsed": false
   },
   "outputs": [
    {
     "data": {
      "text/html": [
       "<div>\n",
       "<table border=\"1\" class=\"dataframe\">\n",
       "  <thead>\n",
       "    <tr style=\"text-align: right;\">\n",
       "      <th></th>\n",
       "      <th>Unnamed: 0</th>\n",
       "      <th>Unnamed: 0.1</th>\n",
       "      <th>BEHINDS</th>\n",
       "      <th>BOUNCES</th>\n",
       "      <th>CENTRECLEARANCES</th>\n",
       "      <th>CLANGERS</th>\n",
       "      <th>CONTESTEDMARKS</th>\n",
       "      <th>CONTESTEDPOSSESSIONS</th>\n",
       "      <th>DISPOSALEFFICIENCY</th>\n",
       "      <th>DISPOSALS</th>\n",
       "      <th>...</th>\n",
       "      <th>TACKLES_PERC</th>\n",
       "      <th>CONTESTEDPOSSESSIONS_PERC</th>\n",
       "      <th>CONTESTEDMARKS _PERC</th>\n",
       "      <th>UNCONTESTEDPOSSESSIONS_PERC</th>\n",
       "      <th>TURNOVERS_PERC</th>\n",
       "      <th>TOTALPOSSESSIONS_PERC</th>\n",
       "      <th>INSIDE50S_PERC</th>\n",
       "      <th>DISPOSALEFFICIENCY_PERC</th>\n",
       "      <th>CENTRECLEARANCES_PERC</th>\n",
       "      <th>TEST_CROWD</th>\n",
       "    </tr>\n",
       "  </thead>\n",
       "  <tbody>\n",
       "    <tr>\n",
       "      <th>0</th>\n",
       "      <td>0</td>\n",
       "      <td>0</td>\n",
       "      <td>5</td>\n",
       "      <td>8</td>\n",
       "      <td>19</td>\n",
       "      <td>49</td>\n",
       "      <td>14</td>\n",
       "      <td>138</td>\n",
       "      <td>73.6</td>\n",
       "      <td>348</td>\n",
       "      <td>...</td>\n",
       "      <td>43.51</td>\n",
       "      <td>48.08</td>\n",
       "      <td>56.0</td>\n",
       "      <td>49.75</td>\n",
       "      <td>54.36</td>\n",
       "      <td>49.06</td>\n",
       "      <td>44.04</td>\n",
       "      <td>48.23</td>\n",
       "      <td>54.29</td>\n",
       "      <td>32910</td>\n",
       "    </tr>\n",
       "    <tr>\n",
       "      <th>1</th>\n",
       "      <td>1</td>\n",
       "      <td>1</td>\n",
       "      <td>12</td>\n",
       "      <td>3</td>\n",
       "      <td>16</td>\n",
       "      <td>55</td>\n",
       "      <td>11</td>\n",
       "      <td>149</td>\n",
       "      <td>79.0</td>\n",
       "      <td>352</td>\n",
       "      <td>...</td>\n",
       "      <td>56.49</td>\n",
       "      <td>51.92</td>\n",
       "      <td>44.0</td>\n",
       "      <td>50.25</td>\n",
       "      <td>45.64</td>\n",
       "      <td>50.94</td>\n",
       "      <td>55.96</td>\n",
       "      <td>51.77</td>\n",
       "      <td>45.71</td>\n",
       "      <td>32910</td>\n",
       "    </tr>\n",
       "    <tr>\n",
       "      <th>2</th>\n",
       "      <td>2</td>\n",
       "      <td>2</td>\n",
       "      <td>14</td>\n",
       "      <td>2</td>\n",
       "      <td>16</td>\n",
       "      <td>45</td>\n",
       "      <td>12</td>\n",
       "      <td>161</td>\n",
       "      <td>74.5</td>\n",
       "      <td>431</td>\n",
       "      <td>...</td>\n",
       "      <td>43.51</td>\n",
       "      <td>54.39</td>\n",
       "      <td>50.0</td>\n",
       "      <td>51.59</td>\n",
       "      <td>52.63</td>\n",
       "      <td>52.59</td>\n",
       "      <td>58.49</td>\n",
       "      <td>49.17</td>\n",
       "      <td>61.54</td>\n",
       "      <td>32910</td>\n",
       "    </tr>\n",
       "    <tr>\n",
       "      <th>3</th>\n",
       "      <td>3</td>\n",
       "      <td>3</td>\n",
       "      <td>10</td>\n",
       "      <td>3</td>\n",
       "      <td>10</td>\n",
       "      <td>44</td>\n",
       "      <td>12</td>\n",
       "      <td>135</td>\n",
       "      <td>77.0</td>\n",
       "      <td>392</td>\n",
       "      <td>...</td>\n",
       "      <td>56.49</td>\n",
       "      <td>45.61</td>\n",
       "      <td>50.0</td>\n",
       "      <td>48.41</td>\n",
       "      <td>47.37</td>\n",
       "      <td>47.41</td>\n",
       "      <td>41.51</td>\n",
       "      <td>50.83</td>\n",
       "      <td>38.46</td>\n",
       "      <td>32910</td>\n",
       "    </tr>\n",
       "    <tr>\n",
       "      <th>4</th>\n",
       "      <td>4</td>\n",
       "      <td>4</td>\n",
       "      <td>12</td>\n",
       "      <td>6</td>\n",
       "      <td>14</td>\n",
       "      <td>51</td>\n",
       "      <td>9</td>\n",
       "      <td>139</td>\n",
       "      <td>69.7</td>\n",
       "      <td>337</td>\n",
       "      <td>...</td>\n",
       "      <td>46.49</td>\n",
       "      <td>48.60</td>\n",
       "      <td>50.0</td>\n",
       "      <td>39.41</td>\n",
       "      <td>48.06</td>\n",
       "      <td>42.73</td>\n",
       "      <td>43.88</td>\n",
       "      <td>47.35</td>\n",
       "      <td>42.42</td>\n",
       "      <td>32910</td>\n",
       "    </tr>\n",
       "  </tbody>\n",
       "</table>\n",
       "<p>5 rows × 65 columns</p>\n",
       "</div>"
      ],
      "text/plain": [
       "   Unnamed: 0  Unnamed: 0.1  BEHINDS  BOUNCES  CENTRECLEARANCES  CLANGERS  \\\n",
       "0           0             0        5        8                19        49   \n",
       "1           1             1       12        3                16        55   \n",
       "2           2             2       14        2                16        45   \n",
       "3           3             3       10        3                10        44   \n",
       "4           4             4       12        6                14        51   \n",
       "\n",
       "   CONTESTEDMARKS  CONTESTEDPOSSESSIONS  DISPOSALEFFICIENCY  DISPOSALS  \\\n",
       "0              14                   138                73.6        348   \n",
       "1              11                   149                79.0        352   \n",
       "2              12                   161                74.5        431   \n",
       "3              12                   135                77.0        392   \n",
       "4               9                   139                69.7        337   \n",
       "\n",
       "     ...      TACKLES_PERC  CONTESTEDPOSSESSIONS_PERC  CONTESTEDMARKS _PERC  \\\n",
       "0    ...             43.51                      48.08                  56.0   \n",
       "1    ...             56.49                      51.92                  44.0   \n",
       "2    ...             43.51                      54.39                  50.0   \n",
       "3    ...             56.49                      45.61                  50.0   \n",
       "4    ...             46.49                      48.60                  50.0   \n",
       "\n",
       "   UNCONTESTEDPOSSESSIONS_PERC  TURNOVERS_PERC  TOTALPOSSESSIONS_PERC  \\\n",
       "0                        49.75           54.36                  49.06   \n",
       "1                        50.25           45.64                  50.94   \n",
       "2                        51.59           52.63                  52.59   \n",
       "3                        48.41           47.37                  47.41   \n",
       "4                        39.41           48.06                  42.73   \n",
       "\n",
       "   INSIDE50S_PERC  DISPOSALEFFICIENCY_PERC  CENTRECLEARANCES_PERC TEST_CROWD  \n",
       "0           44.04                    48.23                  54.29      32910  \n",
       "1           55.96                    51.77                  45.71      32910  \n",
       "2           58.49                    49.17                  61.54      32910  \n",
       "3           41.51                    50.83                  38.46      32910  \n",
       "4           43.88                    47.35                  42.42      32910  \n",
       "\n",
       "[5 rows x 65 columns]"
      ]
     },
     "execution_count": 117,
     "metadata": {},
     "output_type": "execute_result"
    }
   ],
   "source": [
    "df_testing.head()"
   ]
  },
  {
   "cell_type": "code",
   "execution_count": null,
   "metadata": {
    "collapsed": true
   },
   "outputs": [],
   "source": [
    "df.loc[df['column_name'] == some_value]\n",
    "x[x].index"
   ]
  },
  {
   "cell_type": "markdown",
   "metadata": {},
   "source": [
    "### START GRAPHING"
   ]
  },
  {
   "cell_type": "code",
   "execution_count": 21,
   "metadata": {
    "collapsed": true
   },
   "outputs": [],
   "source": [
    "%matplotlib inline\n",
    "plt.rcParams['figure.figsize'] = (20, 10)"
   ]
  },
  {
   "cell_type": "code",
   "execution_count": null,
   "metadata": {
    "collapsed": true
   },
   "outputs": [],
   "source": [
    "df_win = df[df.RESULT == \"Win\"]\n",
    "df_lose = df[df.RESULT == \"Lose\"]"
   ]
  }
 ],
 "metadata": {
  "kernelspec": {
   "display_name": "Python 3",
   "language": "python",
   "name": "python3"
  },
  "language_info": {
   "codemirror_mode": {
    "name": "ipython",
    "version": 3
   },
   "file_extension": ".py",
   "mimetype": "text/x-python",
   "name": "python",
   "nbconvert_exporter": "python",
   "pygments_lexer": "ipython3",
   "version": "3.6.0"
  }
 },
 "nbformat": 4,
 "nbformat_minor": 2
}
