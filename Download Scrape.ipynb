{
 "cells": [
  {
   "cell_type": "code",
   "execution_count": 3,
   "metadata": {
    "collapsed": false
   },
   "outputs": [],
   "source": [
    "## all imports\n",
    "from IPython.display import HTML\n",
    "import chardet\n",
    "import io\n",
    "import numpy as np\n",
    "import os\n",
    "import urllib.request\n",
    "from urllib.request import urlopen\n",
    "from bs4 import BeautifulSoup\n",
    "from time import sleep\n",
    "import requests\n",
    "import operator\n",
    "import socket\n",
    "import _pickle\n",
    "import math\n",
    "import re # regular expressions\n",
    "\n",
    "from pandas import Series\n",
    "import pandas as pd\n",
    "from pandas import DataFrame\n",
    "\n",
    "import matplotlib\n",
    "import matplotlib.pyplot as plt\n",
    "%matplotlib inline\n",
    "import json\n",
    "\n",
    "import seaborn as sns\n",
    "sns.set_context(\"talk\")\n",
    "sns.set_style(\"white\")\n",
    "\n",
    "from selenium import webdriver\n",
    "from selenium.webdriver.support.ui import Select\n",
    "from selenium.webdriver.common.keys import Keys\n",
    "from selenium.webdriver.support.ui import WebDriverWait\n",
    "from selenium.webdriver.support import expected_conditions as EC\n",
    "\n",
    "\n",
    "\n",
    "#from secret import *"
   ]
  },
  {
   "cell_type": "markdown",
   "metadata": {},
   "source": [
    "## WRITING THE FILES"
   ]
  },
  {
   "cell_type": "markdown",
   "metadata": {},
   "source": [
    "### Firefox Driver"
   ]
  },
  {
   "cell_type": "code",
   "execution_count": 4,
   "metadata": {
    "collapsed": false
   },
   "outputs": [],
   "source": [
    "wd = webdriver.Firefox()\n",
    "#driver.implicitly_wait(10)\n",
    "wd.get('http://www.afl.com.au/stats')"
   ]
  },
  {
   "cell_type": "markdown",
   "metadata": {},
   "source": [
    "### FUNCTION THAT PASSES IN YEAR AND ROUND AND DOWNLOADS JSON FILE"
   ]
  },
  {
   "cell_type": "code",
   "execution_count": 20,
   "metadata": {
    "collapsed": false
   },
   "outputs": [],
   "source": [
    "def data_download (_year,_round):\n",
    "    movable_part = \"CD_S{year}014&roundId=CD_R{year}014{round}\".format(year=_year, round= _round)\n",
    "    #print(movable_part)\n",
    "    script = '' + \\\n",
    "    'window.a = jQuery.ajax({'+\\\n",
    "    '        url:\"http://www.afl.com.au/api/cfs/afl/statsCentre/teams?competitionId={}\",'.format(movable_part) +\\\n",
    "    '        headers: {'+\\\n",
    "    '                    \"X-media-mis-token\":\"b292a40a7cfcbe808732a7ce5aa62114\"'+\\\n",
    "    '                 }'+\\\n",
    "    '        });' \n",
    "\n",
    "    ## asks the firefox webdriver to execute this scripty\n",
    "    #print (script)\n",
    "    wd.execute_script(script)\n",
    "    print (_year, _round)\n",
    "    import time\n",
    "    import json\n",
    "    time.sleep(1)\n",
    "    wd.execute_script(\"console.log('the dude', window.a.responseText);\")\n",
    "    result = wd.execute_script(\"return window.a.responseText\")\n",
    "    \n",
    "    try:\n",
    "        data = json.loads(result)\n",
    "        filename= _year  + '_' + _round + '.txt'\n",
    "        #with open('afl_raw/' + filename, 'w') as f:\n",
    "        with open ('afl_raw/test/' + filename, 'w') as f:\n",
    "            f.write(result)\n",
    "            print ('exported ' + filename)\n",
    "        \n",
    "    except Exception as e:\n",
    "        filename= _year  + '_' + _round + '.txt'\n",
    "        #ith open('afl_raw/' + filename, 'w') as f:\n",
    "        with open('afl_raw/test/' + filename, 'w') as f:\n",
    "            f.write('error occured on writing')\n",
    "            print ('export error on ' + filename)\n",
    "        \n",
    "\n",
    "            \n",
    "\n",
    "    "
   ]
  },
  {
   "cell_type": "markdown",
   "metadata": {},
   "source": [
    "### HARD CODED JQUERY TO PUT INTO CONSOLE"
   ]
  },
  {
   "cell_type": "markdown",
   "metadata": {},
   "source": [
    "jQuery.ajax({url:\"http://www.afl.com.au/api/cfs/afl/statsCentre/teams?competitionId=CD_S2017014&roundId=CD_R201701406\", headers: {\"X-media-mis-token\":\"b0e22835816435c8436393d14e62ecf7\"}});"
   ]
  },
  {
   "cell_type": "markdown",
   "metadata": {},
   "source": [
    "jQuery.ajax({url:\" http://www.afl.com.au/api/cfs/afl/statsCentre/teams?competitionId=CD_S2003014&roundId=CD_R200301401\", headers: {\"X-media-mis-token\":\"b0e22835816435c8436393d14e62ecf7\"}});"
   ]
  },
  {
   "cell_type": "markdown",
   "metadata": {},
   "source": [
    "### LIST OF POSSIBLE YEARS AND ROUNDS FOR DATA"
   ]
  },
  {
   "cell_type": "code",
   "execution_count": 171,
   "metadata": {
    "collapsed": true
   },
   "outputs": [],
   "source": [
    "year_list = ['2017','2016','2015','2014','2013','2012','2011','2010','2009','2008','2007','2006','2005','2004','2003','2002', '2001']\n",
    "round_list = ['01','02','03','04','05','06','07','08','09','10','11','12','13','14','15','16','17','18','19','20','21','22','23','24','25','26','27']"
   ]
  },
  {
   "cell_type": "markdown",
   "metadata": {},
   "source": [
    "### RUN A LOOP OVER ALL ROUNDS IN ALL YEARS TO INITIATE THE DOWNLOAD FUNCTION"
   ]
  },
  {
   "cell_type": "code",
   "execution_count": 22,
   "metadata": {
    "collapsed": false
   },
   "outputs": [
    {
     "name": "stdout",
     "output_type": "stream",
     "text": [
      "2017 01\n",
      "exported 2017_01.txt\n",
      "2017 02\n",
      "exported 2017_02.txt\n",
      "2017 03\n",
      "exported 2017_03.txt\n",
      "2017 04\n",
      "exported 2017_04.txt\n",
      "2017 05\n",
      "exported 2017_05.txt\n",
      "2017 06\n",
      "exported 2017_06.txt\n",
      "2017 07\n",
      "exported 2017_07.txt\n",
      "2017 08\n",
      "export error on 2017_08.txt\n",
      "2017 09\n",
      "export error on 2017_09.txt\n",
      "2017 10\n",
      "export error on 2017_10.txt\n",
      "2017 11\n",
      "export error on 2017_11.txt\n",
      "2017 12\n",
      "export error on 2017_12.txt\n",
      "2017 13\n"
     ]
    },
    {
     "ename": "KeyboardInterrupt",
     "evalue": "",
     "output_type": "error",
     "traceback": [
      "\u001b[0;31m---------------------------------------------------------------------------\u001b[0m",
      "\u001b[0;31mKeyboardInterrupt\u001b[0m                         Traceback (most recent call last)",
      "\u001b[0;32m<ipython-input-22-45c40770dcd7>\u001b[0m in \u001b[0;36m<module>\u001b[0;34m()\u001b[0m\n\u001b[1;32m      3\u001b[0m     \u001b[1;32mfor\u001b[0m \u001b[0mi\u001b[0m \u001b[1;32min\u001b[0m \u001b[0mround_list\u001b[0m\u001b[1;33m:\u001b[0m\u001b[1;33m\u001b[0m\u001b[0m\n\u001b[1;32m      4\u001b[0m         \u001b[0mcurrent_round\u001b[0m \u001b[1;33m=\u001b[0m \u001b[0mi\u001b[0m\u001b[1;33m\u001b[0m\u001b[0m\n\u001b[0;32m----> 5\u001b[0;31m         \u001b[0mdata_download\u001b[0m\u001b[1;33m(\u001b[0m\u001b[0mcurrent_year\u001b[0m\u001b[1;33m,\u001b[0m\u001b[0mcurrent_round\u001b[0m\u001b[1;33m)\u001b[0m\u001b[1;33m\u001b[0m\u001b[0m\n\u001b[0m",
      "\u001b[0;32m<ipython-input-20-96b6a4230dec>\u001b[0m in \u001b[0;36mdata_download\u001b[0;34m(_year, _round)\u001b[0m\n\u001b[1;32m     10\u001b[0m     \u001b[1;32mimport\u001b[0m \u001b[0mtime\u001b[0m\u001b[1;33m\u001b[0m\u001b[0m\n\u001b[1;32m     11\u001b[0m     \u001b[1;32mimport\u001b[0m \u001b[0mjson\u001b[0m\u001b[1;33m\u001b[0m\u001b[0m\n\u001b[0;32m---> 12\u001b[0;31m     \u001b[0mtime\u001b[0m\u001b[1;33m.\u001b[0m\u001b[0msleep\u001b[0m\u001b[1;33m(\u001b[0m\u001b[1;36m1\u001b[0m\u001b[1;33m)\u001b[0m\u001b[1;33m\u001b[0m\u001b[0m\n\u001b[0m\u001b[1;32m     13\u001b[0m     \u001b[0mwd\u001b[0m\u001b[1;33m.\u001b[0m\u001b[0mexecute_script\u001b[0m\u001b[1;33m(\u001b[0m\u001b[1;34m\"console.log('the dude', window.a.responseText);\"\u001b[0m\u001b[1;33m)\u001b[0m\u001b[1;33m\u001b[0m\u001b[0m\n\u001b[1;32m     14\u001b[0m     \u001b[0mresult\u001b[0m \u001b[1;33m=\u001b[0m \u001b[0mwd\u001b[0m\u001b[1;33m.\u001b[0m\u001b[0mexecute_script\u001b[0m\u001b[1;33m(\u001b[0m\u001b[1;34m\"return window.a.responseText\"\u001b[0m\u001b[1;33m)\u001b[0m\u001b[1;33m\u001b[0m\u001b[0m\n",
      "\u001b[0;31mKeyboardInterrupt\u001b[0m: "
     ]
    }
   ],
   "source": [
    "for i in year_list:\n",
    "    current_year = i\n",
    "    for i in round_list:\n",
    "        current_round = i\n",
    "        data_download(current_year,current_round)"
   ]
  },
  {
   "cell_type": "markdown",
   "metadata": {},
   "source": [
    "### TESTING INDIVIDUAL DOWNLOADS"
   ]
  },
  {
   "cell_type": "markdown",
   "metadata": {
    "collapsed": true
   },
   "source": [
    "current_year = '2005'\n",
    "current_round = '05'"
   ]
  },
  {
   "cell_type": "markdown",
   "metadata": {
    "collapsed": false
   },
   "source": [
    "data_download(current_year,current_round)"
   ]
  },
  {
   "cell_type": "markdown",
   "metadata": {},
   "source": [
    "## LOAD FILES IN PYTHON"
   ]
  },
  {
   "cell_type": "markdown",
   "metadata": {},
   "source": [
    "### CREATE DICTIONARY FOR MATCH ID'S"
   ]
  },
  {
   "cell_type": "code",
   "execution_count": 172,
   "metadata": {
    "collapsed": false
   },
   "outputs": [
    {
     "name": "stdout",
     "output_type": "stream",
     "text": [
      "02\n"
     ]
    }
   ],
   "source": [
    "match_dict= {0:'01',1:'01',2:'02',3:'02', 4:'03',5:'03', 6:'04',7:'04',8:'05',9:'05', 10:'06',11:'06',12:'07',13:'07', 14:'08',15:'08', 16:'09',17:'09'}\n",
    "print (match_dict[3])"
   ]
  },
  {
   "cell_type": "markdown",
   "metadata": {},
   "source": [
    "### MERGING TWO DICTIONARIES AND ADDING TO DATAFRAME"
   ]
  },
  {
   "cell_type": "markdown",
   "metadata": {},
   "source": [
    "a = {\"b\":1, \"c\": 2}\n",
    "\n",
    "d = {\"b\":3, \"c\": 2}\n",
    "\n",
    "x = [a,d]\n",
    "\n",
    "pd.DataFrame(x)\n",
    "\n",
    "\n",
    "\n",
    "z = {**x, **y}\n",
    "http://stackoverflow.com/questions/38987/how-to-merge-two-python-dictionaries-in-a-single-expression"
   ]
  },
  {
   "cell_type": "markdown",
   "metadata": {},
   "source": [
    "### FUNCTION TO LOOK AT EACH MATCH, SORT AND  ASSIGN A MATCH_ID"
   ]
  },
  {
   "cell_type": "code",
   "execution_count": 220,
   "metadata": {
    "collapsed": false
   },
   "outputs": [],
   "source": [
    "def structure_data(d, i, _year, _round):\n",
    "    team_stats= d['team']\n",
    "    match_stats = d['stats']['totals']\n",
    "    # ** merges two dictionaries together\n",
    "    stats = {**team_stats, **match_stats}\n",
    "    stats['year'] = _year\n",
    "    stats['round'] = _round\n",
    "    # Finding match_id\n",
    "    #string formatting mini lanuage\n",
    "    match_dict= {0:'01',1:'01',2:'02',3:'02', 4:'03',5:'03', 6:'04',7:'04',8:'05',9:'05', 10:'06',11:'06',12:'07',13:'07', 14:'08',15:'08', 16:'09',17:'09'}\n",
    "    #match_number = \"{0:0=2d}\".format(int(math.ceil(i/2)*2))\n",
    "    match_number = (match_dict[i])\n",
    "    stats['match_id'] = 'CD_M' + _year + '014'+  _round + str(match_number)\n",
    "    #CD_M20170140401\n",
    "    # W know home is the evan numbers in the list- so if there is no remainder when divived by two its divisible by 2\n",
    "    stats['home'] = i % 2 == 0\n",
    "    stats = {**stats, **stats['clearances']}\n",
    "    stats.pop('clearances', None)\n",
    "    #try:\n",
    "        #stats = {**stats, **stats['interchangeCounts']}\n",
    "        #stats.pop('interchangeCounts', None)\n",
    "   #except:\n",
    "        #print (stats)\n",
    "        # interchange counts are equal to zero\n",
    "    return stats"
   ]
  },
  {
   "cell_type": "markdown",
   "metadata": {},
   "source": [
    "### FUNCTION TO READ EACH DATA FILE- RETURNS A RELEVENT LIST OF ROUNDS GAMES"
   ]
  },
  {
   "cell_type": "code",
   "execution_count": 221,
   "metadata": {
    "collapsed": false
   },
   "outputs": [],
   "source": [
    "def readfile(_year, _round):\n",
    "    filename= _year  + '_' + _round + '.txt'\n",
    "    path = 'afl_raw/' + filename\n",
    "    print (current_year, current_round, path)\n",
    "    with open(path) as f:\n",
    "        json_string = f.read()\n",
    "        json_string = json_string.strip()\n",
    "        if json_string != \"error occured on writing\":\n",
    "            data = json.loads(json_string)\n",
    "            this_round = []\n",
    "            for i, d in enumerate(data['lists']):\n",
    "                stats = structure_data(d, i,_year, _round)\n",
    "                this_round.append(stats)\n",
    "            return this_round"
   ]
  },
  {
   "cell_type": "markdown",
   "metadata": {},
   "source": [
    "### PUT THE ROUND LIST INTO A DATA FRAME"
   ]
  },
  {
   "cell_type": "code",
   "execution_count": 222,
   "metadata": {
    "collapsed": false
   },
   "outputs": [
    {
     "name": "stdout",
     "output_type": "stream",
     "text": [
      "2017 01 afl_raw/2017_01.txt\n",
      "2017 02 afl_raw/2017_02.txt\n",
      "2017 03 afl_raw/2017_03.txt\n",
      "2017 04 afl_raw/2017_04.txt\n",
      "2017 05 afl_raw/2017_05.txt\n",
      "2017 06 afl_raw/2017_06.txt\n",
      "2017 07 afl_raw/2017_07.txt\n",
      "2017 08 afl_raw/2017_08.txt\n",
      "2017 09 afl_raw/2017_09.txt\n",
      "2017 10 afl_raw/2017_10.txt\n",
      "2017 11 afl_raw/2017_11.txt\n",
      "2017 12 afl_raw/2017_12.txt\n",
      "2017 13 afl_raw/2017_13.txt\n",
      "2017 14 afl_raw/2017_14.txt\n",
      "2017 15 afl_raw/2017_15.txt\n",
      "2017 16 afl_raw/2017_16.txt\n",
      "2017 17 afl_raw/2017_17.txt\n",
      "2017 18 afl_raw/2017_18.txt\n",
      "2017 19 afl_raw/2017_19.txt\n",
      "2017 20 afl_raw/2017_20.txt\n",
      "2017 21 afl_raw/2017_21.txt\n",
      "2017 22 afl_raw/2017_22.txt\n",
      "2017 23 afl_raw/2017_23.txt\n",
      "2017 24 afl_raw/2017_24.txt\n",
      "2017 25 afl_raw/2017_25.txt\n",
      "2017 26 afl_raw/2017_26.txt\n",
      "2017 27 afl_raw/2017_27.txt\n",
      "2016 01 afl_raw/2016_01.txt\n",
      "2016 02 afl_raw/2016_02.txt\n",
      "2016 03 afl_raw/2016_03.txt\n",
      "2016 04 afl_raw/2016_04.txt\n",
      "2016 05 afl_raw/2016_05.txt\n",
      "2016 06 afl_raw/2016_06.txt\n",
      "2016 07 afl_raw/2016_07.txt\n",
      "2016 08 afl_raw/2016_08.txt\n",
      "2016 09 afl_raw/2016_09.txt\n",
      "2016 10 afl_raw/2016_10.txt\n",
      "2016 11 afl_raw/2016_11.txt\n",
      "2016 12 afl_raw/2016_12.txt\n",
      "2016 13 afl_raw/2016_13.txt\n",
      "2016 14 afl_raw/2016_14.txt\n",
      "2016 15 afl_raw/2016_15.txt\n",
      "2016 16 afl_raw/2016_16.txt\n",
      "2016 17 afl_raw/2016_17.txt\n",
      "2016 18 afl_raw/2016_18.txt\n",
      "2016 19 afl_raw/2016_19.txt\n",
      "2016 20 afl_raw/2016_20.txt\n",
      "2016 21 afl_raw/2016_21.txt\n",
      "2016 22 afl_raw/2016_22.txt\n",
      "2016 23 afl_raw/2016_23.txt\n",
      "2016 24 afl_raw/2016_24.txt\n",
      "2016 25 afl_raw/2016_25.txt\n",
      "2016 26 afl_raw/2016_26.txt\n",
      "2016 27 afl_raw/2016_27.txt\n",
      "2015 01 afl_raw/2015_01.txt\n",
      "2015 02 afl_raw/2015_02.txt\n",
      "2015 03 afl_raw/2015_03.txt\n",
      "2015 04 afl_raw/2015_04.txt\n",
      "2015 05 afl_raw/2015_05.txt\n",
      "2015 06 afl_raw/2015_06.txt\n",
      "2015 07 afl_raw/2015_07.txt\n",
      "2015 08 afl_raw/2015_08.txt\n",
      "2015 09 afl_raw/2015_09.txt\n",
      "2015 10 afl_raw/2015_10.txt\n",
      "2015 11 afl_raw/2015_11.txt\n",
      "2015 12 afl_raw/2015_12.txt\n",
      "2015 13 afl_raw/2015_13.txt\n",
      "2015 14 afl_raw/2015_14.txt\n",
      "2015 15 afl_raw/2015_15.txt\n",
      "2015 16 afl_raw/2015_16.txt\n",
      "2015 17 afl_raw/2015_17.txt\n",
      "2015 18 afl_raw/2015_18.txt\n",
      "2015 19 afl_raw/2015_19.txt\n",
      "2015 20 afl_raw/2015_20.txt\n",
      "2015 21 afl_raw/2015_21.txt\n",
      "2015 22 afl_raw/2015_22.txt\n",
      "2015 23 afl_raw/2015_23.txt\n",
      "2015 24 afl_raw/2015_24.txt\n",
      "2015 25 afl_raw/2015_25.txt\n",
      "2015 26 afl_raw/2015_26.txt\n",
      "2015 27 afl_raw/2015_27.txt\n",
      "2014 01 afl_raw/2014_01.txt\n",
      "2014 02 afl_raw/2014_02.txt\n",
      "2014 03 afl_raw/2014_03.txt\n",
      "2014 04 afl_raw/2014_04.txt\n",
      "2014 05 afl_raw/2014_05.txt\n",
      "2014 06 afl_raw/2014_06.txt\n",
      "2014 07 afl_raw/2014_07.txt\n",
      "2014 08 afl_raw/2014_08.txt\n",
      "2014 09 afl_raw/2014_09.txt\n",
      "2014 10 afl_raw/2014_10.txt\n",
      "2014 11 afl_raw/2014_11.txt\n",
      "2014 12 afl_raw/2014_12.txt\n",
      "2014 13 afl_raw/2014_13.txt\n",
      "2014 14 afl_raw/2014_14.txt\n",
      "2014 15 afl_raw/2014_15.txt\n",
      "2014 16 afl_raw/2014_16.txt\n",
      "2014 17 afl_raw/2014_17.txt\n",
      "2014 18 afl_raw/2014_18.txt\n",
      "2014 19 afl_raw/2014_19.txt\n",
      "2014 20 afl_raw/2014_20.txt\n",
      "2014 21 afl_raw/2014_21.txt\n",
      "2014 22 afl_raw/2014_22.txt\n",
      "2014 23 afl_raw/2014_23.txt\n",
      "2014 24 afl_raw/2014_24.txt\n",
      "2014 25 afl_raw/2014_25.txt\n",
      "2014 26 afl_raw/2014_26.txt\n",
      "2014 27 afl_raw/2014_27.txt\n",
      "2013 01 afl_raw/2013_01.txt\n",
      "2013 02 afl_raw/2013_02.txt\n",
      "2013 03 afl_raw/2013_03.txt\n",
      "2013 04 afl_raw/2013_04.txt\n",
      "2013 05 afl_raw/2013_05.txt\n",
      "2013 06 afl_raw/2013_06.txt\n",
      "2013 07 afl_raw/2013_07.txt\n",
      "2013 08 afl_raw/2013_08.txt\n",
      "2013 09 afl_raw/2013_09.txt\n",
      "2013 10 afl_raw/2013_10.txt\n",
      "2013 11 afl_raw/2013_11.txt\n",
      "2013 12 afl_raw/2013_12.txt\n",
      "2013 13 afl_raw/2013_13.txt\n",
      "2013 14 afl_raw/2013_14.txt\n",
      "2013 15 afl_raw/2013_15.txt\n",
      "2013 16 afl_raw/2013_16.txt\n",
      "2013 17 afl_raw/2013_17.txt\n",
      "2013 18 afl_raw/2013_18.txt\n",
      "2013 19 afl_raw/2013_19.txt\n",
      "2013 20 afl_raw/2013_20.txt\n",
      "2013 21 afl_raw/2013_21.txt\n",
      "2013 22 afl_raw/2013_22.txt\n",
      "2013 23 afl_raw/2013_23.txt\n",
      "2013 24 afl_raw/2013_24.txt\n",
      "2013 25 afl_raw/2013_25.txt\n",
      "2013 26 afl_raw/2013_26.txt\n",
      "2013 27 afl_raw/2013_27.txt\n",
      "2012 01 afl_raw/2012_01.txt\n",
      "2012 02 afl_raw/2012_02.txt\n",
      "2012 03 afl_raw/2012_03.txt\n",
      "2012 04 afl_raw/2012_04.txt\n",
      "2012 05 afl_raw/2012_05.txt\n",
      "2012 06 afl_raw/2012_06.txt\n",
      "2012 07 afl_raw/2012_07.txt\n",
      "2012 08 afl_raw/2012_08.txt\n",
      "2012 09 afl_raw/2012_09.txt\n",
      "2012 10 afl_raw/2012_10.txt\n",
      "2012 11 afl_raw/2012_11.txt\n",
      "2012 12 afl_raw/2012_12.txt\n",
      "2012 13 afl_raw/2012_13.txt\n",
      "2012 14 afl_raw/2012_14.txt\n",
      "2012 15 afl_raw/2012_15.txt\n",
      "2012 16 afl_raw/2012_16.txt\n",
      "2012 17 afl_raw/2012_17.txt\n",
      "2012 18 afl_raw/2012_18.txt\n",
      "2012 19 afl_raw/2012_19.txt\n",
      "2012 20 afl_raw/2012_20.txt\n",
      "2012 21 afl_raw/2012_21.txt\n",
      "2012 22 afl_raw/2012_22.txt\n",
      "2012 23 afl_raw/2012_23.txt\n",
      "2012 24 afl_raw/2012_24.txt\n",
      "2012 25 afl_raw/2012_25.txt\n",
      "2012 26 afl_raw/2012_26.txt\n",
      "2012 27 afl_raw/2012_27.txt\n",
      "2011 01 afl_raw/2011_01.txt\n",
      "2011 02 afl_raw/2011_02.txt\n",
      "2011 03 afl_raw/2011_03.txt\n",
      "2011 04 afl_raw/2011_04.txt\n",
      "2011 05 afl_raw/2011_05.txt\n",
      "2011 06 afl_raw/2011_06.txt\n",
      "2011 07 afl_raw/2011_07.txt\n",
      "2011 08 afl_raw/2011_08.txt\n",
      "2011 09 afl_raw/2011_09.txt\n",
      "2011 10 afl_raw/2011_10.txt\n",
      "2011 11 afl_raw/2011_11.txt\n",
      "2011 12 afl_raw/2011_12.txt\n",
      "2011 13 afl_raw/2011_13.txt\n",
      "2011 14 afl_raw/2011_14.txt\n",
      "2011 15 afl_raw/2011_15.txt\n",
      "2011 16 afl_raw/2011_16.txt\n",
      "2011 17 afl_raw/2011_17.txt\n",
      "2011 18 afl_raw/2011_18.txt\n",
      "2011 19 afl_raw/2011_19.txt\n",
      "2011 20 afl_raw/2011_20.txt\n",
      "2011 21 afl_raw/2011_21.txt\n",
      "2011 22 afl_raw/2011_22.txt\n",
      "2011 23 afl_raw/2011_23.txt\n",
      "2011 24 afl_raw/2011_24.txt\n",
      "2011 25 afl_raw/2011_25.txt\n",
      "2011 26 afl_raw/2011_26.txt\n",
      "2011 27 afl_raw/2011_27.txt\n",
      "2010 01 afl_raw/2010_01.txt\n",
      "2010 02 afl_raw/2010_02.txt\n",
      "2010 03 afl_raw/2010_03.txt\n",
      "2010 04 afl_raw/2010_04.txt\n",
      "2010 05 afl_raw/2010_05.txt\n",
      "2010 06 afl_raw/2010_06.txt\n",
      "2010 07 afl_raw/2010_07.txt\n",
      "2010 08 afl_raw/2010_08.txt\n",
      "2010 09 afl_raw/2010_09.txt\n",
      "2010 10 afl_raw/2010_10.txt\n",
      "2010 11 afl_raw/2010_11.txt\n",
      "2010 12 afl_raw/2010_12.txt\n",
      "2010 13 afl_raw/2010_13.txt\n",
      "2010 14 afl_raw/2010_14.txt\n",
      "2010 15 afl_raw/2010_15.txt\n",
      "2010 16 afl_raw/2010_16.txt\n",
      "2010 17 afl_raw/2010_17.txt\n",
      "2010 18 afl_raw/2010_18.txt\n",
      "2010 19 afl_raw/2010_19.txt\n",
      "2010 20 afl_raw/2010_20.txt\n",
      "2010 21 afl_raw/2010_21.txt\n",
      "2010 22 afl_raw/2010_22.txt\n",
      "2010 23 afl_raw/2010_23.txt\n",
      "2010 24 afl_raw/2010_24.txt\n",
      "2010 25 afl_raw/2010_25.txt\n",
      "2010 26 afl_raw/2010_26.txt\n",
      "2010 27 afl_raw/2010_27.txt\n",
      "2009 01 afl_raw/2009_01.txt\n",
      "2009 02 afl_raw/2009_02.txt\n",
      "2009 03 afl_raw/2009_03.txt\n",
      "2009 04 afl_raw/2009_04.txt\n",
      "2009 05 afl_raw/2009_05.txt\n",
      "2009 06 afl_raw/2009_06.txt\n",
      "2009 07 afl_raw/2009_07.txt\n",
      "2009 08 afl_raw/2009_08.txt\n",
      "2009 09 afl_raw/2009_09.txt\n",
      "2009 10 afl_raw/2009_10.txt\n",
      "2009 11 afl_raw/2009_11.txt\n",
      "2009 12 afl_raw/2009_12.txt\n",
      "2009 13 afl_raw/2009_13.txt\n",
      "2009 14 afl_raw/2009_14.txt\n",
      "2009 15 afl_raw/2009_15.txt\n",
      "2009 16 afl_raw/2009_16.txt\n",
      "2009 17 afl_raw/2009_17.txt\n",
      "2009 18 afl_raw/2009_18.txt\n",
      "2009 19 afl_raw/2009_19.txt\n",
      "2009 20 afl_raw/2009_20.txt\n",
      "2009 21 afl_raw/2009_21.txt\n",
      "2009 22 afl_raw/2009_22.txt\n",
      "2009 23 afl_raw/2009_23.txt\n",
      "2009 24 afl_raw/2009_24.txt\n",
      "2009 25 afl_raw/2009_25.txt\n",
      "2009 26 afl_raw/2009_26.txt\n",
      "2009 27 afl_raw/2009_27.txt\n",
      "2008 01 afl_raw/2008_01.txt\n",
      "2008 02 afl_raw/2008_02.txt\n",
      "2008 03 afl_raw/2008_03.txt\n",
      "2008 04 afl_raw/2008_04.txt\n",
      "2008 05 afl_raw/2008_05.txt\n",
      "2008 06 afl_raw/2008_06.txt\n",
      "2008 07 afl_raw/2008_07.txt\n",
      "2008 08 afl_raw/2008_08.txt\n",
      "2008 09 afl_raw/2008_09.txt\n",
      "2008 10 afl_raw/2008_10.txt\n",
      "2008 11 afl_raw/2008_11.txt\n",
      "2008 12 afl_raw/2008_12.txt\n",
      "2008 13 afl_raw/2008_13.txt\n",
      "2008 14 afl_raw/2008_14.txt\n",
      "2008 15 afl_raw/2008_15.txt\n",
      "2008 16 afl_raw/2008_16.txt\n",
      "2008 17 afl_raw/2008_17.txt\n",
      "2008 18 afl_raw/2008_18.txt\n",
      "2008 19 afl_raw/2008_19.txt\n",
      "2008 20 afl_raw/2008_20.txt\n",
      "2008 21 afl_raw/2008_21.txt\n",
      "2008 22 afl_raw/2008_22.txt\n",
      "2008 23 afl_raw/2008_23.txt\n",
      "2008 24 afl_raw/2008_24.txt\n",
      "2008 25 afl_raw/2008_25.txt\n",
      "2008 26 afl_raw/2008_26.txt\n",
      "2008 27 afl_raw/2008_27.txt\n",
      "2007 01 afl_raw/2007_01.txt\n",
      "2007 02 afl_raw/2007_02.txt\n",
      "2007 03 afl_raw/2007_03.txt\n",
      "2007 04 afl_raw/2007_04.txt\n",
      "2007 05 afl_raw/2007_05.txt\n",
      "2007 06 afl_raw/2007_06.txt\n",
      "2007 07 afl_raw/2007_07.txt\n",
      "2007 08 afl_raw/2007_08.txt\n",
      "2007 09 afl_raw/2007_09.txt\n",
      "2007 10 afl_raw/2007_10.txt\n",
      "2007 11 afl_raw/2007_11.txt\n",
      "2007 12 afl_raw/2007_12.txt\n",
      "2007 13 afl_raw/2007_13.txt\n",
      "2007 14 afl_raw/2007_14.txt\n",
      "2007 15 afl_raw/2007_15.txt\n",
      "2007 16 afl_raw/2007_16.txt\n",
      "2007 17 afl_raw/2007_17.txt\n",
      "2007 18 afl_raw/2007_18.txt\n",
      "2007 19 afl_raw/2007_19.txt\n",
      "2007 20 afl_raw/2007_20.txt\n",
      "2007 21 afl_raw/2007_21.txt\n",
      "2007 22 afl_raw/2007_22.txt\n",
      "2007 23 afl_raw/2007_23.txt\n",
      "2007 24 afl_raw/2007_24.txt\n",
      "2007 25 afl_raw/2007_25.txt\n",
      "2007 26 afl_raw/2007_26.txt\n",
      "2007 27 afl_raw/2007_27.txt\n",
      "2006 01 afl_raw/2006_01.txt\n",
      "2006 02 afl_raw/2006_02.txt\n",
      "2006 03 afl_raw/2006_03.txt\n",
      "2006 04 afl_raw/2006_04.txt\n",
      "2006 05 afl_raw/2006_05.txt\n",
      "2006 06 afl_raw/2006_06.txt\n",
      "2006 07 afl_raw/2006_07.txt\n",
      "2006 08 afl_raw/2006_08.txt\n",
      "2006 09 afl_raw/2006_09.txt\n",
      "2006 10 afl_raw/2006_10.txt\n",
      "2006 11 afl_raw/2006_11.txt\n",
      "2006 12 afl_raw/2006_12.txt\n",
      "2006 13 afl_raw/2006_13.txt\n",
      "2006 14 afl_raw/2006_14.txt\n",
      "2006 15 afl_raw/2006_15.txt\n",
      "2006 16 afl_raw/2006_16.txt\n",
      "2006 17 afl_raw/2006_17.txt\n",
      "2006 18 afl_raw/2006_18.txt\n",
      "2006 19 afl_raw/2006_19.txt\n",
      "2006 20 afl_raw/2006_20.txt\n",
      "2006 21 afl_raw/2006_21.txt\n",
      "2006 22 afl_raw/2006_22.txt\n",
      "2006 23 afl_raw/2006_23.txt\n",
      "2006 24 afl_raw/2006_24.txt\n",
      "2006 25 afl_raw/2006_25.txt\n",
      "2006 26 afl_raw/2006_26.txt\n",
      "2006 27 afl_raw/2006_27.txt\n",
      "2005 01 afl_raw/2005_01.txt\n",
      "2005 02 afl_raw/2005_02.txt\n",
      "2005 03 afl_raw/2005_03.txt\n",
      "2005 04 afl_raw/2005_04.txt\n",
      "2005 05 afl_raw/2005_05.txt\n",
      "2005 06 afl_raw/2005_06.txt\n",
      "2005 07 afl_raw/2005_07.txt\n",
      "2005 08 afl_raw/2005_08.txt\n",
      "2005 09 afl_raw/2005_09.txt\n",
      "2005 10 afl_raw/2005_10.txt\n",
      "2005 11 afl_raw/2005_11.txt\n",
      "2005 12 afl_raw/2005_12.txt\n",
      "2005 13 afl_raw/2005_13.txt\n",
      "2005 14 afl_raw/2005_14.txt\n",
      "2005 15 afl_raw/2005_15.txt\n",
      "2005 16 afl_raw/2005_16.txt\n",
      "2005 17 afl_raw/2005_17.txt\n",
      "2005 18 afl_raw/2005_18.txt\n",
      "2005 19 afl_raw/2005_19.txt\n",
      "2005 20 afl_raw/2005_20.txt\n",
      "2005 21 afl_raw/2005_21.txt\n",
      "2005 22 afl_raw/2005_22.txt\n",
      "2005 23 afl_raw/2005_23.txt\n",
      "2005 24 afl_raw/2005_24.txt\n",
      "2005 25 afl_raw/2005_25.txt\n",
      "2005 26 afl_raw/2005_26.txt\n",
      "2005 27 afl_raw/2005_27.txt\n",
      "2004 01 afl_raw/2004_01.txt\n",
      "2004 02 afl_raw/2004_02.txt\n",
      "2004 03 afl_raw/2004_03.txt\n",
      "2004 04 afl_raw/2004_04.txt\n",
      "2004 05 afl_raw/2004_05.txt\n",
      "2004 06 afl_raw/2004_06.txt\n",
      "2004 07 afl_raw/2004_07.txt\n",
      "2004 08 afl_raw/2004_08.txt\n",
      "2004 09 afl_raw/2004_09.txt\n",
      "2004 10 afl_raw/2004_10.txt\n",
      "2004 11 afl_raw/2004_11.txt\n",
      "2004 12 afl_raw/2004_12.txt\n",
      "2004 13 afl_raw/2004_13.txt\n",
      "2004 14 afl_raw/2004_14.txt\n",
      "2004 15 afl_raw/2004_15.txt\n",
      "2004 16 afl_raw/2004_16.txt\n",
      "2004 17 afl_raw/2004_17.txt\n",
      "2004 18 afl_raw/2004_18.txt\n",
      "2004 19 afl_raw/2004_19.txt\n",
      "2004 20 afl_raw/2004_20.txt\n",
      "2004 21 afl_raw/2004_21.txt\n",
      "2004 22 afl_raw/2004_22.txt\n",
      "2004 23 afl_raw/2004_23.txt\n",
      "2004 24 afl_raw/2004_24.txt\n",
      "2004 25 afl_raw/2004_25.txt\n",
      "2004 26 afl_raw/2004_26.txt\n",
      "2004 27 afl_raw/2004_27.txt\n",
      "2003 01 afl_raw/2003_01.txt\n",
      "2003 02 afl_raw/2003_02.txt\n",
      "2003 03 afl_raw/2003_03.txt\n",
      "2003 04 afl_raw/2003_04.txt\n",
      "2003 05 afl_raw/2003_05.txt\n",
      "2003 06 afl_raw/2003_06.txt\n",
      "2003 07 afl_raw/2003_07.txt\n",
      "2003 08 afl_raw/2003_08.txt\n",
      "2003 09 afl_raw/2003_09.txt\n",
      "2003 10 afl_raw/2003_10.txt\n",
      "2003 11 afl_raw/2003_11.txt\n",
      "2003 12 afl_raw/2003_12.txt\n",
      "2003 13 afl_raw/2003_13.txt\n",
      "2003 14 afl_raw/2003_14.txt\n",
      "2003 15 afl_raw/2003_15.txt\n",
      "2003 16 afl_raw/2003_16.txt\n",
      "2003 17 afl_raw/2003_17.txt\n",
      "2003 18 afl_raw/2003_18.txt\n",
      "2003 19 afl_raw/2003_19.txt\n",
      "2003 20 afl_raw/2003_20.txt\n",
      "2003 21 afl_raw/2003_21.txt\n",
      "2003 22 afl_raw/2003_22.txt\n",
      "2003 23 afl_raw/2003_23.txt\n",
      "2003 24 afl_raw/2003_24.txt\n",
      "2003 25 afl_raw/2003_25.txt\n",
      "2003 26 afl_raw/2003_26.txt\n",
      "2003 27 afl_raw/2003_27.txt\n",
      "2002 01 afl_raw/2002_01.txt\n",
      "2002 02 afl_raw/2002_02.txt\n",
      "2002 03 afl_raw/2002_03.txt\n",
      "2002 04 afl_raw/2002_04.txt\n",
      "2002 05 afl_raw/2002_05.txt\n",
      "2002 06 afl_raw/2002_06.txt\n",
      "2002 07 afl_raw/2002_07.txt\n",
      "2002 08 afl_raw/2002_08.txt\n",
      "2002 09 afl_raw/2002_09.txt\n",
      "2002 10 afl_raw/2002_10.txt\n",
      "2002 11 afl_raw/2002_11.txt\n",
      "2002 12 afl_raw/2002_12.txt\n",
      "2002 13 afl_raw/2002_13.txt\n",
      "2002 14 afl_raw/2002_14.txt\n",
      "2002 15 afl_raw/2002_15.txt\n",
      "2002 16 afl_raw/2002_16.txt\n",
      "2002 17 afl_raw/2002_17.txt\n",
      "2002 18 afl_raw/2002_18.txt\n",
      "2002 19 afl_raw/2002_19.txt\n",
      "2002 20 afl_raw/2002_20.txt\n",
      "2002 21 afl_raw/2002_21.txt\n",
      "2002 22 afl_raw/2002_22.txt\n",
      "2002 23 afl_raw/2002_23.txt\n",
      "2002 24 afl_raw/2002_24.txt\n",
      "2002 25 afl_raw/2002_25.txt\n",
      "2002 26 afl_raw/2002_26.txt\n",
      "2002 27 afl_raw/2002_27.txt\n",
      "2001 01 afl_raw/2001_01.txt\n",
      "2001 02 afl_raw/2001_02.txt\n",
      "2001 03 afl_raw/2001_03.txt\n",
      "2001 04 afl_raw/2001_04.txt\n",
      "2001 05 afl_raw/2001_05.txt\n",
      "2001 06 afl_raw/2001_06.txt\n",
      "2001 07 afl_raw/2001_07.txt\n",
      "2001 08 afl_raw/2001_08.txt\n",
      "2001 09 afl_raw/2001_09.txt\n",
      "2001 10 afl_raw/2001_10.txt\n",
      "2001 11 afl_raw/2001_11.txt\n",
      "2001 12 afl_raw/2001_12.txt\n",
      "2001 13 afl_raw/2001_13.txt\n",
      "2001 14 afl_raw/2001_14.txt\n",
      "2001 15 afl_raw/2001_15.txt\n",
      "2001 16 afl_raw/2001_16.txt\n",
      "2001 17 afl_raw/2001_17.txt\n",
      "2001 18 afl_raw/2001_18.txt\n",
      "2001 19 afl_raw/2001_19.txt\n",
      "2001 20 afl_raw/2001_20.txt\n",
      "2001 21 afl_raw/2001_21.txt\n",
      "2001 22 afl_raw/2001_22.txt\n",
      "2001 23 afl_raw/2001_23.txt\n",
      "2001 24 afl_raw/2001_24.txt\n",
      "2001 25 afl_raw/2001_25.txt\n",
      "2001 26 afl_raw/2001_26.txt\n",
      "2001 27 afl_raw/2001_27.txt\n"
     ]
    }
   ],
   "source": [
    "mega_list = []\n",
    "for current_year in year_list:\n",
    "    for current_round in round_list:\n",
    "        data = readfile(current_year, current_round)\n",
    "        if data:\n",
    "            try:\n",
    "                mega_list.extend(data)\n",
    "            except Exception as e:\n",
    "                print(e, data)\n",
    "            #print (current_year)\n",
    "        #except Exception as e:\n",
    "            #print (e)\n"
   ]
  },
  {
   "cell_type": "markdown",
   "metadata": {},
   "source": [
    "### TEST DATAFRAME AND REVIEW SIZE"
   ]
  },
  {
   "cell_type": "code",
   "execution_count": 223,
   "metadata": {
    "collapsed": false
   },
   "outputs": [
    {
     "name": "stdout",
     "output_type": "stream",
     "text": [
      "(6252, 48)\n"
     ]
    },
    {
     "data": {
      "text/plain": [
       "(6252, 48)"
      ]
     },
     "execution_count": 223,
     "metadata": {},
     "output_type": "execute_result"
    }
   ],
   "source": [
    "df = pd.DataFrame(mega_list)\n",
    "print (df.shape)\n",
    "df.head(300)\n",
    "df.shape"
   ]
  },
  {
   "cell_type": "markdown",
   "metadata": {},
   "source": [
    "### SEE DATA TYPES"
   ]
  },
  {
   "cell_type": "code",
   "execution_count": 225,
   "metadata": {
    "collapsed": false
   },
   "outputs": [
    {
     "data": {
      "text/plain": [
       "behinds                   float64\n",
       "bounces                   float64\n",
       "centreClearances          float64\n",
       "clangers                  float64\n",
       "contestedMarks            float64\n",
       "contestedPossessions      float64\n",
       "disposalEfficiency        float64\n",
       "disposals                 float64\n",
       "dreamTeamPoints           float64\n",
       "freesAgainst              float64\n",
       "freesFor                  float64\n",
       "goalAccuracy              float64\n",
       "goalAssists               float64\n",
       "goalEfficiency            float64\n",
       "goals                     float64\n",
       "handballs                 float64\n",
       "hitouts                   float64\n",
       "home                         bool\n",
       "inside50s                 float64\n",
       "intercepts                float64\n",
       "interchangeCounts          object\n",
       "kicks                     float64\n",
       "lastUpdated                object\n",
       "marks                     float64\n",
       "marksInside50             float64\n",
       "match_id                   object\n",
       "metresGained               object\n",
       "onePercenters             float64\n",
       "ranking                    object\n",
       "ratingPoints               object\n",
       "rebound50s                float64\n",
       "round                      object\n",
       "scoreInvolvements          object\n",
       "shotEfficiency            float64\n",
       "shotsAtGoal               float64\n",
       "stoppageClearances        float64\n",
       "superGoals                 object\n",
       "tackles                   float64\n",
       "tacklesInside50           float64\n",
       "teamAbbr                   object\n",
       "teamId                     object\n",
       "teamName                   object\n",
       "teamNickname               object\n",
       "totalClearances           float64\n",
       "totalPossessions          float64\n",
       "turnovers                 float64\n",
       "uncontestedPossessions    float64\n",
       "year                       object\n",
       "dtype: object"
      ]
     },
     "execution_count": 225,
     "metadata": {},
     "output_type": "execute_result"
    }
   ],
   "source": [
    "df.dtypes"
   ]
  },
  {
   "cell_type": "markdown",
   "metadata": {},
   "source": [
    "### ASSIGN OPPONENT- LIST TECHNIQUE"
   ]
  },
  {
   "cell_type": "markdown",
   "metadata": {
    "collapsed": false
   },
   "source": [
    "grades = []\n",
    "\n",
    "for index, row in df.iterrows():\n",
    "    current_name = row['teamName']\n",
    "    current_match = row['match_id']\n",
    "    print  (current_name)\n",
    "    for index_, row_ in df.iterrows():\n",
    "        if (row_['match_id'] == current_match) & (row_['teamName'] != current_name):\n",
    "            opponent = row_['teamName']\n",
    "            grades.append(opponent)\n",
    "            print (opponent)\n",
    "            "
   ]
  },
  {
   "cell_type": "markdown",
   "metadata": {
    "collapsed": true
   },
   "source": [
    "df['opponent'] = grades"
   ]
  },
  {
   "cell_type": "markdown",
   "metadata": {},
   "source": [
    "### ASSIGN OPPONENT- VECTORISED TECHNIQUE"
   ]
  },
  {
   "cell_type": "code",
   "execution_count": 226,
   "metadata": {
    "collapsed": false
   },
   "outputs": [],
   "source": [
    "def opponent_(x):\n",
    "    game_pair = df[df.match_id == x.match_id]\n",
    "    other_team = game_pair[game_pair.teamName != x.teamName]\n",
    "    return list(other_team.teamName)[0]"
   ]
  },
  {
   "cell_type": "code",
   "execution_count": 227,
   "metadata": {
    "collapsed": true
   },
   "outputs": [],
   "source": [
    "df['Opponent']= df.apply(opponent_, axis =1)"
   ]
  },
  {
   "cell_type": "markdown",
   "metadata": {},
   "source": [
    "### TOTAL SCORE"
   ]
  },
  {
   "cell_type": "code",
   "execution_count": 228,
   "metadata": {
    "collapsed": true
   },
   "outputs": [],
   "source": [
    "def total_(x):\n",
    "    total_score = x.behinds + ((x.goals)*6)                   \n",
    "    return total_score"
   ]
  },
  {
   "cell_type": "code",
   "execution_count": 229,
   "metadata": {
    "collapsed": false
   },
   "outputs": [],
   "source": [
    "df['total_score']= df.apply(total_, axis =1)"
   ]
  },
  {
   "cell_type": "markdown",
   "metadata": {},
   "source": [
    "### ASSIGN WIN OR LOSS- VECTORISED TECHNIQUE"
   ]
  },
  {
   "cell_type": "code",
   "execution_count": 230,
   "metadata": {
    "collapsed": false
   },
   "outputs": [],
   "source": [
    "def win_(x):\n",
    "    x_score = x.total_score\n",
    "    #Pair up with same match id\n",
    "    game_pair = df[x.match_id == df.match_id]\n",
    "    # Find the other team\n",
    "    other_team = game_pair[game_pair.teamName != x.teamName]\n",
    "    # Find other team score\n",
    "    other_score = list(other_team.total_score)[0]\n",
    "    #return (other_score)\n",
    "    if x_score > other_score:\n",
    "        return 'Win'\n",
    "    elif x_score == other_score:\n",
    "        return 'Draw'\n",
    "    else: \n",
    "        return \"Lose\""
   ]
  },
  {
   "cell_type": "code",
   "execution_count": 231,
   "metadata": {
    "collapsed": false
   },
   "outputs": [],
   "source": [
    "df['Result']= df.apply(win_, axis =1)"
   ]
  },
  {
   "cell_type": "markdown",
   "metadata": {},
   "source": [
    "### COLUMN HEADERS CAPITALISED"
   ]
  },
  {
   "cell_type": "code",
   "execution_count": 232,
   "metadata": {
    "collapsed": true
   },
   "outputs": [],
   "source": [
    "df.columns = map(str.upper, df.columns)"
   ]
  },
  {
   "cell_type": "markdown",
   "metadata": {},
   "source": [
    "### TEST IN HEAD"
   ]
  },
  {
   "cell_type": "code",
   "execution_count": 235,
   "metadata": {
    "collapsed": false
   },
   "outputs": [
    {
     "data": {
      "text/plain": [
       "(6252, 51)"
      ]
     },
     "execution_count": 235,
     "metadata": {},
     "output_type": "execute_result"
    }
   ],
   "source": [
    "df.head()\n",
    "df.shape"
   ]
  },
  {
   "cell_type": "markdown",
   "metadata": {},
   "source": [
    "### TEST A SPECPIFIC ROWS RESULT"
   ]
  },
  {
   "cell_type": "markdown",
   "metadata": {},
   "source": [
    "df.loc[0].total_score"
   ]
  },
  {
   "cell_type": "markdown",
   "metadata": {},
   "source": [
    "### EXPORTING TO CSV (Create stable copy for web)"
   ]
  },
  {
   "cell_type": "code",
   "execution_count": 236,
   "metadata": {
    "collapsed": false
   },
   "outputs": [],
   "source": [
    "df.to_csv(\"afl_data_set_0.csv\")"
   ]
  },
  {
   "cell_type": "markdown",
   "metadata": {},
   "source": [
    "## WORK WITH STABLE CSV"
   ]
  },
  {
   "cell_type": "markdown",
   "metadata": {},
   "source": [
    "### LOAD IN CSV FOR STABLE FILE"
   ]
  },
  {
   "cell_type": "code",
   "execution_count": 237,
   "metadata": {
    "collapsed": false
   },
   "outputs": [
    {
     "name": "stdout",
     "output_type": "stream",
     "text": [
      "loading from file\n",
      "done\n"
     ]
    }
   ],
   "source": [
    "if os.path.isfile(\"afl_data_set_0.csv\"):\n",
    "    filepath = \"afl_data_set_0.csv\"\n",
    "    print (\"loading from file\")\n",
    "else:\n",
    "    filepath = \"http://www.osr.nsw.gov.au/sites/default/files/file_manager/penalty_data_set_0.csv\"\n",
    "    print (\"loading from the internet\")\n",
    "\n",
    "df = pd.read_csv(filepath)\n",
    "print (\"done\")"
   ]
  },
  {
   "cell_type": "markdown",
   "metadata": {},
   "source": [
    "### TEST DATAFRAME"
   ]
  },
  {
   "cell_type": "code",
   "execution_count": 239,
   "metadata": {
    "collapsed": false
   },
   "outputs": [
    {
     "data": {
      "text/html": [
       "<div>\n",
       "<table border=\"1\" class=\"dataframe\">\n",
       "  <thead>\n",
       "    <tr style=\"text-align: right;\">\n",
       "      <th></th>\n",
       "      <th>Unnamed: 0</th>\n",
       "      <th>BEHINDS</th>\n",
       "      <th>BOUNCES</th>\n",
       "      <th>CENTRECLEARANCES</th>\n",
       "      <th>CLANGERS</th>\n",
       "      <th>CONTESTEDMARKS</th>\n",
       "      <th>CONTESTEDPOSSESSIONS</th>\n",
       "      <th>DISPOSALEFFICIENCY</th>\n",
       "      <th>DISPOSALS</th>\n",
       "      <th>DREAMTEAMPOINTS</th>\n",
       "      <th>...</th>\n",
       "      <th>TEAMNAME</th>\n",
       "      <th>TEAMNICKNAME</th>\n",
       "      <th>TOTALCLEARANCES</th>\n",
       "      <th>TOTALPOSSESSIONS</th>\n",
       "      <th>TURNOVERS</th>\n",
       "      <th>UNCONTESTEDPOSSESSIONS</th>\n",
       "      <th>YEAR</th>\n",
       "      <th>OPPONENT</th>\n",
       "      <th>TOTAL_SCORE</th>\n",
       "      <th>RESULT</th>\n",
       "    </tr>\n",
       "  </thead>\n",
       "  <tbody>\n",
       "    <tr>\n",
       "      <th>0</th>\n",
       "      <td>0</td>\n",
       "      <td>5.0</td>\n",
       "      <td>8.0</td>\n",
       "      <td>19.0</td>\n",
       "      <td>49.0</td>\n",
       "      <td>14.0</td>\n",
       "      <td>138.0</td>\n",
       "      <td>73.6</td>\n",
       "      <td>348.0</td>\n",
       "      <td>1604.0</td>\n",
       "      <td>...</td>\n",
       "      <td>Carlton</td>\n",
       "      <td>Blues</td>\n",
       "      <td>38.0</td>\n",
       "      <td>341.0</td>\n",
       "      <td>81.0</td>\n",
       "      <td>203.0</td>\n",
       "      <td>2017</td>\n",
       "      <td>Richmond</td>\n",
       "      <td>89.0</td>\n",
       "      <td>Lose</td>\n",
       "    </tr>\n",
       "    <tr>\n",
       "      <th>1</th>\n",
       "      <td>1</td>\n",
       "      <td>12.0</td>\n",
       "      <td>3.0</td>\n",
       "      <td>16.0</td>\n",
       "      <td>55.0</td>\n",
       "      <td>11.0</td>\n",
       "      <td>149.0</td>\n",
       "      <td>79.0</td>\n",
       "      <td>352.0</td>\n",
       "      <td>1551.0</td>\n",
       "      <td>...</td>\n",
       "      <td>Richmond</td>\n",
       "      <td>Tigers</td>\n",
       "      <td>40.0</td>\n",
       "      <td>354.0</td>\n",
       "      <td>68.0</td>\n",
       "      <td>205.0</td>\n",
       "      <td>2017</td>\n",
       "      <td>Carlton</td>\n",
       "      <td>132.0</td>\n",
       "      <td>Win</td>\n",
       "    </tr>\n",
       "    <tr>\n",
       "      <th>2</th>\n",
       "      <td>2</td>\n",
       "      <td>14.0</td>\n",
       "      <td>2.0</td>\n",
       "      <td>16.0</td>\n",
       "      <td>45.0</td>\n",
       "      <td>12.0</td>\n",
       "      <td>161.0</td>\n",
       "      <td>74.5</td>\n",
       "      <td>431.0</td>\n",
       "      <td>1835.0</td>\n",
       "      <td>...</td>\n",
       "      <td>Collingwood</td>\n",
       "      <td>Magpies</td>\n",
       "      <td>42.0</td>\n",
       "      <td>437.0</td>\n",
       "      <td>70.0</td>\n",
       "      <td>276.0</td>\n",
       "      <td>2017</td>\n",
       "      <td>Western Bulldogs</td>\n",
       "      <td>86.0</td>\n",
       "      <td>Lose</td>\n",
       "    </tr>\n",
       "    <tr>\n",
       "      <th>3</th>\n",
       "      <td>3</td>\n",
       "      <td>10.0</td>\n",
       "      <td>3.0</td>\n",
       "      <td>10.0</td>\n",
       "      <td>44.0</td>\n",
       "      <td>12.0</td>\n",
       "      <td>135.0</td>\n",
       "      <td>77.0</td>\n",
       "      <td>392.0</td>\n",
       "      <td>1774.0</td>\n",
       "      <td>...</td>\n",
       "      <td>Western Bulldogs</td>\n",
       "      <td>Bulldogs</td>\n",
       "      <td>26.0</td>\n",
       "      <td>394.0</td>\n",
       "      <td>63.0</td>\n",
       "      <td>259.0</td>\n",
       "      <td>2017</td>\n",
       "      <td>Collingwood</td>\n",
       "      <td>100.0</td>\n",
       "      <td>Win</td>\n",
       "    </tr>\n",
       "    <tr>\n",
       "      <th>4</th>\n",
       "      <td>4</td>\n",
       "      <td>12.0</td>\n",
       "      <td>6.0</td>\n",
       "      <td>14.0</td>\n",
       "      <td>51.0</td>\n",
       "      <td>9.0</td>\n",
       "      <td>139.0</td>\n",
       "      <td>69.7</td>\n",
       "      <td>337.0</td>\n",
       "      <td>1341.0</td>\n",
       "      <td>...</td>\n",
       "      <td>St Kilda</td>\n",
       "      <td>Saints</td>\n",
       "      <td>31.0</td>\n",
       "      <td>338.0</td>\n",
       "      <td>62.0</td>\n",
       "      <td>199.0</td>\n",
       "      <td>2017</td>\n",
       "      <td>Melbourne</td>\n",
       "      <td>90.0</td>\n",
       "      <td>Lose</td>\n",
       "    </tr>\n",
       "  </tbody>\n",
       "</table>\n",
       "<p>5 rows × 52 columns</p>\n",
       "</div>"
      ],
      "text/plain": [
       "   Unnamed: 0  BEHINDS  BOUNCES  CENTRECLEARANCES  CLANGERS  CONTESTEDMARKS  \\\n",
       "0           0      5.0      8.0              19.0      49.0            14.0   \n",
       "1           1     12.0      3.0              16.0      55.0            11.0   \n",
       "2           2     14.0      2.0              16.0      45.0            12.0   \n",
       "3           3     10.0      3.0              10.0      44.0            12.0   \n",
       "4           4     12.0      6.0              14.0      51.0             9.0   \n",
       "\n",
       "   CONTESTEDPOSSESSIONS  DISPOSALEFFICIENCY  DISPOSALS  DREAMTEAMPOINTS  \\\n",
       "0                 138.0                73.6      348.0           1604.0   \n",
       "1                 149.0                79.0      352.0           1551.0   \n",
       "2                 161.0                74.5      431.0           1835.0   \n",
       "3                 135.0                77.0      392.0           1774.0   \n",
       "4                 139.0                69.7      337.0           1341.0   \n",
       "\n",
       "    ...            TEAMNAME  TEAMNICKNAME  TOTALCLEARANCES  TOTALPOSSESSIONS  \\\n",
       "0   ...             Carlton         Blues             38.0             341.0   \n",
       "1   ...            Richmond        Tigers             40.0             354.0   \n",
       "2   ...         Collingwood       Magpies             42.0             437.0   \n",
       "3   ...    Western Bulldogs      Bulldogs             26.0             394.0   \n",
       "4   ...            St Kilda        Saints             31.0             338.0   \n",
       "\n",
       "   TURNOVERS  UNCONTESTEDPOSSESSIONS  YEAR          OPPONENT TOTAL_SCORE  \\\n",
       "0       81.0                   203.0  2017          Richmond        89.0   \n",
       "1       68.0                   205.0  2017           Carlton       132.0   \n",
       "2       70.0                   276.0  2017  Western Bulldogs        86.0   \n",
       "3       63.0                   259.0  2017       Collingwood       100.0   \n",
       "4       62.0                   199.0  2017         Melbourne        90.0   \n",
       "\n",
       "   RESULT  \n",
       "0    Lose  \n",
       "1     Win  \n",
       "2    Lose  \n",
       "3     Win  \n",
       "4    Lose  \n",
       "\n",
       "[5 rows x 52 columns]"
      ]
     },
     "execution_count": 239,
     "metadata": {},
     "output_type": "execute_result"
    }
   ],
   "source": [
    "df.head()\n",
    "#df.shape"
   ]
  },
  {
   "cell_type": "markdown",
   "metadata": {},
   "source": [
    "## ANALYSE"
   ]
  },
  {
   "cell_type": "markdown",
   "metadata": {},
   "source": [
    "### DRAW GRAPHS IN THE NOTEBOOK"
   ]
  },
  {
   "cell_type": "code",
   "execution_count": null,
   "metadata": {
    "collapsed": true
   },
   "outputs": [],
   "source": [
    "%matplotlib inline\n",
    "plt.rcParams['figure.figsize'] = (20, 10)"
   ]
  },
  {
   "cell_type": "code",
   "execution_count": null,
   "metadata": {
    "collapsed": true
   },
   "outputs": [],
   "source": []
  }
 ],
 "metadata": {
  "kernelspec": {
   "display_name": "Python 3",
   "language": "python",
   "name": "python3"
  },
  "language_info": {
   "codemirror_mode": {
    "name": "ipython",
    "version": 3
   },
   "file_extension": ".py",
   "mimetype": "text/x-python",
   "name": "python",
   "nbconvert_exporter": "python",
   "pygments_lexer": "ipython3",
   "version": "3.6.0"
  }
 },
 "nbformat": 4,
 "nbformat_minor": 2
}
