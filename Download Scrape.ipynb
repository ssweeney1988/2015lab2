{
 "cells": [
  {
   "cell_type": "code",
   "execution_count": 6,
   "metadata": {
    "collapsed": false
   },
   "outputs": [],
   "source": [
    "## all imports\n",
    "from IPython.display import HTML\n",
    "import chardet\n",
    "import io\n",
    "import numpy as np\n",
    "import os\n",
    "import urllib.request\n",
    "from urllib.request import urlopen\n",
    "from bs4 import BeautifulSoup\n",
    "from time import sleep\n",
    "import requests\n",
    "import operator\n",
    "import socket\n",
    "import _pickle\n",
    "import re # regular expressions\n",
    "\n",
    "from pandas import Series\n",
    "import pandas as pd\n",
    "from pandas import DataFrame\n",
    "\n",
    "import matplotlib\n",
    "import matplotlib.pyplot as plt\n",
    "%matplotlib inline\n",
    "\n",
    "import seaborn as sns\n",
    "sns.set_context(\"talk\")\n",
    "sns.set_style(\"white\")\n",
    "\n",
    "from selenium import webdriver\n",
    "from selenium.webdriver.support.ui import Select\n",
    "from selenium.webdriver.common.keys import Keys\n",
    "from selenium.webdriver.support.ui import WebDriverWait\n",
    "from selenium.webdriver.support import expected_conditions as EC\n",
    "\n",
    "\n",
    "\n",
    "#from secret import *"
   ]
  },
  {
   "cell_type": "markdown",
   "metadata": {},
   "source": [
    "### Firefox Driver"
   ]
  },
  {
   "cell_type": "code",
   "execution_count": 22,
   "metadata": {
    "collapsed": false
   },
   "outputs": [],
   "source": [
    "wd = webdriver.Firefox()\n",
    "#driver.implicitly_wait(10)\n",
    "wd.get('http://www.afl.com.au/stats')"
   ]
  },
  {
   "cell_type": "code",
   "execution_count": 69,
   "metadata": {
    "collapsed": false
   },
   "outputs": [],
   "source": [
    "def data_download (_year,_round):\n",
    "    movable_part = \"CD_S{year}014&roundId=CD_R{year}014{round}\".format(year=_year, round= _round)\n",
    "    #print(movable_part)\n",
    "    script = '' + \\\n",
    "    'window.a = jQuery.ajax({'+\\\n",
    "    '        url:\"http://www.afl.com.au/api/cfs/afl/statsCentre/teams?competitionId={}\",'.format(movable_part) +\\\n",
    "    '        headers: {'+\\\n",
    "    '                    \"X-media-mis-token\":\"bacd4d68e667f1bd2a5a8edea35a2a4f\"'+\\\n",
    "    '                 }'+\\\n",
    "    '        });' \n",
    "\n",
    "    wd.execute_script(script)\n",
    "    import time\n",
    "    import json\n",
    "    time.sleep(1)\n",
    "    wd.execute_script(\"console.log('the dude', window.a.responseText);\")\n",
    "    result = wd.execute_script(\"return window.a.responseText\")\n",
    "    \n",
    "    try:\n",
    "        data = json.loads(result)\n",
    "        filename= _year  + '_' + _round + '.txt'\n",
    "        with open('afl_raw/' + filename, 'w') as f:\n",
    "            f.write(result)\n",
    "            print ('exported ' + filename)\n",
    "        \n",
    "    except Exception as e:\n",
    "        filename= _year  + '_' + _round + '.txt'\n",
    "        with open('afl_raw/' + filename, 'w') as f:\n",
    "            f.write('error occured on writing')\n",
    "            print ('export error on ' + filename)\n",
    "        \n",
    "\n",
    "            \n",
    "\n",
    "    "
   ]
  },
  {
   "cell_type": "code",
   "execution_count": 41,
   "metadata": {
    "collapsed": true
   },
   "outputs": [],
   "source": [
    "year_list = ['2017','2016','2015','2014','2013','2012','2011','2010','2009','2008','2007','2006','2005','2004','2003','2002', '2001']\n",
    "year_list_2 = ['2017','2016']\n",
    "round_list = ['01','02','03','04','05','06','07','08','09','10','11','12','13','14','15','16','17','18','19','20','21','22','23','24','25','26','27']"
   ]
  },
  {
   "cell_type": "code",
   "execution_count": 72,
   "metadata": {
    "collapsed": false
   },
   "outputs": [
    {
     "name": "stdout",
     "output_type": "stream",
     "text": [
      "exported 2017_01.txt\n",
      "exported 2017_02.txt\n",
      "exported 2017_03.txt\n",
      "exported 2017_04.txt\n",
      "exported 2017_05.txt\n",
      "exported 2017_06.txt\n",
      "exported 2017_07.txt\n",
      "export error on 2017_08.txt\n",
      "export error on 2017_09.txt\n",
      "export error on 2017_10.txt\n",
      "export error on 2017_11.txt\n",
      "export error on 2017_12.txt\n",
      "export error on 2017_13.txt\n",
      "export error on 2017_14.txt\n",
      "export error on 2017_15.txt\n",
      "export error on 2017_16.txt\n",
      "export error on 2017_17.txt\n",
      "export error on 2017_18.txt\n",
      "export error on 2017_19.txt\n",
      "export error on 2017_20.txt\n",
      "export error on 2017_21.txt\n",
      "export error on 2017_22.txt\n",
      "export error on 2017_23.txt\n",
      "export error on 2017_24.txt\n",
      "export error on 2017_25.txt\n",
      "export error on 2017_26.txt\n",
      "export error on 2017_27.txt\n",
      "exported 2016_01.txt\n",
      "exported 2016_02.txt\n",
      "exported 2016_03.txt\n",
      "exported 2016_04.txt\n",
      "exported 2016_05.txt\n",
      "exported 2016_06.txt\n",
      "exported 2016_07.txt\n",
      "exported 2016_08.txt\n",
      "exported 2016_09.txt\n",
      "exported 2016_10.txt\n",
      "exported 2016_11.txt\n",
      "exported 2016_12.txt\n",
      "exported 2016_13.txt\n",
      "exported 2016_14.txt\n",
      "exported 2016_15.txt\n",
      "exported 2016_16.txt\n",
      "exported 2016_17.txt\n",
      "exported 2016_18.txt\n",
      "exported 2016_19.txt\n",
      "exported 2016_20.txt\n",
      "exported 2016_21.txt\n",
      "exported 2016_22.txt\n",
      "exported 2016_23.txt\n",
      "exported 2016_24.txt\n",
      "exported 2016_25.txt\n",
      "exported 2016_26.txt\n",
      "exported 2016_27.txt\n"
     ]
    }
   ],
   "source": [
    "for i in year_list_2:\n",
    "    current_year = i\n",
    "    for i in round_list:\n",
    "        current_round = i\n",
    "        data_download(current_year,current_round)"
   ]
  },
  {
   "cell_type": "code",
   "execution_count": 70,
   "metadata": {
    "collapsed": true
   },
   "outputs": [],
   "source": [
    "current_year = '2017'\n",
    "current_round ='08'"
   ]
  },
  {
   "cell_type": "code",
   "execution_count": 71,
   "metadata": {
    "collapsed": false
   },
   "outputs": [
    {
     "name": "stdout",
     "output_type": "stream",
     "text": [
      "export error on 2017_08.txt\n"
     ]
    }
   ],
   "source": [
    "data_download(current_year,current_round)"
   ]
  },
  {
   "cell_type": "code",
   "execution_count": 39,
   "metadata": {
    "collapsed": false
   },
   "outputs": [
    {
     "data": {
      "text/plain": [
       "{'teamAbbr': 'GWS',\n",
       " 'teamId': 'CD_T1010',\n",
       " 'teamName': 'GWS Giants',\n",
       " 'teamNickname': 'Giants'}"
      ]
     },
     "execution_count": 39,
     "metadata": {},
     "output_type": "execute_result"
    }
   ],
   "source": [
    "data['lists'][0]['team']"
   ]
  },
  {
   "cell_type": "code",
   "execution_count": 37,
   "metadata": {
    "collapsed": false
   },
   "outputs": [
    {
     "data": {
      "text/plain": [
       "{'behinds': 9.0,\n",
       " 'bounces': 5.0,\n",
       " 'clangers': 59.0,\n",
       " 'clearances': {'centreClearances': 11.0,\n",
       "  'stoppageClearances': 29.0,\n",
       "  'totalClearances': 40.0},\n",
       " 'contestedMarks': 15.0,\n",
       " 'contestedPossessions': 154.0,\n",
       " 'disposalEfficiency': 71.1,\n",
       " 'disposals': 381.0,\n",
       " 'dreamTeamPoints': 1638.0,\n",
       " 'freesAgainst': 26.0,\n",
       " 'freesFor': 18.0,\n",
       " 'goalAccuracy': 52.4,\n",
       " 'goalAssists': 8.0,\n",
       " 'goalEfficiency': 22.0,\n",
       " 'goals': 11.0,\n",
       " 'handballs': 163.0,\n",
       " 'hitouts': 62.0,\n",
       " 'inside50s': 50.0,\n",
       " 'intercepts': 63.0,\n",
       " 'interchangeCounts': {'interchangeCap': 90.0,\n",
       "  'interchangeCountQ1': 19.0,\n",
       "  'interchangeCountQ2': 20.0,\n",
       "  'interchangeCountQ3': 22.0,\n",
       "  'interchangeCountQ4': 21.0,\n",
       "  'totalInterchangeCount': 82.0},\n",
       " 'kicks': 218.0,\n",
       " 'lastUpdated': '2017-04-28T12:43:21.605+0000',\n",
       " 'marks': 95.0,\n",
       " 'marksInside50': 10.0,\n",
       " 'metresGained': None,\n",
       " 'onePercenters': 47.0,\n",
       " 'ranking': None,\n",
       " 'ratingPoints': None,\n",
       " 'rebound50s': 53.0,\n",
       " 'scoreInvolvements': None,\n",
       " 'shotEfficiency': 42.0,\n",
       " 'shotsAtGoal': 21.0,\n",
       " 'superGoals': None,\n",
       " 'tackles': 74.0,\n",
       " 'tacklesInside50': 6.0,\n",
       " 'totalPossessions': 380.0,\n",
       " 'turnovers': 68.0,\n",
       " 'uncontestedPossessions': 226.0}"
      ]
     },
     "execution_count": 37,
     "metadata": {},
     "output_type": "execute_result"
    }
   ],
   "source": [
    "data['lists'][0]['stats']['totals']"
   ]
  },
  {
   "cell_type": "code",
   "execution_count": 23,
   "metadata": {
    "collapsed": false
   },
   "outputs": [
    {
     "name": "stdout",
     "output_type": "stream",
     "text": [
      "None\n"
     ]
    }
   ],
   "source": [
    "print (result)"
   ]
  },
  {
   "cell_type": "code",
   "execution_count": 16,
   "metadata": {
    "collapsed": false
   },
   "outputs": [],
   "source": [
    "select = Select(driver.find_element_by_id('selTeamSeason'))\n",
    "#test = select.select_by_value('CD_S2013014')\n",
    "#print (test)"
   ]
  },
  {
   "cell_type": "code",
   "execution_count": null,
   "metadata": {
    "collapsed": true
   },
   "outputs": [],
   "source": [
    "select = Select(b.find_element_by_id('selTeamSeason'))\n",
    "select.select_by_value('CD_S2015014')\n",
    "\n",
    "\n",
    "#https://sqa.stackexchange.com/questions/1355/what-is-the-correct-way-to-select-an-option-using-seleniums-python-webdriver"
   ]
  },
  {
   "cell_type": "markdown",
   "metadata": {},
   "source": [
    "### Chrome Driver"
   ]
  },
  {
   "cell_type": "markdown",
   "metadata": {},
   "source": [
    "#chromedriver = \"Q:\\\\Users\\\\ssweeney\\\\Downloads\\\\chromedriver_win32\\\\chromedriver\"\n",
    "#os.environ[\"webdriver.chrome.driver\"] = chromedriver\n",
    "driver = webdriver.Chrome(chromedriver)\n",
    "driver.get(\"http://google.com\")\n",
    "#driver.quit()"
   ]
  },
  {
   "cell_type": "code",
   "execution_count": null,
   "metadata": {
    "collapsed": false
   },
   "outputs": [],
   "source": [
    "soup = BeautifulSoup(req.text, 'html.parser')\n",
    "stats_table = soup.find(\"div\", { \"class\" : \"stats-options\" })\n",
    "\n",
    "\n",
    "\n",
    "CD_S2017014"
   ]
  },
  {
   "cell_type": "markdown",
   "metadata": {},
   "source": [
    "<select id=\"fruits01\" class=\"select\" name=\"fruits\">\n",
    "    <option value=\"0\">Choose your fruits:</option>\n",
    "    <option value=\"1\">Banana</option>\n",
    "    <option value=\"2\">Mango</option>\n",
    "</select>"
   ]
  },
  {
   "cell_type": "code",
   "execution_count": null,
   "metadata": {
    "collapsed": false
   },
   "outputs": [],
   "source": [
    "driver = webdriver.Firefox()\n",
    "driver.get('http://www.afl.com.au/stats')\n",
    "\n",
    "select = Select(driver.find_element_by_id('selTeamSeason'))\n",
    "\n",
    "# select by visible text\n",
    "select.select_by_visible_text('Banana')\n",
    "\n",
    "\n",
    "\n",
    "\n",
    "\n",
    "# select by value \n",
    "select.select_by_value('1')\n",
    "\n",
    "\n",
    "\n",
    "\n",
    "selTeamSeason\n",
    "year_value = 'CD_S' + Year + '014'\n",
    "\n",
    "selTeamMatch\n",
    "month_value = 'CD_R' + Year + '014' + Round\n",
    "\n",
    "selTeamMatch\n",
    "match_value = 'CD_M' + Year + '014' + Round + Match\n",
    "\n",
    "\n",
    "CD_M20170140201\n",
    "\n",
    "extract all of that and run a loop that finds the input id that links to that\n",
    "\n",
    "http://stackoverflow.com/questions/7867537/selenium-python-drop-down-menu-option-value\n",
    "    \n",
    "    selenium.click(\"id=myButton”)\n",
    "    driver.find_element_by_id(\"checkbox_id\").click()\n",
    "    http://selenium-python.readthedocs.io/en/latest/locating-elements.html"
   ]
  },
  {
   "cell_type": "code",
   "execution_count": null,
   "metadata": {
    "collapsed": false
   },
   "outputs": [],
   "source": [
    "def get_season(link):\n",
    "    driver = webdriver.Firefox()\n",
    "    driver.get('url')\n",
    "    Year_Selector = filters.find(\"select\", { \"id\" : \"selTeamSeason\" })\n",
    "    Years = Year_Selector.find_all('option')\n",
    "    print (Years)\n",
    "    #for year in Years:\n",
    "        #print (year.string)"
   ]
  },
  {
   "cell_type": "code",
   "execution_count": null,
   "metadata": {
    "collapsed": false,
    "scrolled": true
   },
   "outputs": [],
   "source": [
    "get_season(Selector)"
   ]
  },
  {
   "cell_type": "code",
   "execution_count": null,
   "metadata": {
    "collapsed": false
   },
   "outputs": [],
   "source": [
    "def get_round(link):\n",
    "    Round_Selector = filters.find(\"select\", { \"id\" : \"selTeamRound\" })\n",
    "    Round = Round_Selector.find_all('option')\n",
    "    #print (Years)\n",
    "    #for year in Years:\n",
    "        #print (year.string)"
   ]
  },
  {
   "cell_type": "code",
   "execution_count": null,
   "metadata": {
    "collapsed": true
   },
   "outputs": [],
   "source": []
  },
  {
   "cell_type": "code",
   "execution_count": null,
   "metadata": {
    "collapsed": true
   },
   "outputs": [],
   "source": []
  }
 ],
 "metadata": {
  "kernelspec": {
   "display_name": "Python 3",
   "language": "python",
   "name": "python3"
  },
  "language_info": {
   "codemirror_mode": {
    "name": "ipython",
    "version": 3
   },
   "file_extension": ".py",
   "mimetype": "text/x-python",
   "name": "python",
   "nbconvert_exporter": "python",
   "pygments_lexer": "ipython3",
   "version": "3.6.0"
  }
 },
 "nbformat": 4,
 "nbformat_minor": 2
}
