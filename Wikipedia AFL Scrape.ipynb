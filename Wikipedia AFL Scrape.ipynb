{
 "cells": [
  {
   "cell_type": "code",
   "execution_count": 1,
   "metadata": {
    "collapsed": true
   },
   "outputs": [],
   "source": [
    "## all imports\n",
    "from IPython.display import HTML\n",
    "import chardet\n",
    "import io\n",
    "import numpy as np\n",
    "np.seterr(divide='ignore', invalid='ignore')\n",
    "import os\n",
    "import urllib.request\n",
    "from urllib.request import urlopen\n",
    "from bs4 import BeautifulSoup\n",
    "from time import sleep\n",
    "import requests\n",
    "import operator\n",
    "import socket\n",
    "import _pickle\n",
    "import math\n",
    "import re # regular expressions\n",
    "\n",
    "from pandas import Series\n",
    "import pandas as pd\n",
    "from pandas import DataFrame\n",
    "\n",
    "import matplotlib\n",
    "import matplotlib.pyplot as plt\n",
    "%matplotlib inline\n",
    "plt.rcParams['figure.figsize'] = (20, 10)\n",
    "import json\n",
    "\n",
    "import seaborn as sns\n",
    "sns.set_context(\"talk\")\n",
    "sns.set_style(\"white\")\n",
    "\n",
    "from selenium import webdriver\n",
    "from selenium.webdriver.support.ui import Select\n",
    "from selenium.webdriver.common.keys import Keys\n",
    "from selenium.webdriver.support.ui import WebDriverWait\n",
    "from selenium.webdriver.support import expected_conditions as EC\n",
    "\n",
    "\n",
    "\n",
    "#from secret import *"
   ]
  },
  {
   "cell_type": "code",
   "execution_count": 2,
   "metadata": {
    "collapsed": false
   },
   "outputs": [],
   "source": [
    "def find_url(row):\n",
    "    Base_Link_01= \"https://en.wikipedia.org/wiki/\"\n",
    "    Base_Link_02= \"_AFL_season\"\n",
    "    Variable= row\n",
    "    link = Base_Link_01 + Variable + Base_Link_02\n",
    "    return (link)"
   ]
  },
  {
   "cell_type": "code",
   "execution_count": 30,
   "metadata": {
    "collapsed": false
   },
   "outputs": [
    {
     "name": "stdout",
     "output_type": "stream",
     "text": [
      "time.struct_time(tm_year=2017, tm_mon=8, tm_mday=23, tm_hour=14, tm_min=40, tm_sec=0, tm_wday=6, tm_yday=235, tm_isdst=-1)\n"
     ]
    },
    {
     "data": {
      "text/plain": [
       "datetime.datetime(2017, 8, 23, 14, 40)"
      ]
     },
     "execution_count": 30,
     "metadata": {},
     "output_type": "execute_result"
    }
   ],
   "source": [
    "import time\n",
    "from datetime import datetime\n",
    "\n",
    "struct_time = time.strptime(str(2017) + \"Sunday, 23 August (2:40 pm)\", \"%Y%A, %d %B (%I:%M %p)\")\n",
    "\n",
    "dt = datetime.fromtimestamp(time.mktime(struct_time))\n",
    "print(struct_time)\n",
    "dt"
   ]
  },
  {
   "cell_type": "markdown",
   "metadata": {},
   "source": [
    "### CONVERT DATE"
   ]
  },
  {
   "cell_type": "code",
   "execution_count": 83,
   "metadata": {
    "collapsed": false
   },
   "outputs": [],
   "source": [
    "def date_conversion (x):\n",
    "    #x = \"PF1: Friday, 25 September (6:20 pm)\"\n",
    "    #x = \"Thursday, 14 June (5:40 pm)\"\n",
    "    count = x.count(\":\")\n",
    "    if count >1:\n",
    "        first_colon_index = x.index(\":\")\n",
    "        date = x[first_colon_index+1:].strip()\n",
    "        return (date)\n",
    "    else: \n",
    "        date = x\n",
    "        return (date)"
   ]
  },
  {
   "cell_type": "code",
   "execution_count": 98,
   "metadata": {
    "collapsed": false
   },
   "outputs": [
    {
     "data": {
      "text/plain": [
       "'Friday, 25 September (6:20 pm)'"
      ]
     },
     "execution_count": 98,
     "metadata": {},
     "output_type": "execute_result"
    }
   ],
   "source": [
    "date_conversion (\"PF1: Friday, 25 September (6:20 pm)\")"
   ]
  },
  {
   "cell_type": "markdown",
   "metadata": {},
   "source": [
    "### MATCH FUNCTION"
   ]
  },
  {
   "cell_type": "code",
   "execution_count": 215,
   "metadata": {
    "collapsed": false
   },
   "outputs": [],
   "source": [
    "def match_function(match, this_round, this_year):\n",
    "\n",
    "    try:\n",
    "\n",
    "\n",
    "        test = match.find_all('td')\n",
    "        #open_date = test[0].string\n",
    "        #print (open_date)\n",
    "        time_date= date_conversion(test[0].string)\n",
    "        \n",
    "        #time_date = test[0].string\n",
    "        day = time_date.split(',')[0]\n",
    "        date = time_date.split(',')[1].split('(')[0].strip().split(' ')[0]\n",
    "        month = time_date.split(',')[1].split('(')[0].strip().split(' ')[1]\n",
    "        time = (time_date.split('(')[1])[:-1]\n",
    "\n",
    "\n",
    "\n",
    "        #print (day)\n",
    "        #print (date)\n",
    "        #print (month)\n",
    "        #print (year_)\n",
    "        #print (time)\n",
    "        #print (time_date)\n",
    "\n",
    "        home_team = test[1].find('a').string\n",
    "        home_score = (''.join(text for text in test[1].find_all(text=True) if text.parent.name != \"a\")).strip()\n",
    "        home_goals= home_score.split('.')[0]\n",
    "        home_behinds= home_score.split('.')[1].split('(')[0]\n",
    "        home_total = (home_score.split('.')[1].split('(')[1])[:-1]\n",
    "        #print (home_team)\n",
    "        #print (home_goals)\n",
    "        #print (home_behinds)\n",
    "        #print (home_total)\n",
    "\n",
    "\n",
    "\n",
    "        away_team = test[3].find('a').string\n",
    "        away_score = (''.join(text for text in test[3].find_all(text=True) if text.parent.name != \"a\")).strip()\n",
    "        away_goals= away_score.split('.')[0]\n",
    "        away_behinds= away_score.split('.')[1].split('(')[0]\n",
    "        away_total = (away_score.split('.')[1].split('(')[1])[:-1]\n",
    "        #print (away_team)\n",
    "        #print (away_goals)\n",
    "        #print (away_behinds)\n",
    "        #print (away_total)\n",
    "\n",
    "\n",
    "\n",
    "        venue = test[4].find('a').string\n",
    "        venue_crowd = (''.join(text for text in test[4].find_all(text=True) if text.parent.name != \"a\")).strip()\n",
    "        venue_crowd_= (venue_crowd.split(':')[1])[:-1].strip()\n",
    "        final_crowd = venue_crowd_.replace(\",\", \"\")\n",
    "        #print (venue)\n",
    "        #print (final_crowd)\n",
    "\n",
    "\n",
    "        match_report_url = test[5].find('a')['href']\n",
    "        #print (match_report_url)\n",
    "\n",
    "\n",
    "        ind_match_dict= {\n",
    "             \"Day\": day,\n",
    "             \"Date\": date,\n",
    "             \"Month\": month,\n",
    "             \"Year\": this_year,\n",
    "             \"Round\": this_round,         \n",
    "             \"Time\": time,\n",
    "             \"Home Team\": home_team,\n",
    "             \"Home Goals\": home_goals,\n",
    "             \"Home Behinds\": home_behinds,\n",
    "             \"Home Total\": home_total,\n",
    "             \"Away Team\": away_team,\n",
    "             \"Away Goals\": away_goals,\n",
    "             \"Away Behinds\": away_behinds,\n",
    "             \"Away Total\": away_total,\n",
    "             \"Venue\": venue,\n",
    "             \"Crowd\": final_crowd,\n",
    "             \"Away Behinds\": away_behinds,\n",
    "             \"Match Link\": match_report_url}\n",
    "\n",
    "\n",
    "\n",
    "        \n",
    "        return (ind_match_dict)\n",
    "    \n",
    "    except Exception as e:\n",
    "        print(\"this row does not have match data\", e)\n",
    "        #return False\n",
    "\n"
   ]
  },
  {
   "cell_type": "markdown",
   "metadata": {},
   "source": [
    "### ROUND FUNCTION"
   ]
  },
  {
   "cell_type": "code",
   "execution_count": 227,
   "metadata": {
    "collapsed": false
   },
   "outputs": [],
   "source": [
    "def round_function(round_number, year_data):    \n",
    "    games= year_data[round_number].find_all('tr')\n",
    "    #print (games)\n",
    "    ## Find the round header\n",
    "    round_head = (''.join(text for text in games[1].find_all(text=True) if text.parent.name != \"a\")).strip()\n",
    "    #current_round = round_number\n",
    "    ## Only look at matchday tables in each round\n",
    "    round_matchday = games[2:-1]\n",
    "    this_round = []\n",
    "    for match in round_matchday:\n",
    "        result= match_function(match, round_head, year)\n",
    "        if result:\n",
    "            this_round.append(result)\n",
    "    return (this_round)"
   ]
  },
  {
   "cell_type": "markdown",
   "metadata": {},
   "source": [
    "### RUN FUNCTION"
   ]
  },
  {
   "cell_type": "code",
   "execution_count": 217,
   "metadata": {
    "collapsed": true
   },
   "outputs": [],
   "source": [
    "year_list = ['2017','2016','2015','2014','2013','2012','2011','2010','2009','2008','2007','2006','2005','2004','2003','2002', '2001']"
   ]
  },
  {
   "cell_type": "code",
   "execution_count": 231,
   "metadata": {
    "collapsed": false
   },
   "outputs": [
    {
     "name": "stdout",
     "output_type": "stream",
     "text": [
      "0\n",
      "1\n",
      "2\n"
     ]
    }
   ],
   "source": [
    "for i in range (3):\n",
    "    print (i)"
   ]
  },
  {
   "cell_type": "markdown",
   "metadata": {},
   "source": [
    "### CALL ALL YEAR + THE ROUND DATA AND ADD TO A BIG LIST OF DICTIONARES"
   ]
  },
  {
   "cell_type": "code",
   "execution_count": 239,
   "metadata": {
    "collapsed": false,
    "scrolled": true
   },
   "outputs": [
    {
     "name": "stdout",
     "output_type": "stream",
     "text": [
      "this row does not have match data list index out of range\n",
      "this row does not have match data 'NoneType' object has no attribute 'count'\n",
      "this row does not have match data 'NoneType' object has no attribute 'count'\n",
      "this row does not have match data list index out of range\n",
      "this row does not have match data list index out of range\n",
      "this row does not have match data list index out of range\n",
      "this row does not have match data list index out of range\n",
      "this row does not have match data 'NoneType' object has no attribute 'count'\n",
      "[]\n",
      "[{'Day': 'Thursday', 'Date': '2', 'Month': 'April', 'Year': '2015', 'Round': 'Round 1 (Opening Round)', 'Time': '7:20\\xa0pm', 'Home Team': 'Carlton', 'Home Goals': '11', 'Home Behinds': '12 ', 'Home Total': '78', 'Away Team': 'Richmond', 'Away Goals': '15', 'Away Behinds': '15 ', 'Away Total': '105', 'Venue': 'MCG', 'Crowd': '83493', 'Match Link': 'http://afl.com.au/match-centre/2015/1/carl-v-rich'}, {'Day': 'Saturday', 'Date': '4', 'Month': 'April', 'Year': '2015', 'Round': 'Round 1 (Opening Round)', 'Time': '1:40\\xa0pm', 'Home Team': 'Melbourne', 'Home Goals': '17', 'Home Behinds': '13 ', 'Home Total': '115', 'Away Team': 'Gold Coast', 'Away Goals': '13', 'Away Behinds': '11 ', 'Away Total': '89', 'Venue': 'MCG', 'Crowd': '27013', 'Match Link': 'http://www.afl.com.au/match-centre/2015/1/melb-v-gcfc'}, {'Day': 'Saturday', 'Date': '4', 'Month': 'April', 'Year': '2015', 'Round': 'Round 1 (Opening Round)', 'Time': '4:35\\xa0pm', 'Home Team': 'Sydney', 'Home Goals': '10', 'Home Behinds': '12 ', 'Home Total': '72', 'Away Team': 'Essendon', 'Away Goals': '9', 'Away Behinds': '6 ', 'Away Total': '60', 'Venue': 'ANZ Stadium', 'Crowd': '23274', 'Match Link': 'http://afl.com.au/match-centre/2015/1/syd-v-ess'}, {'Day': 'Saturday', 'Date': '4', 'Month': 'April', 'Year': '2015', 'Round': 'Round 1 (Opening Round)', 'Time': '6:20\\xa0pm', 'Home Team': 'Brisbane Lions', 'Home Goals': '11', 'Home Behinds': '8 ', 'Home Total': '74', 'Away Team': 'Collingwood', 'Away Goals': '12', 'Away Behinds': '14 ', 'Away Total': '86', 'Venue': 'Gabba', 'Crowd': '31240', 'Match Link': 'http://www.afl.com.au/match-centre/2015/1/bl-v-coll'}, {'Day': 'Saturday', 'Date': '4', 'Month': 'April', 'Year': '2015', 'Round': 'Round 1 (Opening Round)', 'Time': '7:20\\xa0pm', 'Home Team': 'Western Bulldogs', 'Home Goals': '14', 'Home Behinds': '13 ', 'Home Total': '97', 'Away Team': 'West Coast', 'Away Goals': '14', 'Away Behinds': '3 ', 'Away Total': '87', 'Venue': 'Etihad Stadium', 'Crowd': '22366', 'Match Link': 'http://www.afl.com.au/match-centre/2015/1/wb-v-wce'}, {'Day': 'Sunday', 'Date': '5', 'Month': 'April', 'Year': '2015', 'Round': 'Round 1 (Opening Round)', 'Time': '1:10\\xa0pm', 'Home Team': 'St Kilda', 'Home Goals': '11', 'Home Behinds': '12 ', 'Home Total': '78', 'Away Team': 'Greater Western Sydney', 'Away Goals': '12', 'Away Behinds': '15 ', 'Away Total': '87', 'Venue': 'Etihad Stadium', 'Crowd': '18794', 'Match Link': 'http://www.afl.com.au/match-centre/2015/1/stk-v-gws'}, {'Day': 'Sunday', 'Date': '5', 'Month': 'April', 'Year': '2015', 'Round': 'Round 1 (Opening Round)', 'Time': '2:50\\xa0pm', 'Home Team': 'Adelaide', 'Home Goals': '21', 'Home Behinds': '14 ', 'Home Total': '140', 'Away Team': 'North Melbourne', 'Away Goals': '9', 'Away Behinds': '9 ', 'Away Total': '63', 'Venue': 'Adelaide Oval', 'Crowd': '45607', 'Match Link': 'http://www.afl.com.au/match-centre/2015/1/adel-v-nmfc'}, {'Day': 'Sunday', 'Date': '5', 'Month': 'April', 'Year': '2015', 'Round': 'Round 1 (Opening Round)', 'Time': '4:40\\xa0pm', 'Home Team': 'Fremantle', 'Home Goals': '11', 'Home Behinds': '9 ', 'Home Total': '75', 'Away Team': 'Port Adelaide', 'Away Goals': '10', 'Away Behinds': '8 ', 'Away Total': '68', 'Venue': 'Domain Stadium', 'Crowd': '34099', 'Match Link': 'http://www.afl.com.au/match-centre/2015/1/fre-v-port'}, {'Day': 'Monday', 'Date': '6', 'Month': 'April', 'Year': '2015', 'Round': 'Round 1 (Opening Round)', 'Time': '3:20\\xa0pm', 'Home Team': 'Hawthorn', 'Home Goals': '17', 'Home Behinds': '21 ', 'Home Total': '123', 'Away Team': 'Geelong', 'Away Goals': '8', 'Away Behinds': '13 ', 'Away Total': '61', 'Venue': 'MCG', 'Crowd': '73584', 'Match Link': 'http://www.afl.com.au/match-centre/2015/1/haw-v-geel'}]\n",
      "[{'Day': 'Friday', 'Date': '10', 'Month': 'April', 'Year': '2015', 'Round': 'Round 2', 'Time': '6:10\\xa0pm', 'Home Team': 'West Coast', 'Home Goals': '20', 'Home Behinds': '11 ', 'Home Total': '131', 'Away Team': 'Carlton', 'Away Goals': '9', 'Away Behinds': '8 ', 'Away Total': '62', 'Venue': 'Domain Stadium', 'Crowd': '34588', 'Match Link': 'http://www.afl.com.au/match-centre/2015/2/wce-v-carl'}, {'Day': 'Saturday', 'Date': '11', 'Month': 'April', 'Year': '2015', 'Round': 'Round 2', 'Time': '1:45\\xa0pm', 'Home Team': 'Richmond', 'Home Goals': '9', 'Home Behinds': '12 ', 'Home Total': '66', 'Away Team': 'Western Bulldogs', 'Away Goals': '12', 'Away Behinds': '13 ', 'Away Total': '85', 'Venue': 'MCG', 'Crowd': '49945', 'Match Link': 'http://www.afl.com.au/match-centre/2015/2/rich-v-wb'}, {'Day': 'Saturday', 'Date': '11', 'Month': 'April', 'Year': '2015', 'Round': 'Round 2', 'Time': '2:10\\xa0pm', 'Home Team': 'Greater Western Sydney', 'Home Goals': '15', 'Home Behinds': '11 ', 'Home Total': '101', 'Away Team': 'Melbourne', 'Away Goals': '8', 'Away Behinds': '8 ', 'Away Total': '56', 'Venue': 'StarTrack Oval', 'Crowd': '8811', 'Match Link': 'http://www.afl.com.au/match-centre/2015/2/gws-v-melb'}, {'Day': 'Saturday', 'Date': '11', 'Month': 'April', 'Year': '2015', 'Round': 'Round 2', 'Time': '4:35\\xa0pm', 'Home Team': 'Collingwood', 'Home Goals': '9', 'Home Behinds': '9 ', 'Home Total': '63', 'Away Team': 'Adelaide', 'Away Goals': '12', 'Away Behinds': '18 ', 'Away Total': '90', 'Venue': 'Etihad Stadium', 'Crowd': '33771', 'Match Link': 'http://www.afl.com.au/match-centre/2015/2/coll-v-adel'}, {'Day': 'Saturday', 'Date': '11', 'Month': 'April', 'Year': '2015', 'Round': 'Round 2', 'Time': '7:20\\xa0pm', 'Home Team': 'Gold Coast', 'Home Goals': '10', 'Home Behinds': '16 ', 'Home Total': '76', 'Away Team': 'St Kilda', 'Away Goals': '16', 'Away Behinds': '8 ', 'Away Total': '104', 'Venue': 'Metricon Stadium', 'Crowd': '13649', 'Match Link': 'http://www.afl.com.au/match-centre/2015/2/gcfc-v-stk'}, {'Day': 'Saturday', 'Date': '11', 'Month': 'April', 'Year': '2015', 'Round': 'Round 2', 'Time': '7:10\\xa0pm', 'Home Team': 'Port Adelaide', 'Home Goals': '6', 'Home Behinds': '8 ', 'Home Total': '44', 'Away Team': 'Sydney', 'Away Goals': '14', 'Away Behinds': '8 ', 'Away Total': '92', 'Venue': 'Adelaide Oval', 'Crowd': '48907', 'Match Link': 'http://www.afl.com.au/match-centre/2015/2/port-v-syd'}, {'Day': 'Sunday', 'Date': '12', 'Month': 'April', 'Year': '2015', 'Round': 'Round 2', 'Time': '1:10\\xa0pm', 'Home Team': 'Geelong', 'Home Goals': '9', 'Home Behinds': '6 ', 'Home Total': '60', 'Away Team': 'Fremantle', 'Away Goals': '15', 'Away Behinds': '14 ', 'Away Total': '104', 'Venue': 'Simonds Stadium', 'Crowd': '23723', 'Match Link': 'http://www.afl.com.au/match-centre/2015/2/geel-v-fre'}, {'Day': 'Sunday', 'Date': '12', 'Month': 'April', 'Year': '2015', 'Round': 'Round 2', 'Time': '3:20\\xa0pm', 'Home Team': 'Essendon', 'Home Goals': '12', 'Home Behinds': '6 ', 'Home Total': '78', 'Away Team': 'Hawthorn', 'Away Goals': '11', 'Away Behinds': '10 ', 'Away Total': '76', 'Venue': 'MCG', 'Crowd': '59866', 'Match Link': 'http://www.afl.com.au/match-centre/2015/2/ess-v-haw'}, {'Day': 'Sunday', 'Date': '12', 'Month': 'April', 'Year': '2015', 'Round': 'Round 2', 'Time': '4:40\\xa0pm', 'Home Team': 'North Melbourne', 'Home Goals': '20', 'Home Behinds': '13 ', 'Home Total': '133', 'Away Team': 'Brisbane Lions', 'Away Goals': '7', 'Away Behinds': '9 ', 'Away Total': '51', 'Venue': 'Etihad Stadium', 'Crowd': '22275', 'Match Link': 'http://www.afl.com.au/match-centre/2015/2/nmfc-v-bl'}]\n",
      "[{'Day': 'Friday', 'Date': '17', 'Month': 'April', 'Year': '2015', 'Round': 'Round 3', 'Time': '7:50\\xa0pm', 'Home Team': 'Collingwood', 'Home Goals': '21', 'Home Behinds': '14 ', 'Home Total': '140', 'Away Team': 'St Kilda', 'Away Goals': '10', 'Away Behinds': '6 ', 'Away Total': '66', 'Venue': 'MCG', 'Crowd': '45197', 'Match Link': 'http://www.afl.com.au/match-centre/2015/3/coll-v-stk'}, {'Day': 'Saturday', 'Date': '18', 'Month': 'April', 'Year': '2015', 'Round': 'Round 3', 'Time': '1:45\\xa0pm', 'Home Team': 'Carlton', 'Home Goals': '11', 'Home Behinds': '18 ', 'Home Total': '84', 'Away Team': 'Essendon', 'Away Goals': '16', 'Away Behinds': '9 ', 'Away Total': '105', 'Venue': 'MCG', 'Crowd': '54854', 'Match Link': 'http://www.afl.com.au/match-centre/2015/3/carl-v-ess'}, {'Day': 'Saturday', 'Date': '18', 'Month': 'April', 'Year': '2015', 'Round': 'Round 3', 'Time': '1:40\\xa0pm', 'Home Team': 'Adelaide', 'Home Goals': '12', 'Home Behinds': '8 ', 'Home Total': '80', 'Away Team': 'Melbourne', 'Away Goals': '7', 'Away Behinds': '13 ', 'Away Total': '55', 'Venue': 'Adelaide Oval', 'Crowd': '42834', 'Match Link': 'http://www.afl.com.au/match-centre/2015/3/adel-v-melb'}, {'Day': 'Saturday', 'Date': '18', 'Month': 'April', 'Year': '2015', 'Round': 'Round 3', 'Time': '4:35\\xa0pm', 'Home Team': 'Sydney', 'Home Goals': '16', 'Home Behinds': '15 ', 'Home Total': '111', 'Away Team': 'Greater Western Sydney', 'Away Goals': '12', 'Away Behinds': '18 ', 'Away Total': '90', 'Venue': 'SCG', 'Crowd': '31966', 'Match Link': 'http://www.afl.com.au/match-centre/2015/3/syd-v-gws'}, {'Day': 'Saturday', 'Date': '18', 'Month': 'April', 'Year': '2015', 'Round': 'Round 3', 'Time': '7:20\\xa0pm', 'Home Team': 'North Melbourne', 'Home Goals': '16', 'Home Behinds': '9 ', 'Home Total': '105', 'Away Team': 'Port Adelaide', 'Away Goals': '17', 'Away Behinds': '11 ', 'Away Total': '113', 'Venue': 'Etihad Stadium', 'Crowd': '22586', 'Match Link': 'http://www.afl.com.au/match-centre/2015/3/nmfc-v-port'}, {'Day': 'Saturday', 'Date': '18', 'Month': 'April', 'Year': '2015', 'Round': 'Round 3', 'Time': '7:20\\xa0pm', 'Home Team': 'Brisbane Lions', 'Home Goals': '8', 'Home Behinds': '10 ', 'Home Total': '58', 'Away Team': 'Richmond', 'Away Goals': '21', 'Away Behinds': '11 ', 'Away Total': '137', 'Venue': 'Gabba', 'Crowd': '22441', 'Match Link': 'http://www.afl.com.au/match-centre/2015/3/bl-v-rich'}, {'Day': 'Sunday', 'Date': '19', 'Month': 'April', 'Year': '2015', 'Round': 'Round 3', 'Time': '1:10\\xa0pm', 'Home Team': 'Hawthorn', 'Home Goals': '19', 'Home Behinds': '13 ', 'Home Total': '127', 'Away Team': 'Western Bulldogs', 'Away Goals': '8', 'Away Behinds': '9 ', 'Away Total': '57', 'Venue': 'Aurora Stadium', 'Crowd': '15559', 'Match Link': 'http://www.afl.com.au/match-centre/2015/3/haw-v-wb'}, {'Day': 'Sunday', 'Date': '19', 'Month': 'April', 'Year': '2015', 'Round': 'Round 3', 'Time': '3:20\\xa0pm', 'Home Team': 'Geelong', 'Home Goals': '16', 'Home Behinds': '9 ', 'Home Total': '105', 'Away Team': 'Gold Coast', 'Away Goals': '13', 'Away Behinds': '18 ', 'Away Total': '96', 'Venue': 'Simonds Stadium', 'Crowd': '20813', 'Match Link': 'http://www.afl.com.au/match-centre/2015/3/geel-v-gcfc'}, {'Day': 'Sunday', 'Date': '19', 'Month': 'April', 'Year': '2015', 'Round': 'Round 3', 'Time': '2:40\\xa0pm', 'Home Team': 'West Coast', 'Home Goals': '12', 'Home Behinds': '9 ', 'Home Total': '81', 'Away Team': 'Fremantle', 'Away Goals': '17', 'Away Behinds': '9 ', 'Away Total': '111', 'Venue': 'Domain Stadium', 'Crowd': '39138', 'Match Link': 'http://www.afl.com.au/match-centre/2015/3/wce-v-fre'}]\n",
      "[{'Day': 'Friday', 'Date': '24', 'Month': 'April', 'Year': '2015', 'Round': 'Round 4 (Anzac Day Round)', 'Time': '7:50\\xa0pm', 'Home Team': 'Richmond', 'Home Goals': '6', 'Home Behinds': '15 ', 'Home Total': '51', 'Away Team': 'Melbourne', 'Away Goals': '12', 'Away Behinds': '11 ', 'Away Total': '83', 'Venue': 'MCG', 'Crowd': '58175', 'Match Link': 'http://www.afl.com.au/match-centre/2015/4/rich-v-melb'}, {'Day': 'Saturday', 'Date': '25', 'Month': 'April', 'Year': '2015', 'Round': 'Round 4 (Anzac Day Round)', 'Time': '1:10\\xa0pm', 'Home Team': 'St Kilda', 'Home Goals': '12', 'Home Behinds': '9 ', 'Home Total': '81', 'Away Team': 'Carlton', 'Away Goals': '18', 'Away Behinds': '13 ', 'Away Total': '121', 'Venue': 'Westpac Stadium', 'Crowd': '12125', 'Match Link': 'http://www.afl.com.au/match-centre/2015/4/stk-v-carl'}, {'Day': 'Saturday', 'Date': '25', 'Month': 'April', 'Year': '2015', 'Round': 'Round 4 (Anzac Day Round)', 'Time': '2:40\\xa0pm', 'Home Team': 'Essendon', 'Home Goals': '6', 'Home Behinds': '13 ', 'Home Total': '49', 'Away Team': 'Collingwood', 'Away Goals': '9', 'Away Behinds': '15 ', 'Away Total': '69', 'Venue': 'MCG', 'Crowd': '88395', 'Match Link': 'http://www.afl.com.au/match-centre/2015/4/ess-v-coll'}, {'Day': 'Saturday', 'Date': '25', 'Month': 'April', 'Year': '2015', 'Round': 'Round 4 (Anzac Day Round)', 'Time': '5:40\\xa0pm', 'Home Team': 'Greater Western Sydney', 'Home Goals': '16', 'Home Behinds': '23 ', 'Home Total': '119', 'Away Team': 'Gold Coast', 'Away Goals': '7', 'Away Behinds': '11 ', 'Away Total': '53', 'Venue': 'StarTrack Oval', 'Crowd': '6917', 'Match Link': 'http://www.afl.com.au/match-centre/2015/4/gws-v-gcfc'}, {'Day': 'Saturday', 'Date': '25', 'Month': 'April', 'Year': '2015', 'Round': 'Round 4 (Anzac Day Round)', 'Time': '7:10\\xa0pm', 'Home Team': 'Port Adelaide', 'Home Goals': '15', 'Home Behinds': '9 ', 'Home Total': '99', 'Away Team': 'Hawthorn', 'Away Goals': '13', 'Away Behinds': '13 ', 'Away Total': '91', 'Venue': 'Adelaide Oval', 'Crowd': '49831', 'Match Link': 'http://www.afl.com.au/match-centre/2015/4/port-v-haw'}, {'Day': 'Saturday', 'Date': '25', 'Month': 'April', 'Year': '2015', 'Round': 'Round 4 (Anzac Day Round)', 'Time': '6:45\\xa0pm', 'Home Team': 'Fremantle', 'Home Goals': '11', 'Home Behinds': '8 ', 'Home Total': '74', 'Away Team': 'Sydney', 'Away Goals': '8', 'Away Behinds': '12 ', 'Away Total': '60', 'Venue': 'Domain Stadium', 'Crowd': '39009', 'Match Link': 'http://www.afl.com.au/match-centre/2015/4/fre-v-syd'}, {'Day': 'Sunday', 'Date': '26', 'Month': 'April', 'Year': '2015', 'Round': 'Round 4 (Anzac Day Round)', 'Time': '1:10\\xa0pm', 'Home Team': 'Brisbane Lions', 'Home Goals': '9', 'Home Behinds': '11 ', 'Home Total': '65', 'Away Team': 'West Coast', 'Away Goals': '17', 'Away Behinds': '16 ', 'Away Total': '118', 'Venue': 'Gabba', 'Crowd': '16632', 'Match Link': 'http://www.afl.com.au/match-centre/2015/4/bl-v-wce'}, {'Day': 'Sunday', 'Date': '26', 'Month': 'April', 'Year': '2015', 'Round': 'Round 4 (Anzac Day Round)', 'Time': '3:20\\xa0pm', 'Home Team': 'Geelong', 'Home Goals': '9', 'Home Behinds': '13 ', 'Home Total': '67', 'Away Team': 'North Melbourne', 'Away Goals': '12', 'Away Behinds': '11 ', 'Away Total': '83', 'Venue': 'Simonds Stadium', 'Crowd': '23452', 'Match Link': 'http://www.afl.com.au/match-centre/2015/4/geel-v-nmfc'}, {'Day': 'Sunday', 'Date': '26', 'Month': 'April', 'Year': '2015', 'Round': 'Round 4 (Anzac Day Round)', 'Time': '4:40\\xa0pm', 'Home Team': 'Western Bulldogs', 'Home Goals': '18', 'Home Behinds': '17 ', 'Home Total': '125', 'Away Team': 'Adelaide', 'Away Goals': '10', 'Away Behinds': '8 ', 'Away Total': '68', 'Venue': 'Etihad Stadium', 'Crowd': '19915', 'Match Link': 'http://www.afl.com.au/match-centre/2015/4/wb-v-adel'}]\n",
      "[{'Day': 'Friday', 'Date': '1', 'Month': 'May', 'Year': '2015', 'Round': 'Round 5', 'Time': '7:50\\xa0pm', 'Home Team': 'Carlton', 'Home Goals': '6', 'Home Behinds': '9 ', 'Home Total': '45', 'Away Team': 'Collingwood', 'Away Goals': '18', 'Away Behinds': '12 ', 'Away Total': '120', 'Venue': 'MCG', 'Crowd': '71759', 'Match Link': 'http://www.afl.com.au/match-centre/2015/5/carl-v-coll'}, {'Day': 'Saturday', 'Date': '2', 'Month': 'May', 'Year': '2015', 'Round': 'Round 5', 'Time': '1:45\\xa0pm', 'Home Team': 'Richmond', 'Home Goals': '11', 'Home Behinds': '10 ', 'Home Total': '76', 'Away Team': 'Geelong', 'Away Goals': '12', 'Away Behinds': '13 ', 'Away Total': '85', 'Venue': 'MCG', 'Crowd': '45228', 'Match Link': 'http://www.afl.com.au/match-centre/2015/5/rich-v-geel'}, {'Day': 'Saturday', 'Date': '2', 'Month': 'May', 'Year': '2015', 'Round': 'Round 5', 'Time': '2:10\\xa0pm', 'Home Team': 'Sydney', 'Home Goals': '10', 'Home Behinds': '13 ', 'Home Total': '73', 'Away Team': 'Western Bulldogs', 'Away Goals': '11', 'Away Behinds': '11 ', 'Away Total': '77', 'Venue': 'SCG', 'Crowd': '25541', 'Match Link': 'http://www.afl.com.au/match-centre/2015/5/syd-v-wb'}, {'Day': 'Saturday', 'Date': '2', 'Month': 'May', 'Year': '2015', 'Round': 'Round 5', 'Time': '4:35\\xa0pm', 'Home Team': 'Gold Coast', 'Home Goals': '18', 'Home Behinds': '10 ', 'Home Total': '118', 'Away Team': 'Brisbane Lions', 'Away Goals': '7', 'Away Behinds': '12 ', 'Away Total': '54', 'Venue': 'Metricon Stadium', 'Crowd': '12464', 'Match Link': 'http://www.afl.com.au/match-centre/2015/5/gcfc-v-bl'}, {'Day': 'Saturday', 'Date': '2', 'Month': 'May', 'Year': '2015', 'Round': 'Round 5', 'Time': '7:20\\xa0pm', 'Home Team': 'North Melbourne', 'Home Goals': '10', 'Home Behinds': '10 ', 'Home Total': '70', 'Away Team': 'Hawthorn', 'Away Goals': '19', 'Away Behinds': '16 ', 'Away Total': '130', 'Venue': 'Etihad Stadium', 'Crowd': '38077', 'Match Link': 'http://www.afl.com.au/match-centre/2015/5/nmfc-v-haw'}, {'Day': 'Saturday', 'Date': '2', 'Month': 'May', 'Year': '2015', 'Round': 'Round 5', 'Time': '5:40\\xa0pm', 'Home Team': 'West Coast', 'Home Goals': '18', 'Home Behinds': '12 ', 'Home Total': '120', 'Away Team': 'Greater Western Sydney', 'Away Goals': '4', 'Away Behinds': '9 ', 'Away Total': '33', 'Venue': 'Domain Stadium', 'Crowd': '34554', 'Match Link': 'http://www.afl.com.au/match-centre/2015/5/wce-v-gws'}, {'Day': 'Sunday', 'Date': '3', 'Month': 'May', 'Year': '2015', 'Round': 'Round 5', 'Time': '1:10\\xa0pm', 'Home Team': 'Melbourne', 'Home Goals': '6', 'Home Behinds': '14 ', 'Home Total': '50', 'Away Team': 'Fremantle', 'Away Goals': '18', 'Away Behinds': '10 ', 'Away Total': '118', 'Venue': 'MCG', 'Crowd': '22892', 'Match Link': 'http://www.afl.com.au/match-centre/2015/5/melb-v-fre'}, {'Day': 'Sunday', 'Date': '3', 'Month': 'May', 'Year': '2015', 'Round': 'Round 5', 'Time': '3:20\\xa0pm', 'Home Team': 'St Kilda', 'Home Goals': '11', 'Home Behinds': '14 ', 'Home Total': '80', 'Away Team': 'Essendon', 'Away Goals': '11', 'Away Behinds': '16 ', 'Away Total': '82', 'Venue': 'Etihad Stadium', 'Crowd': '29869', 'Match Link': 'http://www.afl.com.au/match-centre/2015/5/stk-v-ess'}, {'Day': 'Sunday', 'Date': '3', 'Month': 'May', 'Year': '2015', 'Round': 'Round 5', 'Time': '4:10\\xa0pm', 'Home Team': 'Adelaide', 'Home Goals': '13', 'Home Behinds': '13 ', 'Home Total': '91', 'Away Team': 'Port Adelaide', 'Away Goals': '18', 'Away Behinds': '7 ', 'Away Total': '115', 'Venue': 'Adelaide Oval', 'Crowd': '49617', 'Match Link': 'http://www.afl.com.au/match-centre/2015/5/adel-v-port'}]\n",
      "[{'Day': 'Friday', 'Date': '8', 'Month': 'May', 'Year': '2015', 'Round': 'Round 6', 'Time': '7:50\\xa0pm', 'Home Team': 'Collingwood', 'Home Goals': '8', 'Home Behinds': '11 ', 'Home Total': '59', 'Away Team': 'Geelong', 'Away Goals': '15', 'Away Behinds': '10 ', 'Away Total': '100', 'Venue': 'MCG', 'Crowd': '52152', 'Match Link': 'http://www.afl.com.au/match-centre/2015/6/coll-v-geel'}, {'Day': 'Saturday', 'Date': '9', 'Month': 'May', 'Year': '2015', 'Round': 'Round 6', 'Time': '1:45\\xa0pm', 'Home Team': 'North Melbourne', 'Home Goals': '16', 'Home Behinds': '13 ', 'Home Total': '109', 'Away Team': 'Richmond', 'Away Goals': '10', 'Away Behinds': '14 ', 'Away Total': '74', 'Venue': 'Blundstone Arena', 'Crowd': '17544', 'Match Link': 'http://www.afl.com.au/match-centre/2015/6/nmfc-v-rich'}, {'Day': 'Saturday', 'Date': '9', 'Month': 'May', 'Year': '2015', 'Round': 'Round 6', 'Time': '2:10\\xa0pm', 'Home Team': 'Western Bulldogs', 'Home Goals': '13', 'Home Behinds': '9 ', 'Home Total': '87', 'Away Team': 'St Kilda', 'Away Goals': '14', 'Away Behinds': '10 ', 'Away Total': '94', 'Venue': 'Etihad Stadium', 'Crowd': '29619', 'Match Link': 'http://www.afl.com.au/match-centre/2015/6/wb-v-stk'}, {'Day': 'Saturday', 'Date': '9', 'Month': 'May', 'Year': '2015', 'Round': 'Round 6', 'Time': '4:35\\xa0pm', 'Home Team': 'Greater Western Sydney', 'Home Goals': '16', 'Home Behinds': '12 ', 'Home Total': '108', 'Away Team': 'Hawthorn', 'Away Goals': '14', 'Away Behinds': '14 ', 'Away Total': '98', 'Venue': 'Spotless Stadium', 'Crowd': '13556', 'Match Link': 'http://www.afl.com.au/match-centre/2015/6/gws-v-haw'}, {'Day': 'Saturday', 'Date': '9', 'Month': 'May', 'Year': '2015', 'Round': 'Round 6', 'Time': '5:10\\xa0pm', 'Home Team': 'Gold Coast', 'Home Goals': '11', 'Home Behinds': '12 ', 'Home Total': '78', 'Away Team': 'Adelaide', 'Away Goals': '18', 'Away Behinds': '11 ', 'Away Total': '119', 'Venue': 'Metricon Stadium', 'Crowd': '12464', 'Match Link': 'http://www.afl.com.au/match-centre/2015/6/gcfc-v-adel'}, {'Day': 'Saturday', 'Date': '9', 'Month': 'May', 'Year': '2015', 'Round': 'Round 6', 'Time': '7:20\\xa0pm', 'Home Team': 'Melbourne', 'Home Goals': '7', 'Home Behinds': '8 ', 'Home Total': '50', 'Away Team': 'Sydney', 'Away Goals': '12', 'Away Behinds': '16 ', 'Away Total': '88', 'Venue': 'MCG', 'Crowd': '26894', 'Match Link': 'http://www.afl.com.au/match-centre/2015/6/melb-v-syd'}, {'Day': 'Saturday', 'Date': '9', 'Month': 'May', 'Year': '2015', 'Round': 'Round 6', 'Time': '6:10\\xa0pm', 'Home Team': 'Fremantle', 'Home Goals': '12', 'Home Behinds': '8 ', 'Home Total': '80', 'Away Team': 'Essendon', 'Away Goals': '7', 'Away Behinds': '10 ', 'Away Total': '52', 'Venue': 'Domain Stadium', 'Crowd': '37535', 'Match Link': 'http://www.afl.com.au/match-centre/2015/6/fre-v-ess'}, {'Day': 'Sunday', 'Date': '10', 'Month': 'May', 'Year': '2015', 'Round': 'Round 6', 'Time': '3:20\\xa0pm', 'Home Team': 'Carlton', 'Home Goals': '11', 'Home Behinds': '9 ', 'Home Total': '75', 'Away Team': 'Brisbane Lions', 'Away Goals': '12', 'Away Behinds': '12 ', 'Away Total': '84', 'Venue': 'Etihad Stadium', 'Crowd': '20273', 'Match Link': 'http://www.afl.com.au/match-centre/2015/6/carl-v-bl'}, {'Day': 'Sunday', 'Date': '10', 'Month': 'May', 'Year': '2015', 'Round': 'Round 6', 'Time': '4:10\\xa0pm', 'Home Team': 'Port Adelaide', 'Home Goals': '10', 'Home Behinds': '8 ', 'Home Total': '68', 'Away Team': 'West Coast', 'Away Goals': '11', 'Away Behinds': '12 ', 'Away Total': '78', 'Venue': 'Adelaide Oval', 'Crowd': '37635', 'Match Link': 'http://www.afl.com.au/match-centre/2015/6/port-v-wce'}]\n",
      "[{'Day': 'Friday', 'Date': '15', 'Month': 'May', 'Year': '2015', 'Round': 'Round 7', 'Time': '7:50\\xa0pm', 'Home Team': 'Essendon', 'Home Goals': '12', 'Home Behinds': '10 ', 'Home Total': '82', 'Away Team': 'North Melbourne', 'Away Goals': '13', 'Away Behinds': '15 ', 'Away Total': '93', 'Venue': 'Etihad Stadium', 'Crowd': '43972', 'Match Link': 'http://www.afl.com.au/match-centre/2015/7/ess-v-nmfc'}, {'Day': 'Saturday', 'Date': '16', 'Month': 'May', 'Year': '2015', 'Round': 'Round 7', 'Time': '1:15\\xa0pm', 'Home Team': 'Adelaide', 'Home Goals': '18', 'Home Behinds': '11 ', 'Home Total': '119', 'Away Team': 'St Kilda', 'Away Goals': '10', 'Away Behinds': '13 ', 'Away Total': '73', 'Venue': 'Adelaide Oval', 'Crowd': '42795', 'Match Link': 'http://www.afl.com.au/match-centre/2015/7/adel-v-stk'}, {'Day': 'Saturday', 'Date': '16', 'Month': 'May', 'Year': '2015', 'Round': 'Round 7', 'Time': '2:10\\xa0pm', 'Home Team': 'Hawthorn', 'Home Goals': '24', 'Home Behinds': '11 ', 'Home Total': '155', 'Away Team': 'Melbourne', 'Away Goals': '7', 'Away Behinds': '8 ', 'Away Total': '50', 'Venue': 'MCG', 'Crowd': '41935', 'Match Link': 'http://www.afl.com.au/match-centre/2015/7/haw-v-melb'}, {'Day': 'Saturday', 'Date': '16', 'Month': 'May', 'Year': '2015', 'Round': 'Round 7', 'Time': '4:35\\xa0pm', 'Home Team': 'Carlton', 'Home Goals': '9', 'Home Behinds': '3 ', 'Home Total': '57', 'Away Team': 'Greater Western Sydney', 'Away Goals': '19', 'Away Behinds': '21 ', 'Away Total': '135', 'Venue': 'Etihad Stadium', 'Crowd': '16676', 'Match Link': 'http://www.afl.com.au/match-centre/2015/7/carl-v-gws'}, {'Day': 'Saturday', 'Date': '16', 'Month': 'May', 'Year': '2015', 'Round': 'Round 7', 'Time': '7:20\\xa0pm', 'Home Team': 'Sydney', 'Home Goals': '18', 'Home Behinds': '12 ', 'Home Total': '120', 'Away Team': 'Geelong', 'Away Goals': '11', 'Away Behinds': '11 ', 'Away Total': '77', 'Venue': 'ANZ Stadium', 'Crowd': '28063', 'Match Link': 'http://www.afl.com.au/match-centre/2015/7/syd-v-geel'}, {'Day': 'Saturday', 'Date': '16', 'Month': 'May', 'Year': '2015', 'Round': 'Round 7', 'Time': '5:40\\xa0pm', 'Home Team': 'West Coast', 'Home Goals': '21', 'Home Behinds': '9 ', 'Home Total': '135', 'Away Team': 'Gold Coast', 'Away Goals': '6', 'Away Behinds': '7 ', 'Away Total': '43', 'Venue': 'Domain Stadium', 'Crowd': '26964', 'Match Link': 'http://www.afl.com.au/match-centre/2015/7/wce-v-gcfc'}, {'Day': 'Sunday', 'Date': '17', 'Month': 'May', 'Year': '2015', 'Round': 'Round 7', 'Time': '1:10\\xa0pm', 'Home Team': 'Western Bulldogs', 'Home Goals': '14', 'Home Behinds': '4 ', 'Home Total': '88', 'Away Team': 'Fremantle', 'Away Goals': '15', 'Away Behinds': '11 ', 'Away Total': '101', 'Venue': 'Etihad Stadium', 'Crowd': '18170', 'Match Link': 'http://www.afl.com.au/match-centre/2015/7/wb-v-fre'}, {'Day': 'Sunday', 'Date': '17', 'Month': 'May', 'Year': '2015', 'Round': 'Round 7', 'Time': '3:20\\xa0pm', 'Home Team': 'Richmond', 'Home Goals': '16', 'Home Behinds': '9 ', 'Home Total': '105', 'Away Team': 'Collingwood', 'Away Goals': '15', 'Away Behinds': '10 ', 'Away Total': '100', 'Venue': 'MCG', 'Crowd': '59034', 'Match Link': 'http://www.afl.com.au/match-centre/2015/7/rich-v-coll'}, {'Day': 'Sunday', 'Date': '17', 'Month': 'May', 'Year': '2015', 'Round': 'Round 7', 'Time': '4:40\\xa0pm', 'Home Team': 'Brisbane Lions', 'Home Goals': '15', 'Home Behinds': '12 ', 'Home Total': '102', 'Away Team': 'Port Adelaide', 'Away Goals': '8', 'Away Behinds': '17 ', 'Away Total': '65', 'Venue': 'Gabba', 'Crowd': '15957', 'Match Link': 'http://www.afl.com.au/match-centre/2015/7/bl-v-port'}]\n",
      "[{'Day': 'Friday', 'Date': '22', 'Month': 'May', 'Year': '2015', 'Round': 'Round 8', 'Time': '7:50\\xa0pm', 'Home Team': 'Geelong', 'Home Goals': '22', 'Home Behinds': '8 ', 'Home Total': '140', 'Away Team': 'Carlton', 'Away Goals': '9', 'Away Behinds': '9 ', 'Away Total': '63', 'Venue': 'Etihad Stadium', 'Crowd': '32032', 'Match Link': 'http://www.afl.com.au/match-centre/2015/8/geel-v-carl'}, {'Day': 'Saturday', 'Date': '23', 'Month': 'May', 'Year': '2015', 'Round': 'Round 8', 'Time': '1:45\\xa0pm', 'Home Team': 'St Kilda', 'Home Goals': '12', 'Home Behinds': '6 ', 'Home Total': '78', 'Away Team': 'West Coast', 'Away Goals': '20', 'Away Behinds': '11 ', 'Away Total': '131', 'Venue': 'Etihad Stadium', 'Crowd': '23598', 'Match Link': 'http://www.afl.com.au/match-centre/2015/8/stk-v-wce'}, {'Day': 'Saturday', 'Date': '23', 'Month': 'May', 'Year': '2015', 'Round': 'Round 8', 'Time': '2:10\\xa0pm', 'Home Team': 'Greater Western Sydney', 'Home Goals': '16', 'Home Behinds': '12 ', 'Home Total': '108', 'Away Team': 'Adelaide', 'Away Goals': '12', 'Away Behinds': '12 ', 'Away Total': '84', 'Venue': 'Spotless Stadium', 'Crowd': '9481', 'Match Link': 'http://www.afl.com.au/match-centre/2015/8/gws-v-adel'}, {'Day': 'Saturday', 'Date': '23', 'Month': 'May', 'Year': '2015', 'Round': 'Round 8', 'Time': '4:35\\xa0pm', 'Home Team': 'Gold Coast', 'Home Goals': '9', 'Home Behinds': '9 ', 'Home Total': '63', 'Away Team': 'Collingwood', 'Away Goals': '20', 'Away Behinds': '12 ', 'Away Total': '132', 'Venue': 'Metricon Stadium', 'Crowd': '16440', 'Match Link': 'http://www.afl.com.au/match-centre/2015/8/gcfc-v-coll'}, {'Day': 'Saturday', 'Date': '23', 'Month': 'May', 'Year': '2015', 'Round': 'Round 8', 'Time': '7:20\\xa0pm', 'Home Team': 'Hawthorn', 'Home Goals': '9', 'Home Behinds': '15 ', 'Home Total': '69', 'Away Team': 'Sydney', 'Away Goals': '11', 'Away Behinds': '7 ', 'Away Total': '73', 'Venue': 'MCG', 'Crowd': '63319', 'Match Link': 'http://www.afl.com.au/match-centre/2015/8/haw-v-syd'}, {'Day': 'Saturday', 'Date': '23', 'Month': 'May', 'Year': '2015', 'Round': 'Round 8', 'Time': '5:40\\xa0pm', 'Home Team': 'Fremantle', 'Home Goals': '17', 'Home Behinds': '13 ', 'Home Total': '115', 'Away Team': 'North Melbourne', 'Away Goals': '5', 'Away Behinds': '12 ', 'Away Total': '42', 'Venue': 'Domain Stadium', 'Crowd': '35836', 'Match Link': 'http://www.afl.com.au/match-centre/2015/8/fre-v-nmfc'}, {'Day': 'Sunday', 'Date': '24', 'Month': 'May', 'Year': '2015', 'Round': 'Round 8', 'Time': '1:10\\xa0pm', 'Home Team': 'Essendon', 'Home Goals': '21', 'Home Behinds': '10 ', 'Home Total': '136', 'Away Team': 'Brisbane Lions', 'Away Goals': '12', 'Away Behinds': '6 ', 'Away Total': '78', 'Venue': 'Etihad Stadium', 'Crowd': '36857', 'Match Link': 'http://www.afl.com.au/match-centre/2015/8/ess-v-bl'}, {'Day': 'Sunday', 'Date': '24', 'Month': 'May', 'Year': '2015', 'Round': 'Round 8', 'Time': '3:20\\xa0pm', 'Home Team': 'Melbourne', 'Home Goals': '15', 'Home Behinds': '13 ', 'Home Total': '103', 'Away Team': 'Western Bulldogs', 'Away Goals': '9', 'Away Behinds': '10 ', 'Away Total': '64', 'Venue': 'MCG', 'Crowd': '29381', 'Match Link': 'http://www.afl.com.au/match-centre/2015/8/melb-v-wb'}, {'Day': 'Sunday', 'Date': '24', 'Month': 'May', 'Year': '2015', 'Round': 'Round 8', 'Time': '4:10\\xa0pm', 'Home Team': 'Port Adelaide', 'Home Goals': '5', 'Home Behinds': '13 ', 'Home Total': '43', 'Away Team': 'Richmond', 'Away Goals': '11', 'Away Behinds': '10 ', 'Away Total': '76', 'Venue': 'Adelaide Oval', 'Crowd': '44451', 'Match Link': 'http://www.afl.com.au/match-centre/2015/8/port-v-rich'}]\n",
      "[{'Day': 'Friday', 'Date': '29', 'Month': 'May', 'Year': '2015', 'Round': 'Round 9 (Indigenous Round)', 'Time': '7:50\\xa0pm', 'Home Team': 'Sydney', 'Home Goals': '19', 'Home Behinds': '8 ', 'Home Total': '122', 'Away Team': 'Carlton', 'Away Goals': '9', 'Away Behinds': '8 ', 'Away Total': '62', 'Venue': 'SCG', 'Crowd': '32105', 'Match Link': 'http://www.afl.com.au/match-centre/2015/9/syd-v-carl'}, {'Day': 'Saturday', 'Date': '30', 'Month': 'May', 'Year': '2015', 'Round': 'Round 9 (Indigenous Round)', 'Time': '1:45\\xa0pm', 'Home Team': 'Hawthorn', 'Home Goals': '14', 'Home Behinds': '9 ', 'Home Total': '93', 'Away Team': 'Gold Coast', 'Away Goals': '6', 'Away Behinds': '4 ', 'Away Total': '40', 'Venue': 'Aurora Stadium', 'Crowd': '11320', 'Match Link': 'http://www.afl.com.au/match-centre/2015/9/haw-v-gcfc'}, {'Day': 'Saturday', 'Date': '30', 'Month': 'May', 'Year': '2015', 'Round': 'Round 9 (Indigenous Round)', 'Time': '1:40\\xa0pm', 'Home Team': 'Melbourne', 'Home Goals': '8', 'Home Behinds': '6 ', 'Home Total': '54', 'Away Team': 'Port Adelaide', 'Away Goals': '18', 'Away Behinds': '7 ', 'Away Total': '115', 'Venue': 'TIO Traeger Park', 'Crowd': '4866', 'Match Link': 'http://www.afl.com.au/match-centre/2015/9/melb-v-port'}, {'Day': 'Saturday', 'Date': '30', 'Month': 'May', 'Year': '2015', 'Round': 'Round 9 (Indigenous Round)', 'Time': '4:35\\xa0pm', 'Home Team': 'Western Bulldogs', 'Home Goals': '16', 'Home Behinds': '17 ', 'Home Total': '113', 'Away Team': 'Greater Western Sydney', 'Away Goals': '11', 'Away Behinds': '2 ', 'Away Total': '68', 'Venue': 'Etihad Stadium', 'Crowd': '16395', 'Match Link': 'http://www.afl.com.au/match-centre/2015/9/wb-v-gws'}, {'Day': 'Saturday', 'Date': '30', 'Month': 'May', 'Year': '2015', 'Round': 'Round 9 (Indigenous Round)', 'Time': '7:25\\xa0pm', 'Home Team': 'Richmond', 'Home Goals': '10', 'Home Behinds': '12 ', 'Home Total': '72', 'Away Team': 'Essendon', 'Away Goals': '8', 'Away Behinds': '11 ', 'Away Total': '59', 'Venue': 'MCG', 'Crowd': '83804', 'Match Link': 'http://www.afl.com.au/match-centre/2015/9/rich-v-ess'}, {'Day': 'Saturday', 'Date': '30', 'Month': 'May', 'Year': '2015', 'Round': 'Round 9 (Indigenous Round)', 'Time': '7:10\\xa0pm', 'Home Team': 'Adelaide', 'Home Goals': '7', 'Home Behinds': '15 ', 'Home Total': '57', 'Away Team': 'Fremantle', 'Away Goals': '10', 'Away Behinds': '8 ', 'Away Total': '68', 'Venue': 'Adelaide Oval', 'Crowd': '45009', 'Match Link': 'http://www.afl.com.au/match-centre/2015/9/adel-v-fre'}, {'Day': 'Sunday', 'Date': '31', 'Month': 'May', 'Year': '2015', 'Round': 'Round 9 (Indigenous Round)', 'Time': '1:10\\xa0pm', 'Home Team': 'Brisbane Lions', 'Home Goals': '13', 'Home Behinds': '8 ', 'Home Total': '86', 'Away Team': 'St Kilda', 'Away Goals': '16', 'Away Behinds': '12 ', 'Away Total': '108', 'Venue': 'Gabba', 'Crowd': '16898', 'Match Link': 'http://www.afl.com.au/match-centre/2015/9/bl-v-stk'}, {'Day': 'Sunday', 'Date': '31', 'Month': 'May', 'Year': '2015', 'Round': 'Round 9 (Indigenous Round)', 'Time': '3:20\\xa0pm', 'Home Team': 'Collingwood', 'Home Goals': '17', 'Home Behinds': '10 ', 'Home Total': '112', 'Away Team': 'North Melbourne', 'Away Goals': '14', 'Away Behinds': '11 ', 'Away Total': '95', 'Venue': 'MCG', 'Crowd': '43452', 'Match Link': 'http://www.afl.com.au/match-centre/2015/9/coll-v-nmfc'}, {'Day': 'Sunday', 'Date': '31', 'Month': 'May', 'Year': '2015', 'Round': 'Round 9 (Indigenous Round)', 'Time': '2:40\\xa0pm', 'Home Team': 'West Coast', 'Home Goals': '16', 'Home Behinds': '24 ', 'Home Total': '120', 'Away Team': 'Geelong', 'Away Goals': '10', 'Away Behinds': '4 ', 'Away Total': '64', 'Venue': 'Domain Stadium', 'Crowd': '37676', 'Match Link': 'http://www.afl.com.au/match-centre/2015/9/wce-v-geel'}]\n",
      "[{'Day': 'Friday', 'Date': '5', 'Month': 'June', 'Year': '2015', 'Round': 'Round 10', 'Time': '6:10\\xa0pm', 'Home Team': 'Fremantle', 'Home Goals': '10', 'Home Behinds': '10 ', 'Home Total': '70', 'Away Team': 'Richmond', 'Away Goals': '15', 'Away Behinds': '7 ', 'Away Total': '97', 'Venue': 'Domain Stadium', 'Crowd': '38019', 'Match Link': 'http://www.afl.com.au/match-centre/2015/10/fre-v-rich'}, {'Day': 'Saturday', 'Date': '6', 'Month': 'June', 'Year': '2015', 'Round': 'Round 10', 'Time': '1:40\\xa0pm', 'Home Team': 'Carlton', 'Home Goals': '14', 'Home Behinds': '6 ', 'Home Total': '90', 'Away Team': 'Adelaide', 'Away Goals': '14', 'Away Behinds': '15 ', 'Away Total': '99', 'Venue': 'MCG', 'Crowd': '32035', 'Match Link': 'http://www.afl.com.au/match-centre/2015/10/carl-v-adel'}, {'Day': 'Saturday', 'Date': '6', 'Month': 'June', 'Year': '2015', 'Round': 'Round 10', 'Time': '4:35\\xa0pm', 'Home Team': 'Gold Coast', 'Home Goals': '5', 'Home Behinds': '11 ', 'Home Total': '41', 'Away Team': 'Sydney', 'Away Goals': '13', 'Away Behinds': '15 ', 'Away Total': '93', 'Venue': 'Metricon Stadium', 'Crowd': '13068', 'Match Link': 'http://www.afl.com.au/match-centre/2015/10/gcfc-v-syd'}, {'Day': 'Saturday', 'Date': '6', 'Month': 'June', 'Year': '2015', 'Round': 'Round 10', 'Time': '7:20\\xa0pm', 'Home Team': 'Essendon', 'Home Goals': '7', 'Home Behinds': '11 ', 'Home Total': '53', 'Away Team': 'Geelong', 'Away Goals': '19', 'Away Behinds': '8 ', 'Away Total': '122', 'Venue': 'Etihad Stadium', 'Crowd': '40632', 'Match Link': 'http://www.afl.com.au/match-centre/2015/10/ess-v-geel'}, {'Day': 'Saturday', 'Date': '6', 'Month': 'June', 'Year': '2015', 'Round': 'Round 10', 'Time': '7:10\\xa0pm', 'Home Team': 'Port Adelaide', 'Home Goals': '16', 'Home Behinds': '4 ', 'Home Total': '100', 'Away Team': 'Western Bulldogs', 'Away Goals': '9', 'Away Behinds': '8 ', 'Away Total': '62', 'Venue': 'Adelaide Oval', 'Crowd': '40907', 'Match Link': 'http://www.afl.com.au/match-centre/2015/10/port-v-wb'}, {'Day': 'Sunday', 'Date': '7', 'Month': 'June', 'Year': '2015', 'Round': 'Round 10', 'Time': '1:10\\xa0pm', 'Home Team': 'Greater Western Sydney', 'Home Goals': '14', 'Home Behinds': '13 ', 'Home Total': '97', 'Away Team': 'Brisbane Lions', 'Away Goals': '10', 'Away Behinds': '7 ', 'Away Total': '67', 'Venue': 'Spotless Stadium', 'Crowd': '9079', 'Match Link': 'http://www.afl.com.au/match-centre/2015/10/gws-v-bl'}, {'Day': 'Sunday', 'Date': '7', 'Month': 'June', 'Year': '2015', 'Round': 'Round 10', 'Time': '3:20\\xa0pm', 'Home Team': 'North Melbourne', 'Home Goals': '13', 'Home Behinds': '7 ', 'Home Total': '85', 'Away Team': 'West Coast', 'Away Goals': '10', 'Away Behinds': '15 ', 'Away Total': '75', 'Venue': 'Blundstone Arena', 'Crowd': '12011', 'Match Link': 'http://www.afl.com.au/match-centre/2015/10/nmfc-v-wce'}, {'Day': 'Sunday', 'Date': '7', 'Month': 'June', 'Year': '2015', 'Round': 'Round 10', 'Time': '4:40\\xa0pm', 'Home Team': 'St Kilda', 'Home Goals': '10', 'Home Behinds': '9 ', 'Home Total': '69', 'Away Team': 'Hawthorn', 'Away Goals': '20', 'Away Behinds': '12 ', 'Away Total': '132', 'Venue': 'Etihad Stadium', 'Crowd': '33886', 'Match Link': 'http://www.afl.com.au/match-centre/2015/10/stk-v-haw'}, {'Day': 'Monday', 'Date': '8', 'Month': 'June', 'Year': '2015', 'Round': 'Round 10', 'Time': '3:20\\xa0pm', 'Home Team': 'Melbourne', 'Home Goals': '13', 'Home Behinds': '7 ', 'Home Total': '85', 'Away Team': 'Collingwood', 'Away Goals': '17', 'Away Behinds': '8 ', 'Away Total': '110', 'Venue': 'MCG', 'Crowd': '66120', 'Match Link': 'http://www.afl.com.au/match-centre/2015/10/melb-v-coll'}]\n",
      "this row does not have match data 'NoneType' object has no attribute 'count'\n",
      "[{'Day': 'Friday', 'Date': '12', 'Month': 'June', 'Year': '2015', 'Round': 'Round 11', 'Time': '7:20\\xa0pm', 'Home Team': 'Port Adelaide', 'Home Goals': '11', 'Home Behinds': '3 ', 'Home Total': '69', 'Away Team': 'Geelong', 'Away Goals': '14', 'Away Behinds': '8 ', 'Away Total': '92', 'Venue': 'Adelaide Oval', 'Crowd': '46140', 'Match Link': 'http://www.afl.com.au/match-centre/2015/11/port-v-geel'}, {'Day': 'Saturday', 'Date': '13', 'Month': 'June', 'Year': '2015', 'Round': 'Round 11', 'Time': '1:40\\xa0pm', 'Home Team': 'Gold Coast', 'Home Goals': '7', 'Home Behinds': '4 ', 'Home Total': '46', 'Away Team': 'Fremantle', 'Away Goals': '6', 'Away Behinds': '17 ', 'Away Total': '53', 'Venue': 'Metricon Stadium', 'Crowd': '8911', 'Match Link': 'http://www.afl.com.au/match-centre/2015/11/gcfc-v-fre'}, {'Day': 'Saturday', 'Date': '13', 'Month': 'June', 'Year': '2015', 'Round': 'Round 11', 'Time': '2:35\\xa0pm', 'Home Team': 'West Coast', 'Home Goals': '14', 'Home Behinds': '12 ', 'Home Total': '96', 'Away Team': 'Essendon', 'Away Goals': '6', 'Away Behinds': '10 ', 'Away Total': '46', 'Venue': 'Domain Stadium', 'Crowd': '37306', 'Match Link': 'http://www.afl.com.au/match-centre/2015/11/wce-v-ess'}, {'Day': 'Saturday', 'Date': '13', 'Month': 'June', 'Year': '2015', 'Round': 'Round 11', 'Time': '7:20\\xa0pm', 'Home Team': 'North Melbourne', 'Home Goals': '10', 'Home Behinds': '15 ', 'Home Total': '75', 'Away Team': 'Sydney', 'Away Goals': '14', 'Away Behinds': '7 ', 'Away Total': '91', 'Venue': 'Etihad Stadium', 'Crowd': '32127', 'Match Link': 'http://www.afl.com.au/match-centre/2015/11/nmfc-v-syd'}, {'Day': 'Sunday', 'Date': '14', 'Month': 'June', 'Year': '2015', 'Round': 'Round 11', 'Time': '1:10\\xa0pm', 'Home Team': 'Collingwood', 'Home Goals': '18', 'Home Behinds': '11 ', 'Home Total': '119', 'Away Team': 'Greater Western Sydney', 'Away Goals': '11', 'Away Behinds': '11 ', 'Away Total': '77', 'Venue': 'MCG', 'Crowd': '43390', 'Match Link': 'http://www.afl.com.au/match-centre/2015/11/coll-v-gws'}, {'Day': 'Sunday', 'Date': '14', 'Month': 'June', 'Year': '2015', 'Round': 'Round 11', 'Time': '4:40\\xa0pm', 'Home Team': 'St Kilda', 'Home Goals': '12', 'Home Behinds': '13 ', 'Home Total': '85', 'Away Team': 'Melbourne', 'Away Goals': '12', 'Away Behinds': '11 ', 'Away Total': '83', 'Venue': 'Etihad Stadium', 'Crowd': '25187', 'Match Link': 'http://www.afl.com.au/match-centre/2015/11/stk-v-melb'}]\n",
      "this row does not have match data 'NoneType' object has no attribute 'count'\n",
      "[{'Day': 'Thursday', 'Date': '18', 'Month': 'June', 'Year': '2015', 'Round': 'Round 12', 'Time': '7:20\\xa0pm', 'Home Team': 'Adelaide', 'Home Goals': '12', 'Home Behinds': '13 ', 'Home Total': '85', 'Away Team': 'Hawthorn', 'Away Goals': '17', 'Away Behinds': '12 ', 'Away Total': '114', 'Venue': 'Adelaide Oval', 'Crowd': '49108', 'Match Link': 'http://www.afl.com.au/match-centre/2015/12/adel-v-haw'}, {'Day': 'Friday', 'Date': '19', 'Month': 'June', 'Year': '2015', 'Round': 'Round 12', 'Time': '7:50\\xa0pm', 'Home Team': 'Richmond', 'Home Goals': '10', 'Home Behinds': '10 ', 'Home Total': '70', 'Away Team': 'West Coast', 'Away Goals': '13', 'Away Behinds': '12 ', 'Away Total': '90', 'Venue': 'MCG', 'Crowd': '45178', 'Match Link': 'http://www.afl.com.au/match-centre/2015/12/rich-v-wce'}, {'Day': 'Saturday', 'Date': '20', 'Month': 'June', 'Year': '2015', 'Round': 'Round 12', 'Time': '1:40\\xa0pm', 'Home Team': 'Carlton', 'Home Goals': '17', 'Home Behinds': '8 ', 'Home Total': '110', 'Away Team': 'Port Adelaide', 'Away Goals': '16', 'Away Behinds': '10 ', 'Away Total': '106', 'Venue': 'MCG', 'Crowd': '27693', 'Match Link': 'http://www.afl.com.au/match-centre/2015/12/carl-v-port'}, {'Day': 'Saturday', 'Date': '20', 'Month': 'June', 'Year': '2015', 'Round': 'Round 12', 'Time': '4:35\\xa0pm', 'Home Team': 'Greater Western Sydney', 'Home Goals': '8', 'Home Behinds': '13 ', 'Home Total': '61', 'Away Team': 'North Melbourne', 'Away Goals': '18', 'Away Behinds': '9 ', 'Away Total': '117', 'Venue': 'Spotless Stadium', 'Crowd': '7824', 'Match Link': 'http://www.afl.com.au/match-centre/2015/12/gws-v-nmfc'}, {'Day': 'Saturday', 'Date': '20', 'Month': 'June', 'Year': '2015', 'Round': 'Round 12', 'Time': '7:20\\xa0pm', 'Home Team': 'Western Bulldogs', 'Home Goals': '22', 'Home Behinds': '14 ', 'Home Total': '146', 'Away Team': 'Brisbane Lions', 'Away Goals': '11', 'Away Behinds': '8 ', 'Away Total': '74', 'Venue': 'Etihad Stadium', 'Crowd': '21129', 'Match Link': 'http://www.afl.com.au/match-centre/2015/12/wb-v-bl'}, {'Day': 'Sunday', 'Date': '21', 'Month': 'June', 'Year': '2015', 'Round': 'Round 12', 'Time': '3:20\\xa0pm', 'Home Team': 'Geelong', 'Home Goals': '13', 'Home Behinds': '11 ', 'Home Total': '89', 'Away Team': 'Melbourne', 'Away Goals': '18', 'Away Behinds': '5 ', 'Away Total': '113', 'Venue': 'Simonds Stadium', 'Crowd': '28007', 'Match Link': 'http://www.afl.com.au/match-centre/2015/12/geel-v-melb'}]\n",
      "this row does not have match data 'NoneType' object has no attribute 'count'\n",
      "[{'Day': 'Thursday', 'Date': '25', 'Month': 'June', 'Year': '2015', 'Round': 'Round 13', 'Time': '6:10\\xa0pm', 'Home Team': 'Fremantle', 'Home Goals': '12', 'Home Behinds': '8 ', 'Home Total': '80', 'Away Team': 'Collingwood', 'Away Goals': '11', 'Away Behinds': '7 ', 'Away Total': '73', 'Venue': 'Domain Stadium', 'Crowd': '37145', 'Match Link': 'http://www.afl.com.au/match-centre/2015/13/fre-v-coll'}, {'Day': 'Friday', 'Date': '26', 'Month': 'June', 'Year': '2015', 'Round': 'Round 13', 'Time': '7:50\\xa0pm', 'Home Team': 'Sydney', 'Home Goals': '11', 'Home Behinds': '11 ', 'Home Total': '77', 'Away Team': 'Richmond', 'Away Goals': '14', 'Away Behinds': '11 ', 'Away Total': '95', 'Venue': 'SCG', 'Crowd': '37579', 'Match Link': 'http://www.afl.com.au/match-centre/2015/13/syd-v-rich'}, {'Day': 'Saturday', 'Date': '27', 'Month': 'June', 'Year': '2015', 'Round': 'Round 13', 'Time': '1:40\\xa0pm', 'Home Team': 'Hawthorn', 'Home Goals': '16', 'Home Behinds': '18 ', 'Home Total': '114', 'Away Team': 'Essendon', 'Away Goals': '11', 'Away Behinds': '10 ', 'Away Total': '76', 'Venue': 'MCG', 'Crowd': '62500', 'Match Link': 'http://www.afl.com.au/match-centre/2015/13/haw-v-ess'}, {'Day': 'Saturday', 'Date': '27', 'Month': 'June', 'Year': '2015', 'Round': 'Round 13', 'Time': '4:35\\xa0pm', 'Home Team': 'Brisbane Lions', 'Home Goals': '10', 'Home Behinds': '9 ', 'Home Total': '69', 'Away Team': 'Adelaide', 'Away Goals': '11', 'Away Behinds': '16 ', 'Away Total': '82', 'Venue': 'Gabba', 'Crowd': '18146', 'Match Link': 'http://www.afl.com.au/match-centre/2015/13/bl-v-adel'}, {'Day': 'Saturday', 'Date': '27', 'Month': 'June', 'Year': '2015', 'Round': 'Round 13', 'Time': '7:20\\xa0pm', 'Home Team': 'St Kilda', 'Home Goals': '7', 'Home Behinds': '14 ', 'Home Total': '56', 'Away Team': 'Western Bulldogs', 'Away Goals': '9', 'Away Behinds': '8 ', 'Away Total': '62', 'Venue': 'Etihad Stadium', 'Crowd': '26511', 'Match Link': 'http://www.afl.com.au/match-centre/2015/13/stk-v-wb'}, {'Day': 'Sunday', 'Date': '28', 'Month': 'June', 'Year': '2015', 'Round': 'Round 13', 'Time': '3:20\\xa0pm', 'Home Team': 'Carlton', 'Home Goals': '14', 'Home Behinds': '19 ', 'Home Total': '103', 'Away Team': 'Gold Coast', 'Away Goals': '9', 'Away Behinds': '15 ', 'Away Total': '69', 'Venue': 'Etihad Stadium', 'Crowd': '30207', 'Match Link': 'http://www.afl.com.au/match-centre/2015/13/carl-v-gcfc'}]\n",
      "this row does not have match data list index out of range\n",
      "[{'Day': 'Thursday', 'Date': '2', 'Month': 'July', 'Year': '2015', 'Round': 'Round 14', 'Time': '7:20\\xa0pm', 'Home Team': 'Sydney', 'Home Goals': '14', 'Home Behinds': '10 ', 'Home Total': '94', 'Away Team': 'Port Adelaide', 'Away Goals': '12', 'Away Behinds': '12 ', 'Away Total': '84', 'Venue': 'SCG', 'Crowd': '28316', 'Match Link': 'http://www.afl.com.au/match-centre/2015/14/syd-v-port'}, {'Day': 'Friday', 'Date': '3', 'Month': 'July', 'Year': '2015', 'Round': 'Round 14', 'Time': '7:50\\xa0pm', 'Home Team': 'Collingwood', 'Home Goals': '12', 'Home Behinds': '19 ', 'Home Total': '91', 'Away Team': 'Hawthorn', 'Away Goals': '15', 'Away Behinds': '11 ', 'Away Total': '101', 'Venue': 'MCG', 'Crowd': '75880', 'Match Link': 'http://www.afl.com.au/match-centre/2015/14/coll-v-haw'}, {'Day': 'Saturday', 'Date': '4', 'Month': 'July', 'Year': '2015', 'Round': 'Round 14', 'Time': '1:40\\xa0pm', 'Home Team': 'Richmond', 'Home Goals': '10', 'Home Behinds': '18 ', 'Home Total': '78', 'Away Team': 'Greater Western Sydney', 'Away Goals': '10', 'Away Behinds': '9 ', 'Away Total': '69', 'Venue': 'MCG', 'Crowd': '35968', 'Match Link': 'http://www.afl.com.au/match-centre/2015/14/rich-v-gws'}, {'Day': 'Saturday', 'Date': '4', 'Month': 'July', 'Year': '2015', 'Round': 'Round 14', 'Time': '4:40\\xa0pm', 'Home Team': 'Gold Coast', 'Home Goals': '19', 'Home Behinds': '11 ', 'Home Total': '125', 'Away Team': 'North Melbourne', 'Away Goals': '10', 'Away Behinds': '10 ', 'Away Total': '70', 'Venue': 'Metricon Stadium', 'Crowd': '14444', 'Match Link': 'http://www.afl.com.au/match-centre/2015/14/gcfc-v-nmfc'}, {'Day': 'Saturday', 'Date': '4', 'Month': 'July', 'Year': '2015', 'Round': 'Round 14', 'Time': '7:30\\xa0pm', 'Home Team': 'Western Bulldogs', 'Home Goals': '9', 'Home Behinds': '10 ', 'Home Total': '64', 'Away Team': 'Carlton', 'Away Goals': '7', 'Away Behinds': '11 ', 'Away Total': '53', 'Venue': 'Etihad Stadium', 'Crowd': '31445', 'Match Link': 'http://www.afl.com.au/match-centre/2015/14/wb-v-carl'}, {'Day': 'Saturday', 'Date': '4', 'Month': 'July', 'Year': '2015', 'Round': 'Round 14', 'Time': '7:10\\xa0pm', 'Home Team': 'Melbourne', 'Home Goals': '9', 'Home Behinds': '6 ', 'Home Total': '60', 'Away Team': 'West Coast', 'Away Goals': '16', 'Away Behinds': '18 ', 'Away Total': '114', 'Venue': 'TIO Stadium', 'Crowd': '11873', 'Match Link': 'http://www.afl.com.au/match-centre/2015/14/melb-v-wce'}, {'Day': 'Sunday', 'Date': '5', 'Month': 'July', 'Year': '2015', 'Round': 'Round 14', 'Time': '1:10\\xa0pm', 'Home Team': 'Essendon', 'Home Goals': '8', 'Home Behinds': '4 ', 'Home Total': '52', 'Away Team': 'St Kilda', 'Away Goals': '25', 'Away Behinds': '12 ', 'Away Total': '162', 'Venue': 'Etihad Stadium', 'Crowd': '38020', 'Match Link': 'http://www.afl.com.au/match-centre/2015/14/ess-v-stk'}, {'Day': 'Sunday', 'Date': '5', 'Month': 'July', 'Year': '2015', 'Round': 'Round 14', 'Time': '2:40\\xa0pm', 'Home Team': 'Fremantle', 'Home Goals': '13', 'Home Behinds': '6 ', 'Home Total': '84', 'Away Team': 'Brisbane Lions', 'Away Goals': '7', 'Away Behinds': '6 ', 'Away Total': '48', 'Venue': 'Domain Stadium', 'Crowd': '32970', 'Match Link': 'http://www.afl.com.au/match-centre/2015/14/fre-v-bl'}]\n",
      "[{'Day': 'Thursday', 'Date': '9', 'Month': 'July', 'Year': '2015', 'Round': 'Round 15', 'Time': '7:20\\xa0pm', 'Home Team': 'Port Adelaide', 'Home Goals': '9', 'Home Behinds': '12 ', 'Home Total': '66', 'Away Team': 'Collingwood', 'Away Goals': '9', 'Away Behinds': '9 ', 'Away Total': '63', 'Venue': 'Adelaide Oval', 'Crowd': '44496', 'Match Link': 'http://www.afl.com.au/match-centre/2015/15/port-v-coll'}, {'Day': 'Friday', 'Date': '10', 'Month': 'July', 'Year': '2015', 'Round': 'Round 15', 'Time': '7:50\\xa0pm', 'Home Team': 'Richmond', 'Home Goals': '10', 'Home Behinds': '11 ', 'Home Total': '71', 'Away Team': 'Carlton', 'Away Goals': '5', 'Away Behinds': '11 ', 'Away Total': '41', 'Venue': 'MCG', 'Crowd': '52564', 'Match Link': 'http://www.afl.com.au/match-centre/2015/15/rich-v-carl'}, {'Day': 'Saturday', 'Date': '11', 'Month': 'July', 'Year': '2015', 'Round': 'Round 15', 'Time': '1:40\\xa0pm', 'Home Team': 'Essendon', 'Home Goals': '10', 'Home Behinds': '9 ', 'Home Total': '69', 'Away Team': 'Melbourne', 'Away Goals': '7', 'Away Behinds': '18 ', 'Away Total': '60', 'Venue': 'MCG', 'Crowd': '38861', 'Match Link': 'http://www.afl.com.au/match-centre/2015/15/ess-v-melb'}, {'Day': 'Saturday', 'Date': '11', 'Month': 'July', 'Year': '2015', 'Round': 'Round 15', 'Time': '4:35\\xa0pm', 'Home Team': 'Western Bulldogs', 'Home Goals': '14', 'Home Behinds': '11 ', 'Home Total': '95', 'Away Team': 'Gold Coast', 'Away Goals': '11', 'Away Behinds': '7 ', 'Away Total': '73', 'Venue': \"Cazaly's Stadium\", 'Crowd': '9449', 'Match Link': 'http://www.afl.com.au/match-centre/2015/15/wb-v-gcfc'}, {'Day': 'Saturday', 'Date': '11', 'Month': 'July', 'Year': '2015', 'Round': 'Round 15', 'Time': '7:20\\xa0pm', 'Home Team': 'North Melbourne', 'Home Goals': '18', 'Home Behinds': '12 ', 'Home Total': '120', 'Away Team': 'Geelong', 'Away Goals': '11', 'Away Behinds': '13 ', 'Away Total': '79', 'Venue': 'Etihad Stadium', 'Crowd': '31270', 'Match Link': 'http://www.afl.com.au/match-centre/2015/15/nmfc-v-geel'}, {'Day': 'Saturday', 'Date': '11', 'Month': 'July', 'Year': '2015', 'Round': 'Round 15', 'Time': '5:40\\xa0pm', 'Home Team': 'West Coast', 'Home Goals': '22', 'Home Behinds': '15 ', 'Home Total': '147', 'Away Team': 'Adelaide', 'Away Goals': '14', 'Away Behinds': '7 ', 'Away Total': '91', 'Venue': 'Domain Stadium', 'Crowd': '38133', 'Match Link': 'http://www.afl.com.au/match-centre/2015/15/wce-v-adel'}, {'Day': 'Sunday', 'Date': '12', 'Month': 'July', 'Year': '2015', 'Round': 'Round 15', 'Time': '1:10\\xa0pm', 'Home Team': 'Greater Western Sydney', 'Home Goals': '12', 'Home Behinds': '12 ', 'Home Total': '84', 'Away Team': 'St Kilda', 'Away Goals': '6', 'Away Behinds': '13 ', 'Away Total': '49', 'Venue': 'Spotless Stadium', 'Crowd': '9178', 'Match Link': 'http://www.afl.com.au/match-centre/2015/15/gws-v-stk'}, {'Day': 'Sunday', 'Date': '12', 'Month': 'July', 'Year': '2015', 'Round': 'Round 15', 'Time': '3:20\\xa0pm', 'Home Team': 'Hawthorn', 'Home Goals': '17', 'Home Behinds': '13 ', 'Home Total': '115', 'Away Team': 'Fremantle', 'Away Goals': '6', 'Away Behinds': '7 ', 'Away Total': '43', 'Venue': 'Aurora Stadium', 'Crowd': '16792', 'Match Link': 'http://www.afl.com.au/match-centre/2015/15/haw-v-fre'}, {'Day': 'Sunday', 'Date': '12', 'Month': 'July', 'Year': '2015', 'Round': 'Round 15', 'Time': '4:40\\xa0pm', 'Home Team': 'Brisbane Lions', 'Home Goals': '7', 'Home Behinds': '7 ', 'Home Total': '49', 'Away Team': 'Sydney', 'Away Goals': '10', 'Away Behinds': '10 ', 'Away Total': '70', 'Venue': 'Gabba', 'Crowd': '16936', 'Match Link': 'http://www.afl.com.au/match-centre/2015/15/bl-v-syd'}]\n",
      "[{'Day': 'Friday', 'Date': '17', 'Month': 'July', 'Year': '2015', 'Round': 'Round 16', 'Time': '7:50\\xa0pm', 'Home Team': 'North Melbourne', 'Home Goals': '14', 'Home Behinds': '9 ', 'Home Total': '93', 'Away Team': 'Essendon', 'Away Goals': '9', 'Away Behinds': '14 ', 'Away Total': '68', 'Venue': 'Etihad Stadium', 'Crowd': '31025', 'Match Link': 'http://www.afl.com.au/match-centre/2015/16/nmfc-v-ess'}, {'Day': 'Saturday', 'Date': '18', 'Month': 'July', 'Year': '2015', 'Round': 'Round 16', 'Time': '1:45\\xa0pm', 'Home Team': 'Geelong', 'Home Goals': '10', 'Home Behinds': '12 ', 'Home Total': '72', 'Away Team': 'Western Bulldogs', 'Away Goals': '9', 'Away Behinds': '10 ', 'Away Total': '64', 'Venue': 'Simonds Stadium', 'Crowd': '25041', 'Match Link': 'http://www.afl.com.au/match-centre/2015/16/geel-v-wb'}, {'Day': 'Saturday', 'Date': '18', 'Month': 'July', 'Year': '2015', 'Round': 'Round 16', 'Time': '2:10\\xa0pm', 'Home Team': 'Gold Coast', 'Home Goals': '12', 'Home Behinds': '7 ', 'Home Total': '79', 'Away Team': 'Greater Western Sydney', 'Away Goals': '13', 'Away Behinds': '16 ', 'Away Total': '94', 'Venue': 'Metricon Stadium', 'Crowd': '9589', 'Match Link': 'http://www.afl.com.au/match-centre/2015/16/gcfc-v-gws'}, {'Day': 'Saturday', 'Date': '18', 'Month': 'July', 'Year': '2015', 'Round': 'Round 16', 'Time': '4:35\\xa0pm', 'Home Team': 'Collingwood', 'Home Goals': '7', 'Home Behinds': '14 ', 'Home Total': '56', 'Away Team': 'West Coast', 'Away Goals': '11', 'Away Behinds': '21 ', 'Away Total': '87', 'Venue': 'Etihad Stadium', 'Crowd': '36527', 'Match Link': 'http://www.afl.com.au/match-centre/2015/16/coll-v-wce'}, {'Day': 'Saturday', 'Date': '18', 'Month': 'July', 'Year': '2015', 'Round': 'Round 16', 'Time': '7:20\\xa0pm', 'Home Team': 'Sydney', 'Home Goals': '7', 'Home Behinds': '15 ', 'Home Total': '57', 'Away Team': 'Hawthorn', 'Away Goals': '23', 'Away Behinds': '8 ', 'Away Total': '146', 'Venue': 'ANZ Stadium', 'Crowd': '37369', 'Match Link': 'http://www.afl.com.au/match-centre/2015/16/syd-v-haw'}, {'Day': 'Saturday', 'Date': '18', 'Month': 'July', 'Year': '2015', 'Round': 'Round 16', 'Time': '5:40\\xa0pm', 'Home Team': 'Fremantle', 'Home Goals': '13', 'Home Behinds': '17 ', 'Home Total': '95', 'Away Team': 'Carlton', 'Away Goals': '8', 'Away Behinds': '5 ', 'Away Total': '53', 'Venue': 'Domain Stadium', 'Crowd': '33581', 'Match Link': 'http://www.afl.com.au/match-centre/2015/16/fre-v-carl'}, {'Day': 'Sunday', 'Date': '19', 'Month': 'July', 'Year': '2015', 'Round': 'Round 16', 'Time': '1:10\\xa0pm', 'Home Team': 'Melbourne', 'Home Goals': '8', 'Home Behinds': '12 ', 'Home Total': '60', 'Away Team': 'Brisbane Lions', 'Away Goals': '4', 'Away Behinds': '12 ', 'Away Total': '36', 'Venue': 'MCG', 'Crowd': '25149', 'Match Link': 'http://www.afl.com.au/match-centre/2015/16/melb-v-bl'}, {'Day': 'Sunday', 'Date': '19', 'Month': 'July', 'Year': '2015', 'Round': 'Round 16', 'Time': '2:50\\xa0pm', 'Home Team': 'Port Adelaide', 'Home Goals': '17', 'Home Behinds': '11 ', 'Home Total': '113', 'Away Team': 'Adelaide', 'Away Goals': '18', 'Away Behinds': '8 ', 'Away Total': '116', 'Venue': 'Adelaide Oval', 'Crowd': '53518', 'Match Link': 'http://www.afl.com.au/match-centre/2015/16/port-v-adel'}, {'Day': 'Sunday', 'Date': '19', 'Month': 'July', 'Year': '2015', 'Round': 'Round 16', 'Time': '4:40\\xa0pm', 'Home Team': 'St Kilda', 'Home Goals': '10', 'Home Behinds': '13 ', 'Home Total': '73', 'Away Team': 'Richmond', 'Away Goals': '13', 'Away Behinds': '11 ', 'Away Total': '89', 'Venue': 'Etihad Stadium', 'Crowd': '45772', 'Match Link': 'http://www.afl.com.au/match-centre/2015/16/stk-v-rich'}]\n",
      "[{'Day': 'Friday', 'Date': '24', 'Month': 'July', 'Year': '2015', 'Round': 'Round 17', 'Time': '7:50\\xa0pm', 'Home Team': 'Carlton', 'Home Goals': '4', 'Home Behinds': '11 ', 'Home Total': '35', 'Away Team': 'Hawthorn', 'Away Goals': '27', 'Away Behinds': '11 ', 'Away Total': '173', 'Venue': 'Etihad Stadium', 'Crowd': '26815', 'Match Link': 'http://www.afl.com.au/match-centre/2015/17/carl-v-haw'}, {'Day': 'Saturday', 'Date': '25', 'Month': 'July', 'Year': '2015', 'Round': 'Round 17', 'Time': '1:45\\xa0pm', 'Home Team': 'Greater Western Sydney', 'Home Goals': '6', 'Home Behinds': '6 ', 'Home Total': '42', 'Away Team': 'Geelong', 'Away Goals': '9', 'Away Behinds': '15 ', 'Away Total': '69', 'Venue': 'StarTrack Oval', 'Crowd': '14667', 'Match Link': 'http://www.afl.com.au/match-centre/2015/17/gws-v-geel'}, {'Day': 'Saturday', 'Date': '25', 'Month': 'July', 'Year': '2015', 'Round': 'Round 17', 'Time': '1:40\\xa0pm', 'Home Team': 'Adelaide', 'Home Goals': '19', 'Home Behinds': '11 ', 'Home Total': '125', 'Away Team': 'Gold Coast', 'Away Goals': '12', 'Away Behinds': '8 ', 'Away Total': '80', 'Venue': 'Adelaide Oval', 'Crowd': '41715', 'Match Link': 'http://www.afl.com.au/match-centre/2015/17/adel-v-gcfc'}, {'Day': 'Saturday', 'Date': '25', 'Month': 'July', 'Year': '2015', 'Round': 'Round 17', 'Time': '4:35\\xa0pm', 'Home Team': 'Richmond', 'Home Goals': '10', 'Home Behinds': '18 ', 'Home Total': '78', 'Away Team': 'Fremantle', 'Away Goals': '12', 'Away Behinds': '10 ', 'Away Total': '82', 'Venue': 'MCG', 'Crowd': '39777', 'Match Link': 'http://www.afl.com.au/match-centre/2015/17/rich-v-fre'}, {'Day': 'Saturday', 'Date': '25', 'Month': 'July', 'Year': '2015', 'Round': 'Round 17', 'Time': '7:20\\xa0pm', 'Home Team': 'Essendon', 'Home Goals': '17', 'Home Behinds': '14 ', 'Home Total': '116', 'Away Team': 'Port Adelaide', 'Away Goals': '20', 'Away Behinds': '9 ', 'Away Total': '129', 'Venue': 'Etihad Stadium', 'Crowd': '23705', 'Match Link': 'http://www.afl.com.au/match-centre/2015/17/ess-v-port'}, {'Day': 'Saturday', 'Date': '25', 'Month': 'July', 'Year': '2015', 'Round': 'Round 17', 'Time': '7:20\\xa0pm', 'Home Team': 'Brisbane Lions', 'Home Goals': '5', 'Home Behinds': '8 ', 'Home Total': '38', 'Away Team': 'North Melbourne', 'Away Goals': '16', 'Away Behinds': '14 ', 'Away Total': '110', 'Venue': 'Gabba', 'Crowd': '15563', 'Match Link': 'http://www.afl.com.au/match-centre/2015/17/bl-v-nmfc'}, {'Day': 'Sunday', 'Date': '26', 'Month': 'July', 'Year': '2015', 'Round': 'Round 17', 'Time': '1:10\\xa0pm', 'Home Team': 'Western Bulldogs', 'Home Goals': '15', 'Home Behinds': '14 ', 'Home Total': '104', 'Away Team': 'Collingwood', 'Away Goals': '13', 'Away Behinds': '8 ', 'Away Total': '86', 'Venue': 'Etihad Stadium', 'Crowd': '40581', 'Match Link': 'http://www.afl.com.au/match-centre/2015/17/wb-v-coll'}, {'Day': 'Sunday', 'Date': '26', 'Month': 'July', 'Year': '2015', 'Round': 'Round 17', 'Time': '3:20\\xa0pm', 'Home Team': 'Melbourne', 'Home Goals': '6', 'Home Behinds': '10 ', 'Home Total': '46', 'Away Team': 'St Kilda', 'Away Goals': '12', 'Away Behinds': '11 ', 'Away Total': '83', 'Venue': 'MCG', 'Crowd': '22945', 'Match Link': 'http://www.afl.com.au/match-centre/2015/17/melb-v-stk'}, {'Day': 'Sunday', 'Date': '26', 'Month': 'July', 'Year': '2015', 'Round': 'Round 17', 'Time': '2:40\\xa0pm', 'Home Team': 'West Coast', 'Home Goals': '15', 'Home Behinds': '13 ', 'Home Total': '103', 'Away Team': 'Sydney', 'Away Goals': '7', 'Away Behinds': '9 ', 'Away Total': '51', 'Venue': 'Domain Stadium', 'Crowd': '38760', 'Match Link': 'http://www.afl.com.au/match-centre/2015/17/wce-v-syd'}]\n",
      "[{'Day': 'Friday', 'Date': '31', 'Month': 'July', 'Year': '2015', 'Round': 'Round 18', 'Time': '7:50\\xa0pm', 'Home Team': 'Hawthorn', 'Home Goals': '7', 'Home Behinds': '11 ', 'Home Total': '53', 'Away Team': 'Richmond', 'Away Goals': '10', 'Away Behinds': '11 ', 'Away Total': '71', 'Venue': 'MCG', 'Crowd': '66305', 'Match Link': 'http://www.afl.com.au/match-centre/2015/18/haw-v-rich'}, {'Day': 'Saturday', 'Date': '1', 'Month': 'August', 'Year': '2015', 'Round': 'Round 18', 'Time': '1:45\\xa0pm', 'Home Team': 'Geelong', 'Home Goals': '17', 'Home Behinds': '11 ', 'Home Total': '113', 'Away Team': 'Brisbane Lions', 'Away Goals': '8', 'Away Behinds': '9 ', 'Away Total': '57', 'Venue': 'Simonds Stadium', 'Crowd': '21914', 'Match Link': 'http://www.afl.com.au/match-centre/2015/18/geel-v-bl'}, {'Day': 'Saturday', 'Date': '1', 'Month': 'August', 'Year': '2015', 'Round': 'Round 18', 'Time': '2:10\\xa0pm', 'Home Team': 'Collingwood', 'Home Goals': '7', 'Home Behinds': '12 ', 'Home Total': '54', 'Away Team': 'Melbourne', 'Away Goals': '13', 'Away Behinds': '13 ', 'Away Total': '91', 'Venue': 'MCG', 'Crowd': '37894', 'Match Link': 'http://www.afl.com.au/match-centre/2015/18/coll-v-melb'}, {'Day': 'Saturday', 'Date': '1', 'Month': 'August', 'Year': '2015', 'Round': 'Round 18', 'Time': '4:35\\xa0pm', 'Home Team': 'Sydney', 'Home Goals': '17', 'Home Behinds': '15 ', 'Home Total': '117', 'Away Team': 'Adelaide', 'Away Goals': '9', 'Away Behinds': '11 ', 'Away Total': '65', 'Venue': 'SCG', 'Crowd': '38690', 'Match Link': 'http://www.afl.com.au/match-centre/2015/18/syd-v-adel'}, {'Day': 'Saturday', 'Date': '1', 'Month': 'August', 'Year': '2015', 'Round': 'Round 18', 'Time': '7:20\\xa0pm', 'Home Team': 'Carlton', 'Home Goals': '8', 'Home Behinds': '6 ', 'Home Total': '54', 'Away Team': 'North Melbourne', 'Away Goals': '18', 'Away Behinds': '10 ', 'Away Total': '118', 'Venue': 'Etihad Stadium', 'Crowd': '25251', 'Match Link': 'http://www.afl.com.au/match-centre/2015/18/carl-v-nmfc'}, {'Day': 'Saturday', 'Date': '1', 'Month': 'August', 'Year': '2015', 'Round': 'Round 18', 'Time': '7:20\\xa0pm', 'Home Team': 'Gold Coast', 'Home Goals': '12', 'Home Behinds': '11 ', 'Home Total': '83', 'Away Team': 'West Coast', 'Away Goals': '11', 'Away Behinds': '17 ', 'Away Total': '83', 'Venue': 'Metricon Stadium', 'Crowd': '9341', 'Match Link': 'http://www.afl.com.au/match-centre/2015/18/gcfc-v-wce'}, {'Day': 'Sunday', 'Date': '2', 'Month': 'August', 'Year': '2015', 'Round': 'Round 18', 'Time': '12:40\\xa0pm', 'Home Team': 'Port Adelaide', 'Home Goals': '17', 'Home Behinds': '10 ', 'Home Total': '112', 'Away Team': 'St Kilda', 'Away Goals': '6', 'Away Behinds': '13 ', 'Away Total': '49', 'Venue': 'Adelaide Oval', 'Crowd': '35977', 'Match Link': 'http://www.afl.com.au/match-centre/2015/18/port-v-stk'}, {'Day': 'Sunday', 'Date': '2', 'Month': 'August', 'Year': '2015', 'Round': 'Round 18', 'Time': '3:20\\xa0pm', 'Home Team': 'Essendon', 'Home Goals': '5', 'Home Behinds': '10 ', 'Home Total': '40', 'Away Team': 'Western Bulldogs', 'Away Goals': '19', 'Away Behinds': '13 ', 'Away Total': '127', 'Venue': 'Etihad Stadium', 'Crowd': '33466', 'Match Link': 'http://www.afl.com.au/match-centre/2015/18/ess-v-wb'}, {'Day': 'Sunday', 'Date': '2', 'Month': 'August', 'Year': '2015', 'Round': 'Round 18', 'Time': '2:40\\xa0pm', 'Home Team': 'Fremantle', 'Home Goals': '12', 'Home Behinds': '12 ', 'Home Total': '84', 'Away Team': 'Greater Western Sydney', 'Away Goals': '9', 'Away Behinds': '9 ', 'Away Total': '63', 'Venue': 'Domain Stadium', 'Crowd': '34626', 'Match Link': 'http://www.afl.com.au/match-centre/2015/18/fre-v-gws'}]\n",
      "[{'Day': 'Friday', 'Date': '7', 'Month': 'August', 'Year': '2015', 'Round': 'Round 19 (Multicultural Round)', 'Time': '7:20\\xa0pm', 'Home Team': 'Adelaide', 'Home Goals': '11', 'Home Behinds': '22 ', 'Home Total': '88', 'Away Team': 'Richmond', 'Away Goals': '8', 'Away Behinds': '4 ', 'Away Total': '52', 'Venue': 'Adelaide Oval', 'Crowd': '49116', 'Match Link': 'http://www.afl.com.au/match-centre/2015/19/adel-v-rich'}, {'Day': 'Saturday', 'Date': '8', 'Month': 'August', 'Year': '2015', 'Round': 'Round 19 (Multicultural Round)', 'Time': '1:45\\xa0pm', 'Home Team': 'Collingwood', 'Home Goals': '16', 'Home Behinds': '9 ', 'Home Total': '105', 'Away Team': 'Carlton', 'Away Goals': '13', 'Away Behinds': '9 ', 'Away Total': '87', 'Venue': 'MCG', 'Crowd': '48133', 'Match Link': 'http://www.afl.com.au/match-centre/2015/19/coll-v-carl'}, {'Day': 'Saturday', 'Date': '8', 'Month': 'August', 'Year': '2015', 'Round': 'Round 19 (Multicultural Round)', 'Time': '2:10\\xa0pm', 'Home Team': 'Western Bulldogs', 'Home Goals': '19', 'Home Behinds': '14 ', 'Home Total': '128', 'Away Team': 'Port Adelaide', 'Away Goals': '9', 'Away Behinds': '10 ', 'Away Total': '64', 'Venue': 'Etihad Stadium', 'Crowd': '20590', 'Match Link': 'http://www.afl.com.au/match-centre/2015/19/wb-v-port'}, {'Day': 'Saturday', 'Date': '8', 'Month': 'August', 'Year': '2015', 'Round': 'Round 19 (Multicultural Round)', 'Time': '4:35\\xa0pm', 'Home Team': 'Brisbane Lions', 'Home Goals': '14', 'Home Behinds': '16 ', 'Home Total': '100', 'Away Team': 'Gold Coast', 'Away Goals': '17', 'Away Behinds': '12 ', 'Away Total': '114', 'Venue': 'Gabba', 'Crowd': '20025', 'Match Link': 'http://www.afl.com.au/match-centre/2015/19/bl-v-gcfc'}, {'Day': 'Saturday', 'Date': '8', 'Month': 'August', 'Year': '2015', 'Round': 'Round 19 (Multicultural Round)', 'Time': '7:20\\xa0pm', 'Home Team': 'Geelong', 'Home Goals': '14', 'Home Behinds': '11 ', 'Home Total': '95', 'Away Team': 'Sydney', 'Away Goals': '9', 'Away Behinds': '9 ', 'Away Total': '63', 'Venue': 'Simonds Stadium', 'Crowd': '27901', 'Match Link': 'http://www.afl.com.au/match-centre/2015/19/geel-v-syd'}, {'Day': 'Saturday', 'Date': '8', 'Month': 'August', 'Year': '2015', 'Round': 'Round 19 (Multicultural Round)', 'Time': '5:40\\xa0pm', 'Home Team': 'West Coast', 'Home Goals': '11', 'Home Behinds': '8 ', 'Home Total': '74', 'Away Team': 'Hawthorn', 'Away Goals': '13', 'Away Behinds': '10 ', 'Away Total': '88', 'Venue': 'Domain Stadium', 'Crowd': '34843', 'Match Link': 'http://www.afl.com.au/match-centre/2015/19/wce-v-haw'}, {'Day': 'Sunday', 'Date': '9', 'Month': 'August', 'Year': '2015', 'Round': 'Round 19 (Multicultural Round)', 'Time': '1:10\\xa0pm', 'Home Team': 'Melbourne', 'Home Goals': '14', 'Home Behinds': '8 ', 'Home Total': '92', 'Away Team': 'North Melbourne', 'Away Goals': '19', 'Away Behinds': '13 ', 'Away Total': '127', 'Venue': 'MCG', 'Crowd': '30695', 'Match Link': 'http://www.afl.com.au/match-centre/2015/19/melb-v-nmfc'}, {'Day': 'Sunday', 'Date': '9', 'Month': 'August', 'Year': '2015', 'Round': 'Round 19 (Multicultural Round)', 'Time': '3:20\\xa0pm', 'Home Team': 'Greater Western Sydney', 'Home Goals': '14', 'Home Behinds': '9 ', 'Home Total': '93', 'Away Team': 'Essendon', 'Away Goals': '8', 'Away Behinds': '13 ', 'Away Total': '61', 'Venue': 'Spotless Stadium', 'Crowd': '10093', 'Match Link': 'http://www.afl.com.au/match-centre/2015/19/gws-v-ess'}, {'Day': 'Sunday', 'Date': '9', 'Month': 'August', 'Year': '2015', 'Round': 'Round 19 (Multicultural Round)', 'Time': '4:40\\xa0pm', 'Home Team': 'St Kilda', 'Home Goals': '8', 'Home Behinds': '11 ', 'Home Total': '59', 'Away Team': 'Fremantle', 'Away Goals': '15', 'Away Behinds': '6 ', 'Away Total': '96', 'Venue': 'Etihad Stadium', 'Crowd': '16419', 'Match Link': 'http://www.afl.com.au/match-centre/2015/19/stk-v-fre'}]\n",
      "[{'Day': 'Friday', 'Date': '14', 'Month': 'August', 'Year': '2015', 'Round': 'Round 20', 'Time': '7:50\\xa0pm', 'Home Team': 'Sydney', 'Home Goals': '13', 'Home Behinds': '9 ', 'Home Total': '87', 'Away Team': 'Collingwood', 'Away Goals': '10', 'Away Behinds': '16 ', 'Away Total': '76', 'Venue': 'SCG', 'Crowd': '38408', 'Match Link': 'http://www.afl.com.au/match-centre/2015/20/syd-v-coll'}, {'Day': 'Saturday', 'Date': '15', 'Month': 'August', 'Year': '2015', 'Round': 'Round 20', 'Time': '1:45\\xa0pm', 'Home Team': 'Essendon', 'Home Goals': '8', 'Home Behinds': '11 ', 'Home Total': '59', 'Away Team': 'Adelaide', 'Away Goals': '27', 'Away Behinds': '9 ', 'Away Total': '171', 'Venue': 'Etihad Stadium', 'Crowd': '25914', 'Match Link': 'http://www.afl.com.au/match-centre/2015/20/ess-v-adel'}, {'Day': 'Saturday', 'Date': '15', 'Month': 'August', 'Year': '2015', 'Round': 'Round 20', 'Time': '2:10\\xa0pm', 'Home Team': 'North Melbourne', 'Home Goals': '18', 'Home Behinds': '12 ', 'Home Total': '120', 'Away Team': 'St Kilda', 'Away Goals': '11', 'Away Behinds': '17 ', 'Away Total': '83', 'Venue': 'Blundstone Arena', 'Crowd': '14346', 'Match Link': 'http://www.afl.com.au/match-centre/2015/20/nmfc-v-stk'}, {'Day': 'Saturday', 'Date': '15', 'Month': 'August', 'Year': '2015', 'Round': 'Round 20', 'Time': '4:05\\xa0pm', 'Home Team': 'Port Adelaide', 'Home Goals': '16', 'Home Behinds': '15 ', 'Home Total': '111', 'Away Team': 'Greater Western Sydney', 'Away Goals': '13', 'Away Behinds': '12 ', 'Away Total': '90', 'Venue': 'Adelaide Oval', 'Crowd': '32436', 'Match Link': 'http://www.afl.com.au/match-centre/2015/20/port-v-gws'}, {'Day': 'Saturday', 'Date': '15', 'Month': 'August', 'Year': '2015', 'Round': 'Round 20', 'Time': '7:20\\xa0pm', 'Home Team': 'Geelong', 'Home Goals': '12', 'Home Behinds': '13 ', 'Home Total': '85', 'Away Team': 'Hawthorn', 'Away Goals': '19', 'Away Behinds': '7 ', 'Away Total': '121', 'Venue': 'MCG', 'Crowd': '55802', 'Match Link': 'http://www.afl.com.au/match-centre/2015/20/geel-v-haw'}, {'Day': 'Saturday', 'Date': '15', 'Month': 'August', 'Year': '2015', 'Round': 'Round 20', 'Time': '7:20\\xa0pm', 'Home Team': 'Brisbane Lions', 'Home Goals': '20', 'Home Behinds': '11 ', 'Home Total': '131', 'Away Team': 'Carlton', 'Away Goals': '9', 'Away Behinds': '13 ', 'Away Total': '67', 'Venue': 'Gabba', 'Crowd': '17744', 'Match Link': 'http://www.afl.com.au/match-centre/2015/20/bl-v-carl'}, {'Day': 'Sunday', 'Date': '16', 'Month': 'August', 'Year': '2015', 'Round': 'Round 20', 'Time': '1:10\\xa0pm', 'Home Team': 'Richmond', 'Home Goals': '22', 'Home Behinds': '6 ', 'Home Total': '138', 'Away Team': 'Gold Coast', 'Away Goals': '8', 'Away Behinds': '7 ', 'Away Total': '55', 'Venue': 'MCG', 'Crowd': '38508', 'Match Link': 'http://www.afl.com.au/match-centre/2015/20/rich-v-gcfc'}, {'Day': 'Sunday', 'Date': '16', 'Month': 'August', 'Year': '2015', 'Round': 'Round 20', 'Time': '3:20\\xa0pm', 'Home Team': 'Western Bulldogs', 'Home Goals': '24', 'Home Behinds': '9 ', 'Home Total': '153', 'Away Team': 'Melbourne', 'Away Goals': '8', 'Away Behinds': '7 ', 'Away Total': '55', 'Venue': 'Etihad Stadium', 'Crowd': '27805', 'Match Link': 'http://www.afl.com.au/match-centre/2015/20/wb-v-melb'}, {'Day': 'Sunday', 'Date': '16', 'Month': 'August', 'Year': '2015', 'Round': 'Round 20', 'Time': '2:40\\xa0pm', 'Home Team': 'Fremantle', 'Home Goals': '11', 'Home Behinds': '14 ', 'Home Total': '80', 'Away Team': 'West Coast', 'Away Goals': '15', 'Away Behinds': '14 ', 'Away Total': '104', 'Venue': 'Domain Stadium', 'Crowd': '41959', 'Match Link': 'http://www.afl.com.au/match-centre/2015/20/fre-v-wce'}]\n",
      "[{'Day': 'Friday', 'Date': '21', 'Month': 'August', 'Year': '2015', 'Round': 'Round 21', 'Time': '7:50\\xa0pm', 'Home Team': 'Hawthorn', 'Home Goals': '13', 'Home Behinds': '8 ', 'Home Total': '86', 'Away Team': 'Port Adelaide', 'Away Goals': '16', 'Away Behinds': '12 ', 'Away Total': '108', 'Venue': 'Etihad Stadium', 'Crowd': '28657', 'Match Link': 'http://www.afl.com.au/match-centre/2015/21/haw-v-port'}, {'Day': 'Saturday', 'Date': '22', 'Month': 'August', 'Year': '2015', 'Round': 'Round 21', 'Time': '1:45\\xa0pm', 'Home Team': 'Collingwood', 'Home Goals': '7', 'Home Behinds': '14 ', 'Home Total': '56', 'Away Team': 'Richmond', 'Away Goals': '23', 'Away Behinds': '9 ', 'Away Total': '147', 'Venue': 'MCG', 'Crowd': '63178', 'Match Link': 'http://www.afl.com.au/match-centre/2015/21/coll-v-rich'}, {'Day': 'Saturday', 'Date': '22', 'Month': 'August', 'Year': '2015', 'Round': 'Round 21', 'Time': '2:10\\xa0pm', 'Home Team': 'Greater Western Sydney', 'Home Goals': '6', 'Home Behinds': '8 ', 'Home Total': '44', 'Away Team': 'Sydney', 'Away Goals': '20', 'Away Behinds': '13 ', 'Away Total': '133', 'Venue': 'Spotless Stadium', 'Crowd': '19507', 'Match Link': 'http://www.afl.com.au/match-centre/2015/21/gws-v-syd'}, {'Day': 'Saturday', 'Date': '22', 'Month': 'August', 'Year': '2015', 'Round': 'Round 21', 'Time': '4:35\\xa0pm', 'Home Team': 'Gold Coast', 'Home Goals': '14', 'Home Behinds': '13 ', 'Home Total': '97', 'Away Team': 'Essendon', 'Away Goals': '14', 'Away Behinds': '11 ', 'Away Total': '95', 'Venue': 'Metricon Stadium', 'Crowd': '16253', 'Match Link': 'http://www.afl.com.au/match-centre/2015/21/gcfc-v-ess'}, {'Day': 'Saturday', 'Date': '22', 'Month': 'August', 'Year': '2015', 'Round': 'Round 21', 'Time': '7:20\\xa0pm', 'Home Team': 'St Kilda', 'Home Goals': '14', 'Home Behinds': '13 ', 'Home Total': '97', 'Away Team': 'Geelong', 'Away Goals': '15', 'Away Behinds': '7 ', 'Away Total': '97', 'Venue': 'Etihad Stadium', 'Crowd': '25245', 'Match Link': 'http://www.afl.com.au/match-centre/2015/21/stk-v-geel'}, {'Day': 'Saturday', 'Date': '22', 'Month': 'August', 'Year': '2015', 'Round': 'Round 21', 'Time': '7:10\\xa0pm', 'Home Team': 'Adelaide', 'Home Goals': '20', 'Home Behinds': '11 ', 'Home Total': '131', 'Away Team': 'Brisbane Lions', 'Away Goals': '6', 'Away Behinds': '8 ', 'Away Total': '44', 'Venue': 'Adelaide Oval', 'Crowd': '46609', 'Match Link': 'http://www.afl.com.au/match-centre/2015/21/adel-v-bl'}, {'Day': 'Sunday', 'Date': '23', 'Month': 'August', 'Year': '2015', 'Round': 'Round 21', 'Time': '1:10\\xa0pm', 'Home Team': 'North Melbourne', 'Home Goals': '14', 'Home Behinds': '10 ', 'Home Total': '94', 'Away Team': 'Fremantle', 'Away Goals': '12', 'Away Behinds': '11 ', 'Away Total': '83', 'Venue': 'Etihad Stadium', 'Crowd': '23857', 'Match Link': 'http://www.afl.com.au/match-centre/2015/21/nmfc-v-fre'}, {'Day': 'Sunday', 'Date': '23', 'Month': 'August', 'Year': '2015', 'Round': 'Round 21', 'Time': '3:20\\xa0pm', 'Home Team': 'Carlton', 'Home Goals': '12', 'Home Behinds': '6 ', 'Home Total': '78', 'Away Team': 'Melbourne', 'Away Goals': '7', 'Away Behinds': '13 ', 'Away Total': '55', 'Venue': 'MCG', 'Crowd': '33962', 'Match Link': 'http://www.afl.com.au/match-centre/2015/21/carl-v-melb'}, {'Day': 'Sunday', 'Date': '23', 'Month': 'August', 'Year': '2015', 'Round': 'Round 21', 'Time': '2:40\\xa0pm', 'Home Team': 'West Coast', 'Home Goals': '25', 'Home Behinds': '12 ', 'Home Total': '162', 'Away Team': 'Western Bulldogs', 'Away Goals': '13', 'Away Behinds': '7 ', 'Away Total': '85', 'Venue': 'Domain Stadium', 'Crowd': '37733', 'Match Link': 'http://www.afl.com.au/match-centre/2015/21/wce-v-wb'}]\n",
      "[{'Day': 'Friday', 'Date': '28', 'Month': 'August', 'Year': '2015', 'Round': 'Round 22', 'Time': '7:50\\xa0pm', 'Home Team': 'Geelong', 'Home Goals': '9', 'Home Behinds': '8 ', 'Home Total': '62', 'Away Team': 'Collingwood', 'Away Goals': '17', 'Away Behinds': '8 ', 'Away Total': '110', 'Venue': 'MCG', 'Crowd': '40582', 'Match Link': 'http://www.afl.com.au/match-centre/2015/22/geel-v-coll'}, {'Day': 'Saturday', 'Date': '29', 'Month': 'August', 'Year': '2015', 'Round': 'Round 22', 'Time': '1:45\\xa0pm', 'Home Team': 'Greater Western Sydney', 'Home Goals': '20', 'Home Behinds': '12 ', 'Home Total': '132', 'Away Team': 'Carlton', 'Away Goals': '7', 'Away Behinds': '9 ', 'Away Total': '51', 'Venue': 'Spotless Stadium', 'Crowd': '9538', 'Match Link': 'http://www.afl.com.au/match-centre/2015/22/gws-v-carl'}, {'Day': 'Saturday', 'Date': '29', 'Month': 'August', 'Year': '2015', 'Round': 'Round 22', 'Time': '2:10\\xa0pm', 'Home Team': 'Hawthorn', 'Home Goals': '21', 'Home Behinds': '8 ', 'Home Total': '134', 'Away Team': 'Brisbane Lions', 'Away Goals': '9', 'Away Behinds': '8 ', 'Away Total': '62', 'Venue': 'Aurora Stadium', 'Crowd': '11731', 'Match Link': 'http://www.afl.com.au/match-centre/2015/22/haw-v-bl'}, {'Day': 'Saturday', 'Date': '29', 'Month': 'August', 'Year': '2015', 'Round': 'Round 22', 'Time': '4:35\\xa0pm', 'Home Team': 'North Melbourne', 'Home Goals': '10', 'Home Behinds': '13 ', 'Home Total': '73', 'Away Team': 'Western Bulldogs', 'Away Goals': '14', 'Away Behinds': '12 ', 'Away Total': '96', 'Venue': 'Etihad Stadium', 'Crowd': '37299', 'Match Link': 'http://www.afl.com.au/match-centre/2015/22/nmfc-v-wb'}, {'Day': 'Saturday', 'Date': '29', 'Month': 'August', 'Year': '2015', 'Round': 'Round 22', 'Time': '7:20\\xa0pm', 'Home Team': 'Essendon', 'Home Goals': '7', 'Home Behinds': '5 ', 'Home Total': '47', 'Away Team': 'Richmond', 'Away Goals': '10', 'Away Behinds': '14 ', 'Away Total': '74', 'Venue': 'MCG', 'Crowd': '37864', 'Match Link': 'http://www.afl.com.au/match-centre/2015/22/ess-v-rich'}, {'Day': 'Saturday', 'Date': '29', 'Month': 'August', 'Year': '2015', 'Round': 'Round 22', 'Time': '7:20\\xa0pm', 'Home Team': 'Gold Coast', 'Home Goals': '7', 'Home Behinds': '9 ', 'Home Total': '51', 'Away Team': 'Port Adelaide', 'Away Goals': '12', 'Away Behinds': '16 ', 'Away Total': '88', 'Venue': 'Metricon Stadium', 'Crowd': '9343', 'Match Link': 'http://www.afl.com.au/match-centre/2015/22/gcfc-v-port'}, {'Day': 'Sunday', 'Date': '30', 'Month': 'August', 'Year': '2015', 'Round': 'Round 22', 'Time': '1:10\\xa0pm', 'Home Team': 'Adelaide', 'Home Goals': '19', 'Home Behinds': '12 ', 'Home Total': '126', 'Away Team': 'West Coast', 'Away Goals': '10', 'Away Behinds': '9 ', 'Away Total': '69', 'Venue': 'Adelaide Oval', 'Crowd': '52460', 'Match Link': 'http://www.afl.com.au/match-centre/2015/22/adel-v-wce'}, {'Day': 'Sunday', 'Date': '30', 'Month': 'August', 'Year': '2015', 'Round': 'Round 22', 'Time': '3:20\\xa0pm', 'Home Team': 'St Kilda', 'Home Goals': '4', 'Home Behinds': '14 ', 'Home Total': '38', 'Away Team': 'Sydney', 'Away Goals': '20', 'Away Behinds': '15 ', 'Away Total': '135', 'Venue': 'Etihad Stadium', 'Crowd': '27856', 'Match Link': 'http://www.afl.com.au/match-centre/2015/22/stk-v-syd'}, {'Day': 'Sunday', 'Date': '30', 'Month': 'August', 'Year': '2015', 'Round': 'Round 22', 'Time': '2:40\\xa0pm', 'Home Team': 'Fremantle', 'Home Goals': '17', 'Home Behinds': '6 ', 'Home Total': '108', 'Away Team': 'Melbourne', 'Away Goals': '8', 'Away Behinds': '6 ', 'Away Total': '54', 'Venue': 'Domain Stadium', 'Crowd': '33529', 'Match Link': 'http://www.afl.com.au/match-centre/2015/22/fre-v-melb'}]\n",
      "[{'Day': 'Friday', 'Date': '4', 'Month': 'September', 'Year': '2015', 'Round': 'Round 23', 'Time': '7:50\\xa0pm', 'Home Team': 'Richmond', 'Home Goals': '16', 'Home Behinds': '12 ', 'Home Total': '108', 'Away Team': 'North Melbourne', 'Away Goals': '10', 'Away Behinds': '7 ', 'Away Total': '67', 'Venue': 'Etihad Stadium', 'Crowd': '40461', 'Match Link': 'http://www.afl.com.au/match-centre/2015/23/rich-v-nmfc'}, {'Day': 'Saturday', 'Date': '5', 'Month': 'September', 'Year': '2015', 'Round': 'Round 23', 'Time': '1:05\\xa0pm', 'Home Team': 'Geelong', 'Home Goals': '17', 'Home Behinds': '17 ', 'Home Total': '119', 'Away Team': 'Adelaide', 'Away Goals': '11', 'Away Behinds': '14 ', 'Away Total': '80', 'Venue': 'Simonds Stadium', 'Crowd': '26128', 'Match Link': 'http://www.afl.com.au/match-centre/2015/23/geel-v-adel'}, {'Day': 'Saturday', 'Date': '5', 'Month': 'September', 'Year': '2015', 'Round': 'Round 23', 'Time': '1:45\\xa0pm', 'Home Team': 'Brisbane Lions', 'Home Goals': '19', 'Home Behinds': '16 ', 'Home Total': '130', 'Away Team': 'Western Bulldogs', 'Away Goals': '19', 'Away Behinds': '8 ', 'Away Total': '122', 'Venue': 'Gabba', 'Crowd': '15434', 'Match Link': 'http://www.afl.com.au/match-centre/2015/23/bl-v-wb'}, {'Day': 'Saturday', 'Date': '5', 'Month': 'September', 'Year': '2015', 'Round': 'Round 23', 'Time': '3:20\\xa0pm', 'Home Team': 'Port Adelaide', 'Home Goals': '18', 'Home Behinds': '14 ', 'Home Total': '122', 'Away Team': 'Fremantle', 'Away Goals': '8', 'Away Behinds': '5 ', 'Away Total': '53', 'Venue': 'Adelaide Oval', 'Crowd': '37922', 'Match Link': 'http://www.afl.com.au/match-centre/2015/23/port-v-fre'}, {'Day': 'Saturday', 'Date': '5', 'Month': 'September', 'Year': '2015', 'Round': 'Round 23', 'Time': '4:40\\xa0pm', 'Home Team': 'Hawthorn', 'Home Goals': '17', 'Home Behinds': '11 ', 'Home Total': '113', 'Away Team': 'Carlton', 'Away Goals': '8', 'Away Behinds': '8 ', 'Away Total': '56', 'Venue': 'MCG', 'Crowd': '33182', 'Match Link': 'http://www.afl.com.au/match-centre/2015/23/haw-v-carl'}, {'Day': 'Saturday', 'Date': '5', 'Month': 'September', 'Year': '2015', 'Round': 'Round 23', 'Time': '7:25\\xa0pm', 'Home Team': 'Sydney', 'Home Goals': '19', 'Home Behinds': '13 ', 'Home Total': '127', 'Away Team': 'Gold Coast', 'Away Goals': '9', 'Away Behinds': '10 ', 'Away Total': '64', 'Venue': 'SCG', 'Crowd': '25424', 'Match Link': 'http://www.afl.com.au/match-centre/2015/23/syd-v-gcfc'}, {'Day': 'Saturday', 'Date': '5', 'Month': 'September', 'Year': '2015', 'Round': 'Round 23', 'Time': '5:40\\xa0pm', 'Home Team': 'West Coast', 'Home Goals': '18', 'Home Behinds': '17 ', 'Home Total': '125', 'Away Team': 'St Kilda', 'Away Goals': '4', 'Away Behinds': '6 ', 'Away Total': '30', 'Venue': 'Domain Stadium', 'Crowd': '36165', 'Match Link': 'http://www.afl.com.au/match-centre/2015/23/wce-v-stk'}, {'Day': 'Sunday', 'Date': '6', 'Month': 'September', 'Year': '2015', 'Round': 'Round 23', 'Time': '1:10\\xa0pm', 'Home Team': 'Melbourne', 'Home Goals': '15', 'Home Behinds': '13 ', 'Home Total': '103', 'Away Team': 'Greater Western Sydney', 'Away Goals': '11', 'Away Behinds': '11 ', 'Away Total': '77', 'Venue': 'Etihad Stadium', 'Crowd': '8974', 'Match Link': 'http://www.afl.com.au/match-centre/2015/23/melb-v-gws'}, {'Day': 'Sunday', 'Date': '6', 'Month': 'September', 'Year': '2015', 'Round': 'Round 23', 'Time': '3:20\\xa0pm', 'Home Team': 'Collingwood', 'Home Goals': '14', 'Home Behinds': '8 ', 'Home Total': '92', 'Away Team': 'Essendon', 'Away Goals': '14', 'Away Behinds': '11 ', 'Away Total': '95', 'Venue': 'MCG', 'Crowd': '40270', 'Match Link': 'http://www.afl.com.au/match-centre/2015/23/coll-v-ess'}]\n",
      "[{'Day': 'Friday', 'Date': '11', 'Month': 'September', 'Year': '2015', 'Round': 'Qualifying Finals', 'Time': '6:20\\xa0pm', 'Home Team': 'West Coast', 'Home Goals': '14', 'Home Behinds': '12 ', 'Home Total': '96', 'Away Team': 'Hawthorn', 'Away Goals': '9', 'Away Behinds': '10 ', 'Away Total': '64', 'Venue': 'Domain Stadium', 'Crowd': '42663', 'Match Link': 'http://www.afl.com.au/match-centre/2015/24/wce-v-haw'}, {'Day': 'Saturday', 'Date': '12', 'Month': 'September', 'Year': '2015', 'Round': 'Qualifying Finals', 'Time': '1:20\\xa0pm', 'Home Team': 'Fremantle', 'Home Goals': '10', 'Home Behinds': '9 ', 'Home Total': '69', 'Away Team': 'Sydney', 'Away Goals': '7', 'Away Behinds': '18 ', 'Away Total': '60', 'Venue': 'Domain Stadium', 'Crowd': '40071', 'Match Link': 'http://www.afl.com.au/match-centre/2015/24/fre-v-syd'}]\n",
      "[{'Day': 'Saturday', 'Date': '12', 'Month': 'September', 'Year': '2015', 'Round': 'Elimination Finals', 'Time': '7:20\\xa0pm', 'Home Team': 'Western Bulldogs', 'Home Goals': '14', 'Home Behinds': '18 ', 'Home Total': '102', 'Away Team': 'Adelaide', 'Away Goals': '16', 'Away Behinds': '13 ', 'Away Total': '109', 'Venue': 'MCG', 'Crowd': '60782', 'Match Link': 'http://www.afl.com.au/match-centre/2015/24/wb-v-adel'}, {'Day': 'Sunday', 'Date': '13', 'Month': 'September', 'Year': '2015', 'Round': 'Elimination Finals', 'Time': '3:20\\xa0pm', 'Home Team': 'Richmond', 'Home Goals': '14', 'Home Behinds': '4 ', 'Home Total': '88', 'Away Team': 'North Melbourne', 'Away Goals': '15', 'Away Behinds': '15 ', 'Away Total': '105', 'Venue': 'MCG', 'Crowd': '90186', 'Match Link': 'http://www.afl.com.au/match-centre/2015/24/rich-v-nmfc'}]\n",
      "[{'Day': 'Friday', 'Date': '18', 'Month': 'September', 'Year': '2015', 'Round': 'Semi Finals', 'Time': '7:50\\xa0pm', 'Home Team': 'Hawthorn', 'Home Goals': '21', 'Home Behinds': '9 ', 'Home Total': '135', 'Away Team': 'Adelaide', 'Away Goals': '8', 'Away Behinds': '13 ', 'Away Total': '61', 'Venue': 'MCG', 'Crowd': '70879', 'Match Link': 'http://www.afl.com.au/match-centre/2015/25/haw-v-adel'}, {'Day': 'Saturday', 'Date': '19', 'Month': 'September', 'Year': '2015', 'Round': 'Semi Finals', 'Time': '7:20\\xa0pm', 'Home Team': 'Sydney', 'Home Goals': '7', 'Home Behinds': '9 ', 'Home Total': '51', 'Away Team': 'North Melbourne', 'Away Goals': '11', 'Away Behinds': '11 ', 'Away Total': '77', 'Venue': 'ANZ Stadium', 'Crowd': '31162', 'Match Link': 'http://www.afl.com.au/match-centre/2015/25/syd-v-nmfc'}]\n",
      "[{'Day': 'Friday', 'Date': '25', 'Month': 'September', 'Year': '2015', 'Round': 'Preliminary Finals', 'Time': '6:20\\xa0pm', 'Home Team': 'Fremantle', 'Home Goals': '10', 'Home Behinds': '7 ', 'Home Total': '67', 'Away Team': 'Hawthorn', 'Away Goals': '15', 'Away Behinds': '4 ', 'Away Total': '94', 'Venue': 'Domain Stadium', 'Crowd': '41508', 'Match Link': 'http://www.afl.com.au/match-centre/2015/26/fre-v-haw'}, {'Day': 'Saturday', 'Date': '26', 'Month': 'September', 'Year': '2015', 'Round': 'Preliminary Finals', 'Time': '5:45\\xa0pm', 'Home Team': 'West Coast', 'Home Goals': '10', 'Home Behinds': '20 ', 'Home Total': '80', 'Away Team': 'North Melbourne', 'Away Goals': '7', 'Away Behinds': '13 ', 'Away Total': '55', 'Venue': 'Domain Stadium', 'Crowd': '43080', 'Match Link': 'http://www.afl.com.au/match-centre/2015/26/wce-v-nmfc'}]\n",
      "[{'Day': 'Saturday', 'Date': '3', 'Month': 'October', 'Year': '2015', 'Round': '', 'Time': '2:30\\xa0pm', 'Home Team': 'Hawthorn', 'Home Goals': '16', 'Home Behinds': '11 ', 'Home Total': '107', 'Away Team': 'West Coast', 'Away Goals': '8', 'Away Behinds': '13 ', 'Away Total': '61', 'Venue': 'MCG', 'Crowd': '98633', 'Match Link': 'http://www.afl.com.au/match-centre/2015/27/haw-v-wce'}]\n"
     ]
    }
   ],
   "source": [
    "year = year_list[2]\n",
    "round_no = 4\n",
    "url = find_url(str(year))\n",
    "\n",
    "\n",
    "## ITERATE YEARS\n",
    "\n",
    "req = requests.get(url)\n",
    "soup = BeautifulSoup(req.text, 'html.parser')\n",
    "year_data = soup.find(\"div\", {\"id\": \"mw-content-text\"}).find_all('table', {\"style\": \"width: 100%; background-color: #f1f5fc; border: 2px solid #D0E5F5\"})\n",
    "\n",
    "#print (len(year_data))\n",
    "## ITERATE ROUNDS\n",
    "\n",
    "for i in range (29):\n",
    "\n",
    "    this_round = round_function(i, year_data)\n",
    "    print (this_round)\n"
   ]
  },
  {
   "cell_type": "markdown",
   "metadata": {},
   "source": [
    "### RUNNING"
   ]
  },
  {
   "cell_type": "code",
   "execution_count": 129,
   "metadata": {
    "collapsed": false
   },
   "outputs": [
    {
     "data": {
      "text/html": [
       "<div>\n",
       "<table border=\"1\" class=\"dataframe\">\n",
       "  <thead>\n",
       "    <tr style=\"text-align: right;\">\n",
       "      <th></th>\n",
       "      <th>Away Behinds</th>\n",
       "      <th>Away Goals</th>\n",
       "      <th>Away Team</th>\n",
       "      <th>Away Total</th>\n",
       "      <th>Crowd</th>\n",
       "      <th>Date</th>\n",
       "      <th>Day</th>\n",
       "      <th>Home Behinds</th>\n",
       "      <th>Home Goals</th>\n",
       "      <th>Home Team</th>\n",
       "      <th>Home Total</th>\n",
       "      <th>Match Link</th>\n",
       "      <th>Month</th>\n",
       "      <th>Round</th>\n",
       "      <th>Time</th>\n",
       "      <th>Venue</th>\n",
       "      <th>Year</th>\n",
       "    </tr>\n",
       "  </thead>\n",
       "  <tbody>\n",
       "    <tr>\n",
       "      <th>0</th>\n",
       "      <td>8</td>\n",
       "      <td>11</td>\n",
       "      <td>Geelong</td>\n",
       "      <td>74</td>\n",
       "      <td>27400</td>\n",
       "      <td>22</td>\n",
       "      <td>Friday</td>\n",
       "      <td>8</td>\n",
       "      <td>12</td>\n",
       "      <td>Sydney</td>\n",
       "      <td>80</td>\n",
       "      <td>http://www.afl.com.au/match-centre/2012/13/syd...</td>\n",
       "      <td>June</td>\n",
       "      <td>13</td>\n",
       "      <td>7:50 pm</td>\n",
       "      <td>SCG</td>\n",
       "      <td>2012</td>\n",
       "    </tr>\n",
       "    <tr>\n",
       "      <th>1</th>\n",
       "      <td>6</td>\n",
       "      <td>18</td>\n",
       "      <td>Brisbane Lions</td>\n",
       "      <td>114</td>\n",
       "      <td>20146</td>\n",
       "      <td>23</td>\n",
       "      <td>Saturday</td>\n",
       "      <td>14</td>\n",
       "      <td>7</td>\n",
       "      <td>Western Bulldogs</td>\n",
       "      <td>56</td>\n",
       "      <td>http://www.afl.com.au/match-centre/2012/13/wb-...</td>\n",
       "      <td>June</td>\n",
       "      <td>13</td>\n",
       "      <td>1:40 pm</td>\n",
       "      <td>Etihad Stadium</td>\n",
       "      <td>2012</td>\n",
       "    </tr>\n",
       "    <tr>\n",
       "      <th>2</th>\n",
       "      <td>10</td>\n",
       "      <td>12</td>\n",
       "      <td>West Coast</td>\n",
       "      <td>82</td>\n",
       "      <td>62957</td>\n",
       "      <td>23</td>\n",
       "      <td>Saturday</td>\n",
       "      <td>13</td>\n",
       "      <td>12</td>\n",
       "      <td>Collingwood</td>\n",
       "      <td>85</td>\n",
       "      <td>http://www.afl.com.au/match-centre/2012/13/col...</td>\n",
       "      <td>June</td>\n",
       "      <td>13</td>\n",
       "      <td>4:40 pm</td>\n",
       "      <td>MCG</td>\n",
       "      <td>2012</td>\n",
       "    </tr>\n",
       "    <tr>\n",
       "      <th>3</th>\n",
       "      <td>11</td>\n",
       "      <td>17</td>\n",
       "      <td>Essendon</td>\n",
       "      <td>113</td>\n",
       "      <td>34567</td>\n",
       "      <td>23</td>\n",
       "      <td>Saturday</td>\n",
       "      <td>5</td>\n",
       "      <td>14</td>\n",
       "      <td>Fremantle</td>\n",
       "      <td>89</td>\n",
       "      <td>http://www.afl.com.au/match-centre/2012/13/fre...</td>\n",
       "      <td>June</td>\n",
       "      <td>13</td>\n",
       "      <td>5:40 pm</td>\n",
       "      <td>Patersons Stadium</td>\n",
       "      <td>2012</td>\n",
       "    </tr>\n",
       "    <tr>\n",
       "      <th>4</th>\n",
       "      <td>3</td>\n",
       "      <td>9</td>\n",
       "      <td>Greater Western Sydney</td>\n",
       "      <td>57</td>\n",
       "      <td>20070</td>\n",
       "      <td>24</td>\n",
       "      <td>Sunday</td>\n",
       "      <td>15</td>\n",
       "      <td>20</td>\n",
       "      <td>Melbourne</td>\n",
       "      <td>135</td>\n",
       "      <td>http://www.afl.com.au/match-centre/2012/13/mel...</td>\n",
       "      <td>June</td>\n",
       "      <td>13</td>\n",
       "      <td>3:15 pm</td>\n",
       "      <td>MCG</td>\n",
       "      <td>2012</td>\n",
       "    </tr>\n",
       "    <tr>\n",
       "      <th>5</th>\n",
       "      <td>11</td>\n",
       "      <td>13</td>\n",
       "      <td>Adelaide</td>\n",
       "      <td>89</td>\n",
       "      <td>18866</td>\n",
       "      <td>24</td>\n",
       "      <td>Sunday</td>\n",
       "      <td>19</td>\n",
       "      <td>17</td>\n",
       "      <td>North Melbourne</td>\n",
       "      <td>121</td>\n",
       "      <td>http://www.afl.com.au/match-centre/2012/13/nmf...</td>\n",
       "      <td>June</td>\n",
       "      <td>13</td>\n",
       "      <td>4:40 pm</td>\n",
       "      <td>Etihad Stadium</td>\n",
       "      <td>2012</td>\n",
       "    </tr>\n",
       "  </tbody>\n",
       "</table>\n",
       "</div>"
      ],
      "text/plain": [
       "  Away Behinds Away Goals               Away Team Away Total  Crowd Date  \\\n",
       "0           8          11                 Geelong         74  27400   22   \n",
       "1           6          18          Brisbane Lions        114  20146   23   \n",
       "2          10          12              West Coast         82  62957   23   \n",
       "3          11          17                Essendon        113  34567   23   \n",
       "4           3           9  Greater Western Sydney         57  20070   24   \n",
       "5          11          13                Adelaide         89  18866   24   \n",
       "\n",
       "        Day Home Behinds Home Goals         Home Team Home Total  \\\n",
       "0    Friday           8          12            Sydney         80   \n",
       "1  Saturday          14           7  Western Bulldogs         56   \n",
       "2  Saturday          13          12       Collingwood         85   \n",
       "3  Saturday           5          14         Fremantle         89   \n",
       "4    Sunday          15          20         Melbourne        135   \n",
       "5    Sunday          19          17   North Melbourne        121   \n",
       "\n",
       "                                          Match Link Month  Round     Time  \\\n",
       "0  http://www.afl.com.au/match-centre/2012/13/syd...  June     13  7:50 pm   \n",
       "1  http://www.afl.com.au/match-centre/2012/13/wb-...  June     13  1:40 pm   \n",
       "2  http://www.afl.com.au/match-centre/2012/13/col...  June     13  4:40 pm   \n",
       "3  http://www.afl.com.au/match-centre/2012/13/fre...  June     13  5:40 pm   \n",
       "4  http://www.afl.com.au/match-centre/2012/13/mel...  June     13  3:15 pm   \n",
       "5  http://www.afl.com.au/match-centre/2012/13/nmf...  June     13  4:40 pm   \n",
       "\n",
       "               Venue  Year  \n",
       "0                SCG  2012  \n",
       "1     Etihad Stadium  2012  \n",
       "2                MCG  2012  \n",
       "3  Patersons Stadium  2012  \n",
       "4                MCG  2012  \n",
       "5     Etihad Stadium  2012  "
      ]
     },
     "execution_count": 129,
     "metadata": {},
     "output_type": "execute_result"
    }
   ],
   "source": [
    "df = pd.DataFrame(this_round)\n",
    "df.head(100)"
   ]
  },
  {
   "cell_type": "code",
   "execution_count": null,
   "metadata": {
    "collapsed": true
   },
   "outputs": [],
   "source": []
  }
 ],
 "metadata": {
  "kernelspec": {
   "display_name": "Python 3",
   "language": "python",
   "name": "python3"
  },
  "language_info": {
   "codemirror_mode": {
    "name": "ipython",
    "version": 3
   },
   "file_extension": ".py",
   "mimetype": "text/x-python",
   "name": "python",
   "nbconvert_exporter": "python",
   "pygments_lexer": "ipython3",
   "version": "3.6.0"
  }
 },
 "nbformat": 4,
 "nbformat_minor": 2
}
