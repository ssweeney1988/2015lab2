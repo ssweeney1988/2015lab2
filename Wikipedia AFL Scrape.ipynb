{
 "cells": [
  {
   "cell_type": "code",
   "execution_count": 11,
   "metadata": {
    "collapsed": true
   },
   "outputs": [],
   "source": [
    "## all imports\n",
    "from IPython.display import HTML\n",
    "import chardet\n",
    "import io\n",
    "import numpy as np\n",
    "np.seterr(divide='ignore', invalid='ignore')\n",
    "import os\n",
    "import urllib.request\n",
    "from urllib.request import urlopen\n",
    "from bs4 import BeautifulSoup\n",
    "from time import sleep\n",
    "import requests\n",
    "import operator\n",
    "import socket\n",
    "import _pickle\n",
    "import math\n",
    "import re # regular expressions\n",
    "\n",
    "from pandas import Series\n",
    "import pandas as pd\n",
    "from pandas import DataFrame\n",
    "\n",
    "import matplotlib\n",
    "import matplotlib.pyplot as plt\n",
    "%matplotlib inline\n",
    "plt.rcParams['figure.figsize'] = (20, 10)\n",
    "import json\n",
    "\n",
    "import seaborn as sns\n",
    "sns.set_context(\"talk\")\n",
    "sns.set_style(\"white\")\n",
    "\n",
    "from selenium import webdriver\n",
    "from selenium.webdriver.support.ui import Select\n",
    "from selenium.webdriver.common.keys import Keys\n",
    "from selenium.webdriver.support.ui import WebDriverWait\n",
    "from selenium.webdriver.support import expected_conditions as EC\n",
    "\n",
    "\n",
    "\n",
    "#from secret import *"
   ]
  },
  {
   "cell_type": "code",
   "execution_count": 12,
   "metadata": {
    "collapsed": false
   },
   "outputs": [],
   "source": [
    "def find_url(row):\n",
    "    Base_Link_01= \"https://en.wikipedia.org/wiki/\"\n",
    "    Base_Link_02= \"_AFL_season\"\n",
    "    Variable= row\n",
    "    link = Base_Link_01 + Variable + Base_Link_02\n",
    "    return (link)"
   ]
  },
  {
   "cell_type": "code",
   "execution_count": 150,
   "metadata": {
    "collapsed": false
   },
   "outputs": [
    {
     "name": "stdout",
     "output_type": "stream",
     "text": [
      "Round 1\n",
      "Collingwood\n",
      "<td align=\"right\"><a href=\"/wiki/Collingwood_Football_Club\" title=\"Collingwood Football Club\">Collingwood</a> 5.16 (46)</td>\n",
      "Fremantle\n",
      "<td style=\"font-weight: bold;\"><a href=\"/wiki/Fremantle_Football_Club\" title=\"Fremantle Football Club\">Fremantle</a> 17.14 (116)</td>\n",
      "Etihad Stadium\n",
      "tbc\n",
      "http://www.afl.com.au/match-centre/2014/1/coll-v-fre\n"
     ]
    }
   ],
   "source": [
    "year = 2014\n",
    "url = find_url(str(year))\n",
    "#print (url)\n",
    "\n",
    "req = requests.get(url)\n",
    "soup = BeautifulSoup(req.text, 'html.parser')\n",
    "rounds = soup.find(\"div\", {\"id\": \"mw-content-text\"}).find_all('table', {\"cellspacing\": \"0\"})\n",
    "\n",
    "## Sort by Round\n",
    "games= rounds[0].find_all('tr')\n",
    "round_head = games[1].find('th').string\n",
    "print (round_head) \n",
    "\n",
    "\n",
    "\n",
    "round_matchday = games[2:]\n",
    "\n",
    "#print (round_matchday[3])\n",
    "\n",
    "match_number= 0\n",
    "test = round_matchday[match_number].find_all('td')\n",
    "\n",
    "\n",
    "\n",
    "time_date = test[0].string\n",
    "\n",
    "home_team = test[1].find('a').string\n",
    "home_score = test[1]\n",
    "print (home_team)\n",
    "print (home_score)\n",
    "#print (find)\n",
    "\n",
    "away_team = test[3].find('a').string\n",
    "away_score = test[3]\n",
    "print (away_team)\n",
    "print (away_score)\n",
    "\n",
    "venue = test[4].find('a').string\n",
    "venue_crowd= \"tbc\"\n",
    "print (venue)\n",
    "print (venue_crowd)\n",
    "\n",
    "match_report_url = test[5].find('a')['href']\n",
    "print (match)\n",
    "\n",
    "\n",
    "#print (match_report)\n",
    "#match_report_url= match_report.find('href')\n",
    "#print (match_report_url)\n",
    "\n",
    "#print (match_report_url)\n",
    "\n",
    "#for game in round_matchday:\n",
    "    #first_test = game\n",
    "    #print (game)\n",
    "    #print (\"break\")\n",
    "#game_zero = round_matchday[4]\n",
    "#print (game_zero)\n",
    "\n",
    "\n",
    "\n",
    "                                          \n",
    "                                          \n",
    "#for i in round_matchday:\n",
    "    #print (i[0])\n",
    "\n",
    "## Sort Within Round\n",
    "\n",
    "\n",
    "\n",
    "\n",
    "\n",
    "\n",
    "#print (round_heading)\n",
    "\n",
    "\n",
    "#game rounds = \n",
    "#for i, d in enumerate(rounds):\n",
    "    #round_number = i\n",
    "    #round_heading =  rounds[round_number].find_all('tr')[1].find('th').string\n",
    "    #print (round_heading)\n",
    "    #games_list = rounds[d]\n",
    "\n",
    "#print (round_heading)\n",
    "\n",
    "    # Games List\n",
    "    #games_list = rounds[1]\n",
    "    #print (games_list)\n"
   ]
  },
  {
   "cell_type": "code",
   "execution_count": null,
   "metadata": {
    "collapsed": true
   },
   "outputs": [],
   "source": [
    "[ {\n",
    "    \"stats\" : {\n",
    "      \"averages\" : {\n",
    "        \"goals\" : 14.5,\n",
    "        \"behinds\" : 11.2,\n",
    "        \"superGoals\" : null,\n",
    "        \"kicks\" : 190.0,\n",
    "        \"handballs\" : 94.3,\n",
    "        \"disposals\" : 284.3,\n",
    "        \"marks\" : 72.0,\n",
    "        \"bounces\" : 24.4,\n",
    "        \"tackles\" : 38.8,\n",
    "\n",
    "          \n",
    "                      this_round = []\n",
    "                        this_round.append(stats)\n",
    "mega_list = []\n",
    "                mega_list.extend(data)"
   ]
  },
  {
   "cell_type": "code",
   "execution_count": null,
   "metadata": {
    "collapsed": true
   },
   "outputs": [],
   "source": [
    " di_stations= {\n",
    "         \"Brisbane\": \"334797792&p_stn_num=040913\",\n",
    "         \"Melbourne\": \"1487214643&p_stn_num=086232\","
   ]
  },
  {
   "cell_type": "code",
   "execution_count": null,
   "metadata": {
    "collapsed": true
   },
   "outputs": [],
   "source": [
    "# RETURN THE WEATHER \n",
    "def find_rain(row):\n",
    "    req = requests.get(row.URL)\n",
    "    soup = BeautifulSoup(req.text, 'html.parser')\n",
    "    \n",
    "    # FIND ALL TR TAGS IN TBODY BESIDES ONES WITH A TR CLASS NOT EQUAL TO 'GRAPHCELL'\n",
    "    Relevent_Data = soup.find('tbody').find_all('tr', class_=lambda x: x != 'graphcell')\n",
    "\n",
    "    # CALL THE RELEVENT DAY TR LIST WITH INDEX NUMBER (EG. 3rd = index 2)\n",
    "    Day_Rain = Relevent_Data[(int(row.Day) - 1)]\n",
    "    \n",
    "    # FIND ALL THE 'TD' OR MONTH TAGS FOR A GIVEN DAY OF THE MONTH\n",
    "    All_Months_Rain = Day_Rain.find_all('td')\n",
    "    \n",
    "    # ASSIGN THE MONTH OF A GIVEN ROW\n",
    "    Month_Value = (int(row.Month) - 1)\n",
    "\n",
    "    # CALL THE RELEVENT MONTH TD LIST WITH INDEX NUMBER (note. we have already created index with necessary index)\n",
    "    Rain = (All_Months_Rain[Month_Value].string)\n",
    "    \n",
    "    return Rain\n",
    "    #print (Rain)\n"
   ]
  }
 ],
 "metadata": {
  "kernelspec": {
   "display_name": "Python 3",
   "language": "python",
   "name": "python3"
  },
  "language_info": {
   "codemirror_mode": {
    "name": "ipython",
    "version": 3
   },
   "file_extension": ".py",
   "mimetype": "text/x-python",
   "name": "python",
   "nbconvert_exporter": "python",
   "pygments_lexer": "ipython3",
   "version": "3.6.0"
  }
 },
 "nbformat": 4,
 "nbformat_minor": 2
}
