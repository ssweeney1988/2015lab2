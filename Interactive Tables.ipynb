{
 "cells": [
  {
   "cell_type": "code",
   "execution_count": 29,
   "metadata": {
    "collapsed": true
   },
   "outputs": [],
   "source": [
    "import pandas as pd\n",
    "import numpy as np\n",
    "import matplotlib as mpl # optional (here)\n",
    "import matplotlib.pyplot as plt\n",
    "import seaborn as sns # Optional, will only affect the color of bars and the grid\n",
    "\n",
    "from ipywidgets import widgets, interactive\n",
    "from io import StringIO\n"
   ]
  },
  {
   "cell_type": "code",
   "execution_count": 30,
   "metadata": {
    "collapsed": true
   },
   "outputs": [],
   "source": [
    "testdata=StringIO(\"\"\"Year,Sex,Area,Count\n",
    "2015,W,Dhaka,6\n",
    "2015,M,Dhaka,3\n",
    "2015,W,Khulna,1\n",
    "2015,M,Khulna,8\n",
    "2014,M,Dhaka,13\n",
    "2014,W,Dhaka,20\n",
    "2014,M,Khulna,9\n",
    "2014,W,Khulna,6\n",
    "2013,W,Dhaka,11\n",
    "2013,M,Dhaka,2\n",
    "2013,W,Khulna,8\n",
    "2013,M,Khulna,5\n",
    "2012,M,Dhaka,12\n",
    "2012,W,Dhaka,4\n",
    "2012,W,Khulna,7\n",
    "2012,M,Khulna,1\n",
    "    \"\"\")\n",
    "\n",
    "df = pd.read_csv(testdata, sep=\",\")"
   ]
  },
  {
   "cell_type": "code",
   "execution_count": 31,
   "metadata": {
    "collapsed": false
   },
   "outputs": [
    {
     "data": {
      "text/html": [
       "<div>\n",
       "<table border=\"1\" class=\"dataframe\">\n",
       "  <thead>\n",
       "    <tr style=\"text-align: right;\">\n",
       "      <th></th>\n",
       "      <th>Year</th>\n",
       "      <th>Sex</th>\n",
       "      <th>Area</th>\n",
       "      <th>Count</th>\n",
       "    </tr>\n",
       "  </thead>\n",
       "  <tbody>\n",
       "    <tr>\n",
       "      <th>0</th>\n",
       "      <td>2015</td>\n",
       "      <td>W</td>\n",
       "      <td>Dhaka</td>\n",
       "      <td>6</td>\n",
       "    </tr>\n",
       "    <tr>\n",
       "      <th>1</th>\n",
       "      <td>2015</td>\n",
       "      <td>M</td>\n",
       "      <td>Dhaka</td>\n",
       "      <td>3</td>\n",
       "    </tr>\n",
       "    <tr>\n",
       "      <th>2</th>\n",
       "      <td>2015</td>\n",
       "      <td>W</td>\n",
       "      <td>Khulna</td>\n",
       "      <td>1</td>\n",
       "    </tr>\n",
       "    <tr>\n",
       "      <th>3</th>\n",
       "      <td>2015</td>\n",
       "      <td>M</td>\n",
       "      <td>Khulna</td>\n",
       "      <td>8</td>\n",
       "    </tr>\n",
       "    <tr>\n",
       "      <th>4</th>\n",
       "      <td>2014</td>\n",
       "      <td>M</td>\n",
       "      <td>Dhaka</td>\n",
       "      <td>13</td>\n",
       "    </tr>\n",
       "  </tbody>\n",
       "</table>\n",
       "</div>"
      ],
      "text/plain": [
       "   Year Sex    Area  Count\n",
       "0  2015   W   Dhaka      6\n",
       "1  2015   M   Dhaka      3\n",
       "2  2015   W  Khulna      1\n",
       "3  2015   M  Khulna      8\n",
       "4  2014   M   Dhaka     13"
      ]
     },
     "execution_count": 31,
     "metadata": {},
     "output_type": "execute_result"
    }
   ],
   "source": [
    "df.head()"
   ]
  },
  {
   "cell_type": "code",
   "execution_count": 32,
   "metadata": {
    "collapsed": true
   },
   "outputs": [],
   "source": [
    "start_year = widgets.BoundedFloatText(\n",
    "    value=df.Year.min(),\n",
    "    min=df.Year.min(),\n",
    "    max=df.Year.max(),\n",
    "    step=1,\n",
    "    description='Start Year:',\n",
    "    disabled=False,\n",
    "    color='black'\n",
    ")\n",
    "end_year = widgets.BoundedFloatText(\n",
    "    value=df.Year.max(),\n",
    "    min=df.Year.min(),\n",
    "    max=df.Year.max(),\n",
    "    step=1,\n",
    "    description='End Year:',\n",
    "    disabled=False,\n",
    "    color='black'\n",
    ")"
   ]
  },
  {
   "cell_type": "code",
   "execution_count": 36,
   "metadata": {
    "collapsed": true
   },
   "outputs": [],
   "source": [
    "Data_List_2 = ['TOTALPOSSESSIONS', 'CONTESTEDPOSSESSIONS', 'UNCONTESTEDPOSSESSIONS','DISPOSALS', 'DISPOSALEFFICIENCY', \n",
    "            'KICKS','HANDBALLS','MARKS', 'CONTESTEDMARKS', 'MARKSINSIDE50', 'TACKLES', 'TACKLESINSIDE50', \n",
    "             'CENTRECLEARANCES', 'INSIDE50S','ONEPERCENTERS', 'REBOUND50S','STOPPAGECLEARANCES', 'TOTALCLEARANCES', \n",
    "             'CROWD']"
   ]
  },
  {
   "cell_type": "code",
   "execution_count": 42,
   "metadata": {
    "collapsed": false
   },
   "outputs": [],
   "source": [
    "# Make a dropdown to select the Area, or \"All\"\n",
    "area = widgets.Dropdown(\n",
    "    options=['All'] + list(df['Area'].unique()),\n",
    "    #options=['All'] + list(df['Area'].unique()),\n",
    "    value='All',\n",
    "    description='Area:',\n",
    ")\n",
    "\n",
    "#Dropdown(options=['Scrambled', 'Sunny side up', 'Over easy'])], layout=form_item_layout),\n"
   ]
  },
  {
   "cell_type": "code",
   "execution_count": 34,
   "metadata": {
    "collapsed": false
   },
   "outputs": [],
   "source": [
    "def plotit(area,  start_year,end_year ):\n",
    "    \"\"\"\n",
    "    Filters and plot the dataframe as a stacked bar chart of count of Male versus Women\n",
    "\n",
    "    Args:\n",
    "    -----\n",
    "        * area (str): the area to filter on, or \"All\" to display all Areas\n",
    "\n",
    "        * start_year, end_year (int, as float): the start and ends years, inclusive\n",
    "\n",
    "        Note: the dataframe to plot is globally defined here as `df`\n",
    "\n",
    "    Returns:\n",
    "    --------\n",
    "        A matplotlib stacked bar chart\n",
    "\n",
    "\n",
    "    \"\"\"\n",
    "    \n",
    "\n",
    "    \n",
    "    if start_year > end_year:\n",
    "        print(\"You must select a start year that is prior to end year\")\n",
    "    else:\n",
    "        df2 = df.copy()\n",
    "        if area != 'All':\n",
    "            df2 = df2[df2.Area == area]\n",
    "\n",
    "        # Filter between min and max years (inclusive)\n",
    "        df2 = df2[(df2.Year >= start_year) & (df2.Year <= end_year)]\n",
    "\n",
    "\n",
    "        # Plot it (only if there's data to plot)\n",
    "        if len(df2) > 0:\n",
    "            df2.groupby(['Year', 'Sex']).sum()['Count'].unstack().plot(kind='bar', stacked=True, title=\"Area = {}\".format(area))\n",
    "            plt.show();\n",
    "        else:\n",
    "            print(\"No data to show for current selection\")"
   ]
  },
  {
   "cell_type": "code",
   "execution_count": 35,
   "metadata": {
    "collapsed": false
   },
   "outputs": [
    {
     "data": {
      "image/png": "[encoded data removed]",
      "text/plain": [
       "<matplotlib.figure.Figure at 0xdd60ba8>"
      ]
     },
     "metadata": {},
     "output_type": "display_data"
    }
   ],
   "source": [
    "interactive(plotit, area=area, start_year=start_year, end_year=end_year)"
   ]
  },
  {
   "cell_type": "code",
   "execution_count": null,
   "metadata": {
    "collapsed": true
   },
   "outputs": [],
   "source": [
    "def make_graphfunction(input_data, comparison_data, teamname):  "
   ]
  },
  {
   "cell_type": "code",
   "execution_count": null,
   "metadata": {
    "collapsed": true
   },
   "outputs": [],
   "source": [
    "Rain_List = ['Rain', 'No_Rain']\n",
    "\n",
    "Team_List = ['All', 'GWS Giants', 'Port Adelaide', 'Richmond', 'Hawthorn', 'Melbourne',\n",
    "           'Collingwood', 'St Kilda', 'Gold Coast Suns', 'Carlton',\n",
    "           'Geelong Cats', 'Western Bulldogs', 'West Coast Eagles',\n",
    "           'Adelaide Crows', 'North Melbourne', 'Essendon', 'Fremantle',\n",
    "           'Sydney Swans', 'Brisbane Lions']\n",
    "\n",
    "Year_List = ['All', '2001', '2002', '2003', '2004, 2005', '2006', '2007', '2008', '2009', '2010', \n",
    "             '2011', '2012', '2013', '2014', '2015', '2016', '2017']\n",
    "Data_List = ['TOTALPOSSESSIONS', 'CONTESTEDPOSSESSIONS', 'UNCONTESTEDPOSSESSIONS','DISPOSALS', 'DISPOSALEFFICIENCY', \n",
    "            'KICKS','HANDBALLS','MARKS', 'CONTESTEDMARKS', 'MARKSINSIDE50', 'TACKLES', 'TACKLESINSIDE50', \n",
    "             'CENTRECLEARANCES', 'INSIDE50S','ONEPERCENTERS', 'REBOUND50S','STOPPAGECLEARANCES', 'TOTALCLEARANCES', \n",
    "             'CROWD']"
   ]
  },
  {
   "cell_type": "code",
   "execution_count": null,
   "metadata": {
    "collapsed": true
   },
   "outputs": [],
   "source": [
    "input_data = widgets.Dropdown(\n",
    "    options= Data_List_2,\n",
    "    value='TOTALPOSSESSIONS',\n",
    "    description='SORT BY DATATYPE',\n",
    ")\n",
    "\n",
    "comparison_data = widgets.Dropdown(\n",
    "    options=['TIME'] + Data_List,\n",
    "    value= 'TIME',\n",
    "    description='COMPARE WITH DATATYPE',\n",
    ")\n",
    "\n",
    "teamname = widgets.Dropdown(\n",
    "    options= Team_List,\n",
    "    value= 'All',\n",
    "    description='COMPARE BY TEAM',\n",
    ")"
   ]
  },
  {
   "cell_type": "code",
   "execution_count": null,
   "metadata": {
    "collapsed": true
   },
   "outputs": [],
   "source": [
    "interactive(make_graphfunction, input_data=input_data, comparison_data = comparison_data, teamname = teamname)"
   ]
  }
 ],
 "metadata": {
  "kernelspec": {
   "display_name": "Python 3",
   "language": "python",
   "name": "python3"
  },
  "language_info": {
   "codemirror_mode": {
    "name": "ipython",
    "version": 3
   },
   "file_extension": ".py",
   "mimetype": "text/x-python",
   "name": "python",
   "nbconvert_exporter": "python",
   "pygments_lexer": "ipython3",
   "version": "3.6.0"
  },
  "widgets": {
   "state": {
    "8d81c9c8bbc8492fac0d39586ab116ad": {
     "views": [
      {
       "cell_index": 6
      }
     ]
    },
    "c31ab83d017340ba90f3fa89a8439e71": {
     "views": [
      {
       "cell_index": 6
      }
     ]
    },
    "cf7e78196fbb49dead2a6012e95f1532": {
     "views": [
      {
       "cell_index": 6
      }
     ]
    }
   },
   "version": "1.2.0"
  }
 },
 "nbformat": 4,
 "nbformat_minor": 2
}
